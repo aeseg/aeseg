{
 "cells": [
  {
   "cell_type": "markdown",
   "metadata": {
    "toc": true
   },
   "source": [
    "<h1>Table of Contents<span class=\"tocSkip\"></span></h1>\n",
    "<div class=\"toc\"><ul class=\"toc-item\"><li><span><a href=\"#Import\" data-toc-modified-id=\"Import-1\"><span class=\"toc-item-num\">1&nbsp;&nbsp;</span>Import</a></span></li><li><span><a href=\"#To-load-the-data\" data-toc-modified-id=\"To-load-the-data-2\"><span class=\"toc-item-num\">2&nbsp;&nbsp;</span>To load the data</a></span></li><li><span><a href=\"#Load-the-strong-annotation-and-the-ground-thruth\" data-toc-modified-id=\"Load-the-strong-annotation-and-the-ground-thruth-3\"><span class=\"toc-item-num\">3&nbsp;&nbsp;</span>Load the strong annotation and the ground thruth</a></span></li><li><span><a href=\"#Prune-using-ground-truth-(ORACLE)\" data-toc-modified-id=\"Prune-using-ground-truth-(ORACLE)-4\"><span class=\"toc-item-num\">4&nbsp;&nbsp;</span>Prune using ground truth (ORACLE)</a></span></li><li><span><a href=\"#Display-function\" data-toc-modified-id=\"Display-function-5\"><span class=\"toc-item-num\">5&nbsp;&nbsp;</span>Display function</a></span></li><li><span><a href=\"#Manual\" data-toc-modified-id=\"Manual-6\"><span class=\"toc-item-num\">6&nbsp;&nbsp;</span>Manual</a></span></li><li><span><a href=\"#Parametric\" data-toc-modified-id=\"Parametric-7\"><span class=\"toc-item-num\">7&nbsp;&nbsp;</span>Parametric</a></span><ul class=\"toc-item\"><li><span><a href=\"#Absolute-Threshold\" data-toc-modified-id=\"Absolute-Threshold-7.1\"><span class=\"toc-item-num\">7.1&nbsp;&nbsp;</span>Absolute Threshold</a></span></li><li><span><a href=\"#Hysteresis\" data-toc-modified-id=\"Hysteresis-7.2\"><span class=\"toc-item-num\">7.2&nbsp;&nbsp;</span>Hysteresis</a></span></li><li><span><a href=\"#Derivative\" data-toc-modified-id=\"Derivative-7.3\"><span class=\"toc-item-num\">7.3&nbsp;&nbsp;</span>Derivative</a></span></li></ul></li></ul></div>"
   ]
  },
  {
   "cell_type": "markdown",
   "metadata": {
    "collapsed": true
   },
   "source": [
    "# Import"
   ]
  },
  {
   "cell_type": "code",
   "execution_count": 22,
   "metadata": {},
   "outputs": [
    {
     "name": "stdout",
     "output_type": "stream",
     "text": [
      "Uninstalling sed-tool-0.0.4:\r\n",
      "  Successfully uninstalled sed-tool-0.0.4\r\n"
     ]
    }
   ],
   "source": [
    "!pip uninstall sed_tool -y"
   ]
  },
  {
   "cell_type": "code",
   "execution_count": 30,
   "metadata": {
    "ExecuteTime": {
     "end_time": "2019-04-12T07:32:19.550030Z",
     "start_time": "2019-04-12T07:32:19.509653Z"
    }
   },
   "outputs": [
    {
     "name": "stdout",
     "output_type": "stream",
     "text": [
      "The autoreload extension is already loaded. To reload it, use:\n",
      "  %reload_ext autoreload\n"
     ]
    }
   ],
   "source": [
    "%load_ext autoreload\n",
    "%autoreload 2\n",
    "\n",
    "import numpy as np\n",
    "import time\n",
    "import os\n",
    "import pickle\n",
    "import matplotlib.pyplot as plt\n",
    "import dcase_util as dcu\n",
    "\n",
    "from sed_tool.Encoder import Encoder\n",
    "from sed_tool.optimizers import GenOptimizer, DichotomicOptimizer\n",
    "from sed_tool.sed_tools import eb_evaluator\n",
    "\n",
    "import numpy as np\n",
    "\n",
    "import matplotlib.pyplot as plt\n",
    "\n",
    "# import jtplot submodule from jupyterthemes\n",
    "from jupyterthemes import jtplot\n",
    "jtplot.style(theme=\"onedork\", context=\"notebook\", grid=True)\n",
    "jtplot.base_context[\"grid.linewidth\"] = 0.2"
   ]
  },
  {
   "cell_type": "markdown",
   "metadata": {},
   "source": [
    "# To load the data"
   ]
  },
  {
   "cell_type": "code",
   "execution_count": 2,
   "metadata": {
    "ExecuteTime": {
     "end_time": "2019-04-12T07:17:01.766904Z",
     "start_time": "2019-04-12T07:17:01.732566Z"
    },
    "code_folding": [
     97,
     103
    ]
   },
   "outputs": [],
   "source": [
    "import numpy as np\n",
    "import os\n",
    "\n",
    "class_correspondance = {\"Alarm_bell_ringing\": 0, \"Speech\": 1, \"Dog\": 2, \"Cat\": 3, \"Vacuum_cleaner\": 4,\n",
    "                        \"Dishes\": 5, \"Frying\": 6, \"Electric_shaver_toothbrush\": 7, \"Blender\": 8, \"Running_water\": 9}\n",
    "\n",
    "\n",
    "def load_test_mil():\n",
    "    filenames = np.load(os.path.join(\"data\", \"metadata\", \"X_test_fn.npy\"))\n",
    "    strong_prediction = np.load(os.path.join(\"data\", \"strong_prediction\", \"mil_cos_test.npy\"))\n",
    "    \n",
    "    return strong_prediction, filenames\n",
    "\n",
    "def load_eval_mil():\n",
    "    filenames = np.load(os.path.join(\"data\", \"metadata\", \"X_eval_fn.npy\"))\n",
    "    strong_prediction = np.load(os.path.join(\"data\", \"strong_prediction\", \"mil_cos_eval.npy\"))\n",
    "    \n",
    "    return strong_prediction, filenames\n",
    "\n",
    "def load_test_baseline():\n",
    "    filenames = np.load(os.path.join(\"data\", \"metadata\", \"X_test_fn.npy\"))\n",
    "    strong_prediction = np.load(os.path.join(\"data\",\"strong_prediction\", \"baseline_test.npy\"))\n",
    "\n",
    "    return strong_prediction, filenames\n",
    "\n",
    "def load_eval_baseline():\n",
    "    filenames = np.load(os.path.join(\"data\", \"metadata\", \"X_eval_fn.npy\"))\n",
    "    strong_prediction = np.load(os.path.join(\"data\",\"strong_prediction\", \"baseline_eval.npy\"))\n",
    "\n",
    "    return strong_prediction, filenames\n",
    "\n",
    "def load_mil_at_test():\n",
    "    data = np.load(os.path.join(\"data\", \"weak_prediction\", \"mil_at_test.pkl\"))\n",
    "    weak_prediction = data[\"all_test_preds\"]\n",
    "    filenames = data[\"featTestList\"]\n",
    "    \n",
    "    return weak_prediction, filenames\n",
    "    \n",
    "def load_mil_at_eval():\n",
    "    data = np.load(os.path.join(\"data\", \"weak_prediction\", \"mil_at_eval.pkl\"))\n",
    "    weak_prediction = data[\"all_eval_preds\"]\n",
    "    filenames = data[\"featEvalList\"]\n",
    "    \n",
    "    return weak_prediction, filenames\n",
    "    \n",
    "\n",
    "def load_test_ground_truth():\n",
    "    test_unique_names = np.load(os.path.join(\"data\", \"metadata\", \"X_test_fn.npy\"))\n",
    "\n",
    "    with open(os.path.join(\"data\", \"metadata\", \"test.csv\"), \"r\") as f:\n",
    "        test_metadata = f.read().splitlines()[1:]\n",
    "    test_metadata = np.array([info.split(\"\\t\") for info in test_metadata])\n",
    "    test_medata_filenames = np.unique(test_metadata[:, 0])\n",
    "\n",
    "    y_test = []\n",
    "    for name in test_medata_filenames:\n",
    "        # remove  missing files\n",
    "        if name not in test_unique_names:\n",
    "            continue\n",
    "\n",
    "        # create a tag level prediction (aka weak labels)\n",
    "        output = [0] * 10\n",
    "\n",
    "        for d in test_metadata:\n",
    "            if d[0] == name:\n",
    "                output[class_correspondance[d[-1]]] = 1\n",
    "        y_test.append(output)\n",
    "    y_test = np.array(y_test)\n",
    "\n",
    "    return y_test, test_unique_names\n",
    "\n",
    "def load_eval_ground_truth():\n",
    "    eval_unique_names = np.load(os.path.join(\"data\", \"metadata\", \"X_eval_fn.npy\"))\n",
    "\n",
    "    with open(os.path.join(\"data\", \"metadata\", \"eval.csv\"), \"r\") as f:\n",
    "        eval_metadata = f.read().splitlines()[1:]\n",
    "    eval_metadata = [info.split(\"\\t\") for info in eval_metadata]\n",
    "    eval_medata_filenames = np.unique([i[0] for i in eval_metadata])\n",
    "\n",
    "    y_eval = []\n",
    "    for name in eval_medata_filenames:\n",
    "        # remove  missing files\n",
    "        if name not in eval_unique_names:\n",
    "            continue\n",
    "\n",
    "        # create a tag level prediction (aka weak labels)\n",
    "        output = [0] * 10\n",
    "\n",
    "        for d in eval_metadata:\n",
    "            if d[0] == name:\n",
    "                if len(d) == 4:\n",
    "                    output[class_correspondance[d[-1]]] = 1\n",
    "        y_eval.append(output)\n",
    "    y_eval = np.array(y_eval)\n",
    "\n",
    "    return y_eval, eval_unique_names\n",
    "\n",
    "def load_test_strong_ground_truth():\n",
    "    # test ground truth\n",
    "    with open(os.path.join(\"data\", \"metadata\", \"test.csv\"), \"r\") as f:\n",
    "        strong_y_true = f.read().splitlines()[1:]\n",
    "    return strong_y_true\n",
    "\n",
    "def load_eval_strong_ground_truth():\n",
    "    # test ground truth\n",
    "    with open(os.path.join(\"data\", \"metadata\", \"eval.csv\"), \"r\") as f:\n",
    "        strong_y_true = f.read().splitlines()[1:]\n",
    "    return strong_y_true"
   ]
  },
  {
   "cell_type": "markdown",
   "metadata": {},
   "source": [
    "# Load the strong annotation and the ground thruth"
   ]
  },
  {
   "cell_type": "code",
   "execution_count": 3,
   "metadata": {
    "ExecuteTime": {
     "end_time": "2019-04-12T07:17:02.102002Z",
     "start_time": "2019-04-12T07:17:01.768551Z"
    }
   },
   "outputs": [],
   "source": [
    "test_strong_prediction, test_filenames = load_test_mil()\n",
    "eval_strong_prediction, eval_filenames = load_eval_mil()\n",
    "# test_strong_prediction, test_filenames = load_test_baseline()\n",
    "# eval_strong_prediction, eval_filenames = load_eval_baseline()\n",
    "\n",
    "# test & eval STRONG PREDICTION ground truth\n",
    "test_strong_y_true = load_test_strong_ground_truth()\n",
    "eval_strong_y_true = load_eval_strong_ground_truth()\n",
    "\n",
    "# test & eval WEAK PREDICTION ground truth ORACLE\n",
    "test_gt, test_gt_filenames = load_test_ground_truth()\n",
    "eval_gt, eval_gt_filenames = load_eval_ground_truth()\n",
    "\n",
    "# test & eval WEAK PREDICTION AT\n",
    "test_at, test_at_filenames = load_mil_at_test()\n",
    "eval_at, eval_at_filenames = load_mil_at_eval()"
   ]
  },
  {
   "cell_type": "code",
   "execution_count": 4,
   "metadata": {
    "ExecuteTime": {
     "end_time": "2019-04-12T07:17:02.144243Z",
     "start_time": "2019-04-12T07:17:02.104504Z"
    }
   },
   "outputs": [],
   "source": [
    "def reorder(to_reorder_data, to_reorder_filenames):\n",
    "    # create a dict where the key are the filenames and the values the pred\n",
    "    to_reorder_tmp = dict(zip(to_reorder_filenames, to_reorder_data))\n",
    "    \n",
    "    # sort and create a list of tuple (key, pred)\n",
    "    sort = sorted(to_reorder_tmp.items(), key=lambda kv: kv[0])\n",
    "    filenames = np.asarray([t[0] for t in sort])\n",
    "    data = np.asarray([t[1] for t in sort])\n",
    "    \n",
    "    return data, filenames\n",
    "\n",
    "test_at, test_at_filenames = reorder(test_at, test_at_filenames)\n",
    "eval_at, eval_at_filenames = reorder(eval_at, eval_at_filenames)\n",
    "\n",
    "test_gt, test_gt_filenames = reorder(test_gt, test_gt_filenames)\n",
    "eval_gt, eval_gt_filenames = reorder(eval_gt, eval_gt_filenames)\n",
    "\n",
    "test_strong_prediction, test_filenames = reorder(test_strong_prediction, test_filenames)\n",
    "eval_strong_prediction, eval_filenames = reorder(eval_strong_prediction, eval_filenames)\n"
   ]
  },
  {
   "cell_type": "code",
   "execution_count": 5,
   "metadata": {
    "ExecuteTime": {
     "end_time": "2019-04-12T07:17:02.209746Z",
     "start_time": "2019-04-12T07:17:02.148337Z"
    }
   },
   "outputs": [
    {
     "data": {
      "text/plain": [
       "(0.02918718, 0.09151293, (279, 431, 10))"
      ]
     },
     "execution_count": 5,
     "metadata": {},
     "output_type": "execute_result"
    }
   ],
   "source": [
    "test_strong_prediction.mean(), test_strong_prediction.std(), test_strong_prediction.shape"
   ]
  },
  {
   "cell_type": "code",
   "execution_count": 6,
   "metadata": {
    "ExecuteTime": {
     "end_time": "2019-04-12T07:17:03.448483Z",
     "start_time": "2019-04-12T07:17:02.212324Z"
    },
    "hide_input": true,
    "scrolled": true
   },
   "outputs": [
    {
     "name": "stdout",
     "output_type": "stream",
     "text": [
      "(279, 10)\n"
     ]
    },
    {
     "data": {
      "image/png": "[encoded data removed]",
      "text/plain": [
       "<Figure size 1440x432 with 1 Axes>"
      ]
     },
     "metadata": {
      "needs_background": "dark"
     },
     "output_type": "display_data"
    },
    {
     "name": "stdout",
     "output_type": "stream",
     "text": [
      "previous : \n",
      "[0.03250058 0.04318672 0.00977716 0.0072976  0.01828468 0.00328659\n",
      " 0.03058764 0.0157005  0.02781211 0.10343817]\n",
      "(10,)\n",
      "new : \n",
      "[0.03250057 0.04318671 0.00977717 0.0072976  0.01828469 0.00328659\n",
      " 0.03058764 0.01570049 0.02781212 0.10343817]\n",
      "(10,)\n"
     ]
    }
   ],
   "source": [
    "total_thresholds = []\n",
    "for clip in test_strong_prediction:\n",
    "    total_thresholds.append([curve.mean() for curve in clip.T])\n",
    "\n",
    "total_thresholds = np.array(total_thresholds)\n",
    "print(total_thresholds.shape)\n",
    "test = total_thresholds.T[0]\n",
    "\n",
    "plt.figure(figsize=(20, 6))\n",
    "plt.plot(test, color=\"C0\", label=\"original\")\n",
    "\n",
    "count = 0\n",
    "for i, x in enumerate(test):\n",
    "    if x != 0:\n",
    "        if count == 0:\n",
    "            plt.plot([i], [x], marker=\".\", color=\"red\", label=\"only positive\")\n",
    "        else:\n",
    "            plt.plot([i], [x], marker=\".\", color=\"red\")\n",
    "        count += 1\n",
    "\n",
    "        \n",
    "orig_mean = test.mean()\n",
    "new_mean = test[test > 0].mean()\n",
    "orig_median = test[len(test) // 2]\n",
    "new_median = test[test > 0][len(test[test > 0]) // 2]\n",
    "\n",
    "plt.plot([0, 279], [orig_mean, orig_mean], color = \"C1\", alpha=0.5, label=\"original mean : %s\" % orig_mean)\n",
    "plt.plot([0, 279], [new_mean, new_mean], color = \"C2\", alpha=0.5, label=\"positive mean : %s\" % new_mean)\n",
    "plt.plot([0, 279], [orig_median, orig_median], color = \"C3\", alpha=0.5, dashes=[6, 2], label=\"original median : %s\" % orig_median)\n",
    "plt.plot([0, 279], [new_median, new_median], color = \"C4\", alpha=0.5, dashes=[6, 2], label=\"positive median : %s\" % new_median)\n",
    "plt.legend()\n",
    "plt.show()\n",
    "\n",
    "# removes all mean == 0\n",
    "means = np.zeros(10)\n",
    "for i, col in enumerate(total_thresholds.T):\n",
    "    means[i] = col[col > 0].mean()\n",
    "\n",
    "print(\"previous : \")\n",
    "print(total_thresholds.mean(axis=0))\n",
    "print(total_thresholds.mean(axis=0).shape)\n",
    "\n",
    "print(\"new : \")\n",
    "print(means)\n",
    "print(means.shape)"
   ]
  },
  {
   "cell_type": "markdown",
   "metadata": {},
   "source": [
    "# Prune using ground truth (ORACLE)"
   ]
  },
  {
   "cell_type": "code",
   "execution_count": 7,
   "metadata": {
    "ExecuteTime": {
     "end_time": "2019-04-12T07:17:03.472681Z",
     "start_time": "2019-04-12T07:17:03.452533Z"
    }
   },
   "outputs": [],
   "source": [
    "# Prune the result of fill the missing curve with 0 segments\n",
    "def prune_prediction(strong_prediction, cls_prediction):\n",
    "    \"\"\" Prune the strong prediciton by zeroing all classes that are not predicted. \"\"\"\n",
    "    pruned_prediction = strong_prediction.copy()\n",
    "    \n",
    "    for index in range(len(pruned_prediction)):\n",
    "        cls_result = cls_prediction[index].copy()\n",
    "        curves = pruned_prediction[index]\n",
    "\n",
    "        for i in range(len(cls_result)):\n",
    "            if cls_result[i] == 0:\n",
    "                curves[:,i] = 0\n",
    "                \n",
    "    return pruned_prediction"
   ]
  },
  {
   "cell_type": "code",
   "execution_count": 8,
   "metadata": {
    "ExecuteTime": {
     "end_time": "2019-04-12T07:17:05.035119Z",
     "start_time": "2019-04-12T07:17:04.963350Z"
    }
   },
   "outputs": [],
   "source": [
    "# PRUNE USING GROUND TRUTH (AT ORACLE)\n",
    "eval_strong_prediction = prune_prediction(eval_strong_prediction, eval_gt)\n",
    "test_strong_prediction = prune_prediction(test_strong_prediction, test_gt)\n",
    "\n",
    "# # PRUNE USING MODEL AT\n",
    "# eval_strong_prediction = prune_prediction(eval_strong_prediction, eval_at)\n",
    "# test_strong_prediction = prune_prediction(test_strong_prediction, test_at)"
   ]
  },
  {
   "cell_type": "code",
   "execution_count": 9,
   "metadata": {
    "ExecuteTime": {
     "end_time": "2019-04-12T07:17:05.479138Z",
     "start_time": "2019-04-12T07:17:05.450208Z"
    }
   },
   "outputs": [
    {
     "data": {
      "text/plain": [
       "(0.014733395, 0.08150168)"
      ]
     },
     "execution_count": 9,
     "metadata": {},
     "output_type": "execute_result"
    }
   ],
   "source": [
    "test_strong_prediction.mean(), test_strong_prediction.std()"
   ]
  },
  {
   "cell_type": "markdown",
   "metadata": {},
   "source": [
    "# Display function"
   ]
  },
  {
   "cell_type": "code",
   "execution_count": 10,
   "metadata": {
    "ExecuteTime": {
     "end_time": "2019-04-12T07:17:06.741041Z",
     "start_time": "2019-04-12T07:17:06.708784Z"
    }
   },
   "outputs": [],
   "source": [
    "# monitor one metrics\n",
    "def monitor_one(results, metric, sort: bool = False):\n",
    "    out = []\n",
    "    \n",
    "    for k in results.keys():\n",
    "        out.append((k, results[k][\"class_wise_average\"][\"f_measure\"][metric]))\n",
    "        \n",
    "    if sort:\n",
    "        out = sorted(out, key=lambda x: x[1])\n",
    "    \n",
    "    return np.array(out)\n",
    "\n",
    "def display_history(metric, hist_metric=None, bins=20):\n",
    "    x, y = metric[:, 0], metric[:, 1]\n",
    "\n",
    "    max_y = max(y)\n",
    "    max_x = list(y).index(max_y)\n",
    "    print(max_x, max_y)\n",
    "\n",
    "    plt.figure(figsize=(20, 5))\n",
    "    plt.subplot(1, 2, 1)\n",
    "    plt.title(\"f_measure\")\n",
    "    plt.plot(range(len(y)), y, label=\"f1\")\n",
    "    plt.plot(max_x, max_y, \"ro\", label=\"f1:%.2f\" % (max_y, ))\n",
    "\n",
    "    plt.ylabel(\"f1\")\n",
    "    plt.xlabel(\"threshold\")\n",
    "    plt.xticks([0, len(x)], [0, len(x)])\n",
    "    plt.legend()\n",
    "\n",
    "    plt.subplot(1, 2, 2)\n",
    "    \n",
    "    if hist_metric is None:\n",
    "        plt.hist(list(y), bins=bins)\n",
    "    else:\n",
    "        plt.hist(hist_metric, bins=bins)\n",
    "    plt.show()\n",
    "    \n",
    "    return x[list(y).index(max_y)]"
   ]
  },
  {
   "cell_type": "markdown",
   "metadata": {},
   "source": [
    "# Manual"
   ]
  },
  {
   "cell_type": "code",
   "execution_count": 84,
   "metadata": {
    "ExecuteTime": {
     "end_time": "2019-04-05T11:51:42.235616Z",
     "start_time": "2019-04-05T11:51:31.036697Z"
    },
    "scrolled": true
   },
   "outputs": [
    {
     "name": "stdout",
     "output_type": "stream",
     "text": [
      "Event based metrics (onset-offset)\n",
      "========================================\n",
      "  Evaluated length                  : 7543.56 sec\n",
      "  Evaluated files                   : 880 \n",
      "  Evaluate onset                    : True \n",
      "  Evaluate offset                   : True \n",
      "  T collar                          : 200.00 ms\n",
      "  Offset (length)                   : 20.00 %\n",
      "\n",
      "  Overall metrics (micro-average)\n",
      "  ======================================\n",
      "  F-measure\n",
      "    F-measure (F1)                  : 32.54 %\n",
      "    Precision                       : 34.26 %\n",
      "    Recall                          : 30.99 %\n",
      "  Error rate\n",
      "    Error rate (ER)                 : 1.28 \n",
      "    Substitution rate               : 0.01 \n",
      "    Deletion rate                   : 0.68 \n",
      "    Insertion rate                  : 0.59 \n",
      "\n",
      "  Class-wise average metrics (macro-average)\n",
      "  ======================================\n",
      "  F-measure\n",
      "    F-measure (F1)                  : 27.28 %\n",
      "    Precision                       : 29.21 %\n",
      "    Recall                          : 29.33 %\n",
      "  Error rate\n",
      "    Error rate (ER)                 : 1.76 \n",
      "    Deletion rate                   : 0.71 \n",
      "    Insertion rate                  : 1.05 \n",
      "  \n",
      "\n",
      "  Class-wise metrics\n",
      "  ======================================\n",
      "    Event label  | Nref    Nsys  | F        Pre      Rec    | ER       Del      Ins    |\n",
      "    ------------ | -----   ----- | ------   ------   ------ | ------   ------   ------ |\n",
      "    Alarm_bell.. | 306     204   | 29.0%    36.3%    24.2%  | 1.18     0.76     0.42   |\n",
      "    Blender      | 56      65    | 44.6%    41.5%    48.2%  | 1.20     0.52     0.68   |\n",
      "    Cat          | 243     164   | 36.4%    45.1%    30.5%  | 1.07     0.70     0.37   |\n",
      "    Dishes       | 370     161   | 25.6%    42.2%    18.4%  | 1.07     0.82     0.25   |\n",
      "    Dog          | 450     264   | 21.3%    28.8%    16.9%  | 1.25     0.83     0.42   |\n",
      "    Electric_s.. | 37      112   | 8.1%     5.4%     16.2%  | 3.70     0.84     2.86   |\n",
      "    Frying       | 67      163   | 19.1%    13.5%    32.8%  | 2.78     0.67     2.10   |\n",
      "    Running_wa.. | 154     271   | 23.5%    18.5%    32.5%  | 2.11     0.68     1.44   |\n",
      "    Speech       | 1401    1337  | 40.7%    41.7%    39.8%  | 1.16     0.60     0.56   |\n",
      "    Vacuum_cle.. | 56      99    | 24.5%    19.2%    33.9%  | 2.09     0.66     1.43   |\n",
      "\n",
      "\n"
     ]
    }
   ],
   "source": [
    "# TEST\n",
    "# Create the encoder that will be used\n",
    "class_list = ['Alarm_bell_ringing', 'Speech', 'Dog', 'Cat', 'Vacuum_cleaner', 'Dishes', 'Frying', 'Electric_shaver_toothbrush', 'Blender', 'Running_water']\n",
    "\n",
    "encoder = Encoder(\n",
    "    classes=class_list,\n",
    "    temporal_precision = 200,  # ms\n",
    "    clip_length = 10,          # s\n",
    "    minimal_segment_step = 200 # ms\n",
    ")\n",
    "\n",
    "segments = encoder.encode(\n",
    "    eval_strong_prediction,\n",
    "    method=\"threshold\",\n",
    "    threshold=0.025,\n",
    "    smooth=\"smoothMovingAvg\",\n",
    "    window_len=19\n",
    ")\n",
    "to_evaluate = encoder.parse(segments, eval_filenames)\n",
    "evaluator = eb_evaluator(eval_strong_y_true, to_evaluate)\n",
    "print(evaluator)"
   ]
  },
  {
   "cell_type": "markdown",
   "metadata": {},
   "source": [
    "# Parametric\n",
    "\n",
    "**baseline**"
   ]
  },
  {
   "cell_type": "code",
   "execution_count": 31,
   "metadata": {
    "ExecuteTime": {
     "end_time": "2019-04-12T07:32:25.298909Z",
     "start_time": "2019-04-12T07:32:25.269030Z"
    }
   },
   "outputs": [],
   "source": [
    "class_list = ['Alarm_bell_ringing', 'Speech', 'Dog', 'Cat', 'Vacuum_cleaner', 'Dishes', 'Frying', 'Electric_shaver_toothbrush', 'Blender', 'Running_water']\n",
    "\n",
    "# Create the encoder that will be used\n",
    "encoder = Encoder(\n",
    "    classes=class_list,\n",
    "    temporal_precision = 200,  # ms\n",
    "    clip_length = 10,          # s\n",
    "    minimal_segment_step = 200 # ms\n",
    ")"
   ]
  },
  {
   "cell_type": "code",
   "execution_count": 17,
   "metadata": {
    "ExecuteTime": {
     "end_time": "2019-04-12T07:18:53.051559Z",
     "start_time": "2019-04-12T07:18:53.020684Z"
    }
   },
   "outputs": [],
   "source": [
    "def class_wise_optimization(optimizer, class_to_monitor, method=\"threshold\"):\n",
    "    class_wise_results = {}\n",
    "    \n",
    "    for cl in class_to_monitor:\n",
    "        optimizer.fit(\n",
    "            test_strong_y_true, test_strong_prediction, test_filenames,\n",
    "            monitor=[\"class_wise\", cl, \"f_measure\", \"f_measure\"],\n",
    "            method=method,\n",
    "            verbose=2)\n",
    "        \n",
    "        parameters, score = optimizer.best\n",
    "        print(cl, parameters, score)\n",
    "        class_wise_results[cl] = (parameters, score)\n",
    "        \n",
    "    return class_wise_results\n",
    "\n",
    "def get_class_dependant_parameters(class_wise_results, class_list):\n",
    "    class_dependant_parameters = {}\n",
    "    for cl in class_list:\n",
    "        for param in class_wise_results[cl][0]:\n",
    "            if param not in class_dependant_parameters.keys():\n",
    "                class_dependant_parameters[param] = []\n",
    "            class_dependant_parameters[param].append(class_wise_results[cl][0][param])\n",
    "            \n",
    "    # TODO find better way\n",
    "    # for \"smooth\" common parameters, remove list\n",
    "    class_dependant_parameters[\"smooth\"] = class_dependant_parameters[\"smooth\"][0]\n",
    "    return class_dependant_parameters"
   ]
  },
  {
   "cell_type": "markdown",
   "metadata": {},
   "source": [
    "## Absolute Threshold"
   ]
  },
  {
   "cell_type": "code",
   "execution_count": 53,
   "metadata": {
    "ExecuteTime": {
     "end_time": "2019-04-11T15:24:41.006001Z",
     "start_time": "2019-04-11T15:06:45.964242Z"
    },
    "scrolled": true
   },
   "outputs": [
    {
     "data": {
      "application/vnd.jupyter.widget-view+json": {
       "model_id": "1b4de662c6eb4601b31d689c8b59b1ca",
       "version_major": 2,
       "version_minor": 0
      },
      "text/plain": [
       "HBox(children=(IntProgress(value=0, max=288), HTML(value='')))"
      ]
     },
     "metadata": {},
     "output_type": "display_data"
    },
    {
     "name": "stdout",
     "output_type": "stream",
     "text": [
      "after :  {'threshold': (0.01, 0.02), 'smooth': 'smoothMovingAvg', 'window_len': (5, 18.8)}\n",
      "after :  {'threshold': (0.01, 0.027000000000000003), 'smooth': 'smoothMovingAvg', 'window_len': (8.02, 24.06)}\n",
      "after :  {'threshold': (0.01, 0.017866666666666666), 'smooth': 'smoothMovingAvg', 'window_len': (9.623999999999999, 19.248)}\n",
      "after :  {'threshold': (0.013399999999999999, 0.022333333333333334), 'smooth': 'smoothMovingAvg', 'window_len': (12.9924, 21.654)}\n",
      "after :  {'threshold': (0.013578666666666666, 0.020368), 'smooth': 'smoothMovingAvg', 'window_len': (13.165631999999999, 19.748448)}\n",
      "after :  {'threshold': (0.011315555555555554, 0.015841777777777778), 'smooth': 'smoothMovingAvg', 'window_len': (10.971359999999999, 15.359903999999998)}\n",
      "after :  {'threshold': (0.010474971428571428, 0.01396662857142857), 'smooth': 'smoothMovingAvg', 'window_len': (12.41331017142857, 16.55108022857143)}\n",
      "after :  {'threshold': (0.010998719999999998, 0.014141211428571427), 'smooth': 'smoothMovingAvg', 'window_len': (13.03397568, 16.75796873142857)}\n",
      "Alarm_bell_ringing {'threshold': 0.016973333333333333, 'smooth': 'smoothMovingAvg', 'window_len': 16.45704} 0.4816753926701571\n"
     ]
    },
    {
     "data": {
      "application/vnd.jupyter.widget-view+json": {
       "model_id": "0469f284aca84069812c0bcdcd8143a6",
       "version_major": 2,
       "version_minor": 0
      },
      "text/plain": [
       "HBox(children=(IntProgress(value=0, max=288), HTML(value='')))"
      ]
     },
     "metadata": {},
     "output_type": "display_data"
    },
    {
     "name": "stdout",
     "output_type": "stream",
     "text": [
      "after :  {'threshold': (0.01, 0.376), 'smooth': 'smoothMovingAvg', 'window_len': (5, 27)}\n",
      "after :  {'threshold': (0.0416, 0.1248), 'smooth': 'smoothMovingAvg', 'window_len': (9.100000000000001, 27)}\n",
      "after :  {'threshold': (0.027733333333333332, 0.055466666666666664), 'smooth': 'smoothMovingAvg', 'window_len': (10.84, 21.680000000000003)}\n",
      "after :  {'threshold': (0.0208, 0.034666666666666665), 'smooth': 'smoothMovingAvg', 'window_len': (13.008000000000001, 21.68)}\n",
      "after :  {'threshold': (0.023296, 0.034944), 'smooth': 'smoothMovingAvg', 'window_len': (14.568959999999999, 21.85344)}\n",
      "after :  {'threshold': (0.023296, 0.0326144), 'smooth': 'smoothMovingAvg', 'window_len': (15.783039999999998, 22.096255999999997)}\n",
      "after :  {'threshold': (0.02316288, 0.03088384), 'smooth': 'smoothMovingAvg', 'window_len': (15.6928512, 20.923801599999997)}\n",
      "after :  {'threshold': (0.024321024, 0.031269888), 'smooth': 'smoothMovingAvg', 'window_len': (16.47749376, 21.185349119999998)}\n",
      "Speech {'threshold': 0.02702336, 'smooth': 'smoothMovingAvg', 'window_len': 18.3083264} 0.4462151394422311\n"
     ]
    },
    {
     "data": {
      "application/vnd.jupyter.widget-view+json": {
       "model_id": "e7719b16f18f4f32a7cf96d498f00282",
       "version_major": 2,
       "version_minor": 0
      },
      "text/plain": [
       "HBox(children=(IntProgress(value=0, max=288), HTML(value='')))"
      ]
     },
     "metadata": {},
     "output_type": "display_data"
    },
    {
     "name": "stdout",
     "output_type": "stream",
     "text": [
      "after :  {'threshold': (0.01, 0.02), 'smooth': 'smoothMovingAvg', 'window_len': (5, 10.0)}\n",
      "after :  {'threshold': (0.01, 0.03), 'smooth': 'smoothMovingAvg', 'window_len': (5, 12.0)}\n",
      "after :  {'threshold': (0.019999999999999997, 0.04), 'smooth': 'smoothMovingAvg', 'window_len': (7.066666666666666, 14.133333333333333)}\n",
      "after :  {'threshold': (0.027000000000000003, 0.045000000000000005), 'smooth': 'smoothMovingAvg', 'window_len': (8.48, 14.133333333333333)}\n",
      "after :  {'threshold': (0.03024, 0.04536), 'smooth': 'smoothMovingAvg', 'window_len': (9.4976, 14.2464)}\n",
      "after :  {'threshold': (0.03276, 0.045864), 'smooth': 'smoothMovingAvg', 'window_len': (9.497599999999998, 13.29664)}\n",
      "after :  {'threshold': (0.0325728, 0.043430399999999994), 'smooth': 'smoothMovingAvg', 'window_len': (10.094591999999999, 13.459456)}\n",
      "after :  {'threshold': (0.03420143999999999, 0.04397328), 'smooth': 'smoothMovingAvg', 'window_len': (10.010470399999999, 12.870604799999999)}\n",
      "Dog {'threshold': 0.03, 'smooth': 'smoothMovingAvg', 'window_len': 10.6} 0.39662447257383965\n"
     ]
    },
    {
     "data": {
      "application/vnd.jupyter.widget-view+json": {
       "model_id": "fee2ac8071ae4af7898ebc0f1597b0a5",
       "version_major": 2,
       "version_minor": 0
      },
      "text/plain": [
       "HBox(children=(IntProgress(value=0, max=288), HTML(value='')))"
      ]
     },
     "metadata": {},
     "output_type": "display_data"
    },
    {
     "name": "stdout",
     "output_type": "stream",
     "text": [
      "after :  {'threshold': (0.01, 0.02), 'smooth': 'smoothMovingAvg', 'window_len': (5, 27)}\n",
      "after :  {'threshold': (0.01, 0.03), 'smooth': 'smoothMovingAvg', 'window_len': (9.100000000000001, 27)}\n",
      "after :  {'threshold': (0.017333333333333333, 0.03466666666666666), 'smooth': 'smoothMovingAvg', 'window_len': (10.84, 21.680000000000003)}\n",
      "after :  {'threshold': (0.025999999999999995, 0.04333333333333332), 'smooth': 'smoothMovingAvg', 'window_len': (16.26, 27)}\n",
      "after :  {'threshold': (0.020799999999999996, 0.031199999999999995), 'smooth': 'smoothMovingAvg', 'window_len': (13.008000000000001, 19.512)}\n",
      "after :  {'threshold': (0.02253333333333333, 0.03154666666666666), 'smooth': 'smoothMovingAvg', 'window_len': (16.26, 22.764)}\n",
      "after :  {'threshold': (0.022404571428571423, 0.0298727619047619), 'smooth': 'smoothMovingAvg', 'window_len': (13.93714285714286, 18.582857142857144)}\n",
      "after :  {'threshold': (0.023524799999999995, 0.03024617142857142), 'smooth': 'smoothMovingAvg', 'window_len': (13.821000000000002, 17.769857142857145)}\n",
      "Cat {'threshold': 0.027039999999999995, 'smooth': 'smoothMovingAvg', 'window_len': 19.512} 0.624113475177305\n"
     ]
    },
    {
     "data": {
      "application/vnd.jupyter.widget-view+json": {
       "model_id": "42872add96bd40eebc1d8629ec057c50",
       "version_major": 2,
       "version_minor": 0
      },
      "text/plain": [
       "HBox(children=(IntProgress(value=0, max=288), HTML(value='')))"
      ]
     },
     "metadata": {},
     "output_type": "display_data"
    },
    {
     "name": "stdout",
     "output_type": "stream",
     "text": [
      "after :  {'threshold': (0.01, 0.02), 'smooth': 'smoothMovingAvg', 'window_len': (5, 27)}\n",
      "after :  {'threshold': (0.01, 0.015), 'smooth': 'smoothMovingAvg', 'window_len': (13.5, 27)}\n",
      "after :  {'threshold': (0.01, 0.013333333333333334), 'smooth': 'smoothMovingAvg', 'window_len': (18.0, 27)}\n",
      "after :  {'threshold': (0.01, 0.0125), 'smooth': 'smoothMovingAvg', 'window_len': (20.25, 27)}\n",
      "after :  {'threshold': (0.01, 0.012), 'smooth': 'smoothMovingAvg', 'window_len': (21.6, 27)}\n",
      "after :  {'threshold': (0.01, 0.011666666666666667), 'smooth': 'smoothMovingAvg', 'window_len': (22.5, 27)}\n",
      "after :  {'threshold': (0.01, 0.011428571428571429), 'smooth': 'smoothMovingAvg', 'window_len': (23.142857142857142, 27)}\n",
      "after :  {'threshold': (0.01, 0.01125), 'smooth': 'smoothMovingAvg', 'window_len': (23.625, 27)}\n",
      "Vacuum_cleaner {'threshold': 0.01, 'smooth': 'smoothMovingAvg', 'window_len': 26.228571428571428} 0.7105263157894738\n"
     ]
    },
    {
     "data": {
      "application/vnd.jupyter.widget-view+json": {
       "model_id": "6161ed4afbf14f46a02dd1693d733299",
       "version_major": 2,
       "version_minor": 0
      },
      "text/plain": [
       "HBox(children=(IntProgress(value=0, max=288), HTML(value='')))"
      ]
     },
     "metadata": {},
     "output_type": "display_data"
    },
    {
     "name": "stdout",
     "output_type": "stream",
     "text": [
      "after :  {'threshold': (0.01, 0.02), 'smooth': 'smoothMovingAvg', 'window_len': (5, 18.8)}\n",
      "after :  {'threshold': (0.01, 0.015), 'smooth': 'smoothMovingAvg', 'window_len': (9.4, 27)}\n",
      "after :  {'threshold': (0.01, 0.013333333333333334), 'smooth': 'smoothMovingAvg', 'window_len': (6.2666666666666675, 12.533333333333333)}\n",
      "after :  {'threshold': (0.01, 0.0125), 'smooth': 'smoothMovingAvg', 'window_len': (8.46, 14.100000000000001)}\n",
      "after :  {'threshold': (0.01, 0.012), 'smooth': 'smoothMovingAvg', 'window_len': (7.670400000000001, 11.505600000000001)}\n",
      "after :  {'threshold': (0.01, 0.011666666666666667), 'smooth': 'smoothMovingAvg', 'window_len': (8.309600000000001, 11.633440000000002)}\n",
      "after :  {'threshold': (0.01, 0.011428571428571429), 'smooth': 'smoothMovingAvg', 'window_len': (8.262116571428573, 11.016155428571432)}\n",
      "after :  {'threshold': (0.01, 0.011571428571428571), 'smooth': 'smoothMovingAvg', 'window_len': (8.675222400000001, 11.153857371428574)}\n",
      "Dishes {'threshold': 0.010285714285714285, 'smooth': 'smoothMovingAvg', 'window_len': 9.914539885714287} 0.3445692883895131\n"
     ]
    },
    {
     "data": {
      "application/vnd.jupyter.widget-view+json": {
       "model_id": "76a30206eb6f4167bf7cb82bad1b2c66",
       "version_major": 2,
       "version_minor": 0
      },
      "text/plain": [
       "HBox(children=(IntProgress(value=0, max=288), HTML(value='')))"
      ]
     },
     "metadata": {},
     "output_type": "display_data"
    },
    {
     "name": "stdout",
     "output_type": "stream",
     "text": [
      "after :  {'threshold': (0.01, 0.02), 'smooth': 'smoothMovingAvg', 'window_len': (5, 27)}\n",
      "after :  {'threshold': (0.01, 0.015), 'smooth': 'smoothMovingAvg', 'window_len': (13.5, 27)}\n",
      "after :  {'threshold': (0.01, 0.013333333333333334), 'smooth': 'smoothMovingAvg', 'window_len': (18.0, 27)}\n",
      "after :  {'threshold': (0.01, 0.0125), 'smooth': 'smoothMovingAvg', 'window_len': (20.25, 27)}\n",
      "after :  {'threshold': (0.01, 0.012), 'smooth': 'smoothMovingAvg', 'window_len': (21.6, 27)}\n",
      "after :  {'threshold': (0.01, 0.012133333333333333), 'smooth': 'smoothMovingAvg', 'window_len': (22.5, 27)}\n",
      "after :  {'threshold': (0.01, 0.011916190476190478), 'smooth': 'smoothMovingAvg', 'window_len': (23.142857142857142, 27)}\n",
      "after :  {'threshold': (0.01, 0.011681142857142859), 'smooth': 'smoothMovingAvg', 'window_len': (23.625, 27)}\n",
      "Frying {'threshold': 0.010383238095238096, 'smooth': 'smoothMovingAvg', 'window_len': 27.0} 0.6037735849056604\n"
     ]
    },
    {
     "data": {
      "application/vnd.jupyter.widget-view+json": {
       "model_id": "16444bccc0484439a69f4a9e7697deed",
       "version_major": 2,
       "version_minor": 0
      },
      "text/plain": [
       "HBox(children=(IntProgress(value=0, max=288), HTML(value='')))"
      ]
     },
     "metadata": {},
     "output_type": "display_data"
    },
    {
     "name": "stdout",
     "output_type": "stream",
     "text": [
      "after :  {'threshold': (0.01, 0.02), 'smooth': 'smoothMovingAvg', 'window_len': (5, 27)}\n",
      "after :  {'threshold': (0.01, 0.015), 'smooth': 'smoothMovingAvg', 'window_len': (13.5, 27)}\n",
      "after :  {'threshold': (0.01, 0.013333333333333334), 'smooth': 'smoothMovingAvg', 'window_len': (18.0, 27)}\n",
      "after :  {'threshold': (0.01, 0.013333333333333332), 'smooth': 'smoothMovingAvg', 'window_len': (20.25, 27)}\n",
      "after :  {'threshold': (0.01, 0.012799999999999999), 'smooth': 'smoothMovingAvg', 'window_len': (21.6, 27)}\n",
      "after :  {'threshold': (0.01, 0.01232), 'smooth': 'smoothMovingAvg', 'window_len': (22.5, 27)}\n",
      "after :  {'threshold': (0.01, 0.011958857142857143), 'smooth': 'smoothMovingAvg', 'window_len': (23.142857142857142, 27)}\n",
      "after :  {'threshold': (0.01, 0.012131485714285715), 'smooth': 'smoothMovingAvg', 'window_len': (23.625, 27)}\n",
      "Electric_shaver_toothbrush {'threshold': 0.01056, 'smooth': 'smoothMovingAvg', 'window_len': 27.0} 0.4590163934426229\n"
     ]
    },
    {
     "data": {
      "application/vnd.jupyter.widget-view+json": {
       "model_id": "67a0b9f03a67467ca7810166c2bb3cb9",
       "version_major": 2,
       "version_minor": 0
      },
      "text/plain": [
       "HBox(children=(IntProgress(value=0, max=288), HTML(value='')))"
      ]
     },
     "metadata": {},
     "output_type": "display_data"
    },
    {
     "name": "stdout",
     "output_type": "stream",
     "text": [
      "after :  {'threshold': (0.01, 0.02), 'smooth': 'smoothMovingAvg', 'window_len': (5, 27)}\n",
      "after :  {'threshold': (0.01, 0.015), 'smooth': 'smoothMovingAvg', 'window_len': (11.3, 27)}\n",
      "after :  {'threshold': (0.01, 0.017333333333333333), 'smooth': 'smoothMovingAvg', 'window_len': (18.0, 27)}\n",
      "after :  {'threshold': (0.01, 0.0125), 'smooth': 'smoothMovingAvg', 'window_len': (17.549999999999997, 27)}\n",
      "after :  {'threshold': (0.01, 0.013200000000000002), 'smooth': 'smoothMovingAvg', 'window_len': (15.551999999999998, 23.327999999999996)}\n",
      "after :  {'threshold': (0.01, 0.01316), 'smooth': 'smoothMovingAvg', 'window_len': (15.551999999999998, 21.772799999999997)}\n",
      "after :  {'threshold': (0.01, 0.012873142857142857), 'smooth': 'smoothMovingAvg', 'window_len': (16.52955428571428, 22.03940571428571)}\n",
      "after :  {'threshold': (0.01, 0.012542914285714286), 'smooth': 'smoothMovingAvg', 'window_len': (17.356031999999995, 22.314898285714282)}\n",
      "Blender {'threshold': 0.013, 'smooth': 'smoothMovingAvg', 'window_len': 27.0} 0.625\n"
     ]
    },
    {
     "data": {
      "application/vnd.jupyter.widget-view+json": {
       "model_id": "f20061932b204ecc98bdaf22583fb258",
       "version_major": 2,
       "version_minor": 0
      },
      "text/plain": [
       "HBox(children=(IntProgress(value=0, max=288), HTML(value='')))"
      ]
     },
     "metadata": {},
     "output_type": "display_data"
    },
    {
     "name": "stdout",
     "output_type": "stream",
     "text": [
      "after :  {'threshold': (0.01, 0.02), 'smooth': 'smoothMovingAvg', 'window_len': (5, 27)}\n",
      "after :  {'threshold': (0.01, 0.03), 'smooth': 'smoothMovingAvg', 'window_len': (13.5, 27)}\n",
      "after :  {'threshold': (0.017333333333333333, 0.03466666666666666), 'smooth': 'smoothMovingAvg', 'window_len': (12.599999999999998, 25.2)}\n",
      "after :  {'threshold': (0.020799999999999996, 0.03466666666666666), 'smooth': 'smoothMovingAvg', 'window_len': (17.009999999999998, 27)}\n",
      "after :  {'threshold': (0.023295999999999994, 0.03494399999999999), 'smooth': 'smoothMovingAvg', 'window_len': (16.8048, 25.2072)}\n",
      "after :  {'threshold': (0.023295999999999994, 0.03261439999999999), 'smooth': 'smoothMovingAvg', 'window_len': (18.2052, 25.487280000000002)}\n",
      "after :  {'threshold': (0.023162879999999993, 0.030883839999999992), 'smooth': 'smoothMovingAvg', 'window_len': (19.34952685714286, 25.79936914285715)}\n",
      "after :  {'threshold': (0.024321023999999993, 0.03126988799999999), 'smooth': 'smoothMovingAvg', 'window_len': (19.188280800000005, 24.670646742857148)}\n",
      "Running_water {'threshold': 0.02773333333333333, 'smooth': 'smoothMovingAvg', 'window_len': 22.68} 0.25301204819277107\n",
      "CPU times: user 25.2 s, sys: 17.4 s, total: 42.6 s\n",
      "Wall time: 17min 54s\n"
     ]
    }
   ],
   "source": [
    "# Perform the optimization ON TEST\n",
    "# Create the optimizer\n",
    "optimizer = DichotomicOptimizer(\n",
    "    {\n",
    "        \"threshold\": (0.01, 0.90),\n",
    "        \"smooth\": \"smoothMovingAvg\",\n",
    "        \"window_len\": (5, 27)\n",
    "    },\n",
    "    \n",
    "    encoder = encoder,\n",
    "    step = 6,\n",
    "    nb_recurse = 8,\n",
    "    nb_process = 20\n",
    ")\n",
    "\n",
    "%time class_wise_results = class_wise_optimization(optimizer, class_list)"
   ]
  },
  {
   "cell_type": "code",
   "execution_count": 54,
   "metadata": {
    "ExecuteTime": {
     "end_time": "2019-04-11T15:24:41.043972Z",
     "start_time": "2019-04-11T15:24:41.010041Z"
    }
   },
   "outputs": [
    {
     "data": {
      "text/plain": [
       "{'threshold': [0.016973333333333333,\n",
       "  0.02702336,\n",
       "  0.03,\n",
       "  0.027039999999999995,\n",
       "  0.01,\n",
       "  0.010285714285714285,\n",
       "  0.010383238095238096,\n",
       "  0.01056,\n",
       "  0.013,\n",
       "  0.02773333333333333],\n",
       " 'smooth': 'smoothMovingAvg',\n",
       " 'window_len': [16.45704,\n",
       "  18.3083264,\n",
       "  10.6,\n",
       "  19.512,\n",
       "  26.228571428571428,\n",
       "  9.914539885714287,\n",
       "  27.0,\n",
       "  27.0,\n",
       "  27.0,\n",
       "  22.68]}"
      ]
     },
     "execution_count": 54,
     "metadata": {},
     "output_type": "execute_result"
    }
   ],
   "source": [
    "best_parameters = get_class_dependant_parameters(class_wise_results, class_list)\n",
    "best_parameters"
   ]
  },
  {
   "cell_type": "code",
   "execution_count": 55,
   "metadata": {
    "ExecuteTime": {
     "end_time": "2019-04-11T15:36:42.663062Z",
     "start_time": "2019-04-11T15:36:42.515055Z"
    },
    "scrolled": true
   },
   "outputs": [
    {
     "name": "stdout",
     "output_type": "stream",
     "text": [
      "Alarm_bell_ringing\n",
      "------------------\n",
      "score        : 0.4816753926701571\n",
      "parameters   : {'threshold': 0.016973333333333333, 'smooth': 'smoothMovingAvg', 'window_len': 16.45704}\n",
      "\n",
      "Speech\n",
      "------\n",
      "score        : 0.4462151394422311\n",
      "parameters   : {'threshold': 0.02702336, 'smooth': 'smoothMovingAvg', 'window_len': 18.3083264}\n",
      "\n",
      "Dog\n",
      "---\n",
      "score        : 0.39662447257383965\n",
      "parameters   : {'threshold': 0.03, 'smooth': 'smoothMovingAvg', 'window_len': 10.6}\n",
      "\n",
      "Cat\n",
      "---\n",
      "score        : 0.624113475177305\n",
      "parameters   : {'threshold': 0.027039999999999995, 'smooth': 'smoothMovingAvg', 'window_len': 19.512}\n",
      "\n",
      "Vacuum_cleaner\n",
      "--------------\n",
      "score        : 0.7105263157894738\n",
      "parameters   : {'threshold': 0.01, 'smooth': 'smoothMovingAvg', 'window_len': 26.228571428571428}\n",
      "\n",
      "Dishes\n",
      "------\n",
      "score        : 0.3445692883895131\n",
      "parameters   : {'threshold': 0.010285714285714285, 'smooth': 'smoothMovingAvg', 'window_len': 9.914539885714287}\n",
      "\n",
      "Frying\n",
      "------\n",
      "score        : 0.6037735849056604\n",
      "parameters   : {'threshold': 0.010383238095238096, 'smooth': 'smoothMovingAvg', 'window_len': 27.0}\n",
      "\n",
      "Electric_shaver_toothbrush\n",
      "--------------------------\n",
      "score        : 0.4590163934426229\n",
      "parameters   : {'threshold': 0.01056, 'smooth': 'smoothMovingAvg', 'window_len': 27.0}\n",
      "\n",
      "Blender\n",
      "-------\n",
      "score        : 0.625          \n",
      "parameters   : {'threshold': 0.013, 'smooth': 'smoothMovingAvg', 'window_len': 27.0}\n",
      "\n",
      "Running_water\n",
      "-------------\n",
      "score        : 0.25301204819277107\n",
      "parameters   : {'threshold': 0.02773333333333333, 'smooth': 'smoothMovingAvg', 'window_len': 22.68}\n",
      "\n"
     ]
    }
   ],
   "source": [
    "for cl in class_wise_results:\n",
    "    print(cl)\n",
    "    print(\"-\" * len(cl))\n",
    "    print(\"%-*s : %-*s\" % (12, \"score\", 15, class_wise_results[cl][1]))\n",
    "    print(\"%-*s : %-*s\" % (12, \"parameters\", 15, (class_wise_results[cl][0])))\n",
    "    print(\"\")\n",
    "\n",
    "thresholds = []\n",
    "for cl in class_list:\n",
    "    thresholds.append(class_wise_results[cl][0][\"threshold\"])"
   ]
  },
  {
   "cell_type": "code",
   "execution_count": null,
   "metadata": {
    "ExecuteTime": {
     "end_time": "2019-04-12T07:17:21.488654Z",
     "start_time": "2019-04-12T07:17:21.308834Z"
    },
    "scrolled": false
   },
   "outputs": [],
   "source": [
    "# check test\n",
    "segments = encoder.encode(\n",
    "    test_strong_prediction,\n",
    "    method=\"threshold\",\n",
    "    **best_parameters\n",
    ")\n",
    "to_evaluate = encoder.parse(segments, test_filenames)\n",
    "evaluator = eb_evaluator(test_strong_y_true, to_evaluate)\n",
    "print(evaluator)"
   ]
  },
  {
   "cell_type": "code",
   "execution_count": 46,
   "metadata": {
    "ExecuteTime": {
     "end_time": "2019-04-11T14:14:47.440719Z",
     "start_time": "2019-04-11T14:14:47.031110Z"
    },
    "scrolled": true
   },
   "outputs": [
    {
     "name": "stdout",
     "output_type": "stream",
     "text": [
      "1 0.41993184733155553\n"
     ]
    },
    {
     "data": {
      "image/png": "[encoded data removed]",
      "text/plain": [
       "<Figure size 1440x360 with 2 Axes>"
      ]
     },
     "metadata": {},
     "output_type": "display_data"
    }
   ],
   "source": [
    "f1 = monitor_one(optimizer.results, \"f_measure\")\n",
    "\n",
    "tested = list(optimizer.history.keys())\n",
    "tested = [t[0] for t in tested]\n",
    "\n",
    "best_combination = display_history(f1, tested, bins=10)"
   ]
  },
  {
   "cell_type": "code",
   "execution_count": 56,
   "metadata": {
    "ExecuteTime": {
     "end_time": "2019-04-11T15:37:03.108518Z",
     "start_time": "2019-04-11T15:36:49.323137Z"
    },
    "scrolled": true
   },
   "outputs": [
    {
     "name": "stdout",
     "output_type": "stream",
     "text": [
      "Event based metrics (onset-offset)\n",
      "========================================\n",
      "  Evaluated length                  : 7543.56 sec\n",
      "  Evaluated files                   : 880 \n",
      "  Evaluate onset                    : True \n",
      "  Evaluate offset                   : True \n",
      "  T collar                          : 200.00 ms\n",
      "  Offset (length)                   : 20.00 %\n",
      "\n",
      "  Overall metrics (micro-average)\n",
      "  ======================================\n",
      "  F-measure\n",
      "    F-measure (F1)                  : 37.15 %\n",
      "    Precision                       : 37.00 %\n",
      "    Recall                          : 37.29 %\n",
      "  Error rate\n",
      "    Error rate (ER)                 : 1.26 \n",
      "    Substitution rate               : 0.01 \n",
      "    Deletion rate                   : 0.62 \n",
      "    Insertion rate                  : 0.63 \n",
      "\n",
      "  Class-wise average metrics (macro-average)\n",
      "  ======================================\n",
      "  F-measure\n",
      "    F-measure (F1)                  : 39.22 %\n",
      "    Precision                       : 37.35 %\n",
      "    Recall                          : 43.91 %\n",
      "  Error rate\n",
      "    Error rate (ER)                 : 1.34 \n",
      "    Deletion rate                   : 0.56 \n",
      "    Insertion rate                  : 0.78 \n",
      "  \n",
      "\n",
      "  Class-wise metrics\n",
      "  ======================================\n",
      "    Event label  | Nref    Nsys  | F        Pre      Rec    | ER       Del      Ins    |\n",
      "    ------------ | -----   ----- | ------   ------   ------ | ------   ------   ------ |\n",
      "    Alarm_bell.. | 306     237   | 35.4%    40.5%    31.4%  | 1.15     0.69     0.46   |\n",
      "    Blender      | 56      65    | 62.8%    58.5%    67.9%  | 0.80     0.32     0.48   |\n",
      "    Cat          | 243     151   | 37.1%    48.3%    30.0%  | 1.02     0.70     0.32   |\n",
      "    Dishes       | 370     467   | 32.3%    28.9%    36.5%  | 1.53     0.64     0.90   |\n",
      "    Dog          | 450     364   | 23.6%    26.4%    21.3%  | 1.38     0.79     0.60   |\n",
      "    Electric_s.. | 37      70    | 41.1%    31.4%    59.5%  | 1.70     0.41     1.30   |\n",
      "    Frying       | 67      110   | 40.7%    32.7%    53.7%  | 1.57     0.46     1.10   |\n",
      "    Running_wa.. | 154     250   | 26.2%    21.2%    34.4%  | 1.94     0.66     1.28   |\n",
      "    Speech       | 1401    1369  | 42.4%    42.9%    41.9%  | 1.14     0.58     0.56   |\n",
      "    Vacuum_cle.. | 56      82    | 50.7%    42.7%    62.5%  | 1.21     0.38     0.84   |\n",
      "\n",
      "\n"
     ]
    }
   ],
   "source": [
    "# Apply to eval\n",
    "segments = encoder.encode(\n",
    "    eval_strong_prediction,\n",
    "    method=\"threshold\",\n",
    "    **best_parameters\n",
    ")\n",
    "to_evaluate = encoder.parse(segments, eval_filenames)\n",
    "evaluator = eb_evaluator(eval_strong_y_true, to_evaluate)\n",
    "print(evaluator)"
   ]
  },
  {
   "cell_type": "markdown",
   "metadata": {},
   "source": [
    "## Hysteresis"
   ]
  },
  {
   "cell_type": "code",
   "execution_count": 18,
   "metadata": {
    "ExecuteTime": {
     "end_time": "2019-04-12T07:20:33.131805Z",
     "start_time": "2019-04-12T07:18:55.292347Z"
    },
    "scrolled": true
   },
   "outputs": [
    {
     "data": {
      "application/vnd.jupyter.widget-view+json": {
       "model_id": "a9f6a86ef1cf4bb7a02dfa4507791d7b",
       "version_major": 2,
       "version_minor": 0
      },
      "text/plain": [
       "HBox(children=(IntProgress(value=0, max=16), HTML(value='')))"
      ]
     },
     "metadata": {},
     "output_type": "display_data"
    },
    {
     "name": "stdout",
     "output_type": "stream",
     "text": [
      "after :  {'low': (0.001, 0.9), 'high': (0.001, 0.002), 'smooth': 'smoothMovingAvg', 'window_len': (5, 10.0)}\n",
      "after :  {'low': (0.45, 0.9), 'high': (0.001, 0.003), 'smooth': 'smoothMovingAvg', 'window_len': (5, 15.0)}\n",
      "Alarm_bell_ringing {'low': 0.9, 'high': 0.002, 'smooth': 'smoothMovingAvg', 'window_len': 10.0} 0.3017241379310345\n"
     ]
    },
    {
     "data": {
      "application/vnd.jupyter.widget-view+json": {
       "model_id": "7b88268a83824dab99ec4f1f647e3ccf",
       "version_major": 2,
       "version_minor": 0
      },
      "text/plain": [
       "HBox(children=(IntProgress(value=0, max=16), HTML(value='')))"
      ]
     },
     "metadata": {},
     "output_type": "display_data"
    },
    {
     "name": "stdout",
     "output_type": "stream",
     "text": [
      "after :  {'low': (0.001, 0.9), 'high': (0.001, 0.002), 'smooth': 'smoothMovingAvg', 'window_len': (5, 10.0)}\n",
      "after :  {'low': (0.45, 0.9), 'high': (0.001, 0.003), 'smooth': 'smoothMovingAvg', 'window_len': (5, 15.0)}\n",
      "Speech {'low': 0.9, 'high': 0.002, 'smooth': 'smoothMovingAvg', 'window_len': 10.0} 0.07692307692307693\n"
     ]
    },
    {
     "data": {
      "application/vnd.jupyter.widget-view+json": {
       "model_id": "2b492f3acda346df9b60e394a0ea253b",
       "version_major": 2,
       "version_minor": 0
      },
      "text/plain": [
       "HBox(children=(IntProgress(value=0, max=16), HTML(value='')))"
      ]
     },
     "metadata": {},
     "output_type": "display_data"
    },
    {
     "name": "stdout",
     "output_type": "stream",
     "text": [
      "after :  {'low': (0.001, 0.9), 'high': (0.001, 0.002), 'smooth': 'smoothMovingAvg', 'window_len': (5, 10.0)}\n",
      "after :  {'low': (0.001, 0.0015), 'high': (0.001, 0.003), 'smooth': 'smoothMovingAvg', 'window_len': (5, 15.0)}\n",
      "Dog {'low': 0.001, 'high': 0.002, 'smooth': 'smoothMovingAvg', 'window_len': 10.0} 0.19704433497536947\n"
     ]
    },
    {
     "data": {
      "application/vnd.jupyter.widget-view+json": {
       "model_id": "3b0c14dd3d6b46fc85b8bbf2c15f46b7",
       "version_major": 2,
       "version_minor": 0
      },
      "text/plain": [
       "HBox(children=(IntProgress(value=0, max=16), HTML(value='')))"
      ]
     },
     "metadata": {},
     "output_type": "display_data"
    },
    {
     "name": "stdout",
     "output_type": "stream",
     "text": [
      "after :  {'low': (0.001, 0.9), 'high': (0.001, 0.002), 'smooth': 'smoothMovingAvg', 'window_len': (5, 10.0)}\n",
      "after :  {'low': (0.001, 0.0015), 'high': (0.001, 0.003), 'smooth': 'smoothMovingAvg', 'window_len': (5, 15.0)}\n",
      "Cat {'low': 0.001, 'high': 0.002, 'smooth': 'smoothMovingAvg', 'window_len': 10.0} 0.34838709677419355\n"
     ]
    },
    {
     "data": {
      "application/vnd.jupyter.widget-view+json": {
       "model_id": "d22a79701c2344929b4f2c7591e82f53",
       "version_major": 2,
       "version_minor": 0
      },
      "text/plain": [
       "HBox(children=(IntProgress(value=0, max=16), HTML(value='')))"
      ]
     },
     "metadata": {},
     "output_type": "display_data"
    },
    {
     "name": "stdout",
     "output_type": "stream",
     "text": [
      "after :  {'low': (0.001, 0.9), 'high': (0.001, 0.002), 'smooth': 'smoothMovingAvg', 'window_len': (5, 27)}\n",
      "after :  {'low': (0.001, 0.0015), 'high': (0.001, 0.003), 'smooth': 'smoothMovingAvg', 'window_len': (13.5, 27)}\n",
      "Vacuum_cleaner {'low': 0.001, 'high': 0.002, 'smooth': 'smoothMovingAvg', 'window_len': 27.0} 0.7837837837837838\n"
     ]
    },
    {
     "data": {
      "application/vnd.jupyter.widget-view+json": {
       "model_id": "6581b0d05835437db0857ef0c79d2e81",
       "version_major": 2,
       "version_minor": 0
      },
      "text/plain": [
       "HBox(children=(IntProgress(value=0, max=16), HTML(value='')))"
      ]
     },
     "metadata": {},
     "output_type": "display_data"
    },
    {
     "name": "stdout",
     "output_type": "stream",
     "text": [
      "after :  {'low': (0.001, 0.9), 'high': (0.001, 0.002), 'smooth': 'smoothMovingAvg', 'window_len': (5, 10.0)}\n",
      "after :  {'low': (0.45, 0.9), 'high': (0.001, 0.003), 'smooth': 'smoothMovingAvg', 'window_len': (5, 15.0)}\n",
      "Dishes {'low': 0.9, 'high': 0.002, 'smooth': 'smoothMovingAvg', 'window_len': 10.0} 0.1036036036036036\n"
     ]
    },
    {
     "data": {
      "application/vnd.jupyter.widget-view+json": {
       "model_id": "040bf712215045059c1b249daff06c16",
       "version_major": 2,
       "version_minor": 0
      },
      "text/plain": [
       "HBox(children=(IntProgress(value=0, max=16), HTML(value='')))"
      ]
     },
     "metadata": {},
     "output_type": "display_data"
    },
    {
     "name": "stdout",
     "output_type": "stream",
     "text": [
      "after :  {'low': (0.001, 0.9), 'high': (0.001, 0.002), 'smooth': 'smoothMovingAvg', 'window_len': (5, 27)}\n",
      "after :  {'low': (0.45, 0.9), 'high': (0.001, 0.0015), 'smooth': 'smoothMovingAvg', 'window_len': (13.5, 27)}\n",
      "Frying {'low': 0.001, 'high': 0.002, 'smooth': 'smoothMovingAvg', 'window_len': 27.0} 0.7083333333333334\n"
     ]
    },
    {
     "data": {
      "application/vnd.jupyter.widget-view+json": {
       "model_id": "f6ad3a2d456f417587a1955204bcc88e",
       "version_major": 2,
       "version_minor": 0
      },
      "text/plain": [
       "HBox(children=(IntProgress(value=0, max=16), HTML(value='')))"
      ]
     },
     "metadata": {},
     "output_type": "display_data"
    },
    {
     "name": "stdout",
     "output_type": "stream",
     "text": [
      "after :  {'low': (0.001, 0.9), 'high': (0.001, 0.002), 'smooth': 'smoothMovingAvg', 'window_len': (5, 27)}\n",
      "after :  {'low': (0.45, 0.9), 'high': (0.001, 0.003), 'smooth': 'smoothMovingAvg', 'window_len': (13.5, 27)}\n",
      "Electric_shaver_toothbrush {'low': 0.9, 'high': 0.002, 'smooth': 'smoothMovingAvg', 'window_len': 27.0} 0.5\n"
     ]
    },
    {
     "data": {
      "application/vnd.jupyter.widget-view+json": {
       "model_id": "8a7f2ce563dd4f2cacbf916ee89c8bb8",
       "version_major": 2,
       "version_minor": 0
      },
      "text/plain": [
       "HBox(children=(IntProgress(value=0, max=16), HTML(value='')))"
      ]
     },
     "metadata": {},
     "output_type": "display_data"
    },
    {
     "name": "stdout",
     "output_type": "stream",
     "text": [
      "after :  {'low': (0.001, 0.9), 'high': (0.001, 0.002), 'smooth': 'smoothMovingAvg', 'window_len': (5, 27)}\n",
      "after :  {'low': (0.45, 0.9), 'high': (0.001, 0.003), 'smooth': 'smoothMovingAvg', 'window_len': (13.5, 27)}\n",
      "Blender {'low': 0.9, 'high': 0.002, 'smooth': 'smoothMovingAvg', 'window_len': 27.0} 0.3695652173913044\n"
     ]
    },
    {
     "data": {
      "application/vnd.jupyter.widget-view+json": {
       "model_id": "c67f8a93c7c445b0b4e831175ab67be3",
       "version_major": 2,
       "version_minor": 0
      },
      "text/plain": [
       "HBox(children=(IntProgress(value=0, max=16), HTML(value='')))"
      ]
     },
     "metadata": {},
     "output_type": "display_data"
    },
    {
     "name": "stdout",
     "output_type": "stream",
     "text": [
      "after :  {'low': (0.001, 0.9), 'high': (0.001, 0.002), 'smooth': 'smoothMovingAvg', 'window_len': (5, 27)}\n",
      "after :  {'low': (0.45, 0.9), 'high': (0.001, 0.003), 'smooth': 'smoothMovingAvg', 'window_len': (13.5, 27)}\n",
      "Running_water {'low': 0.9, 'high': 0.002, 'smooth': 'smoothMovingAvg', 'window_len': 27.0} 0.19402985074626866\n",
      "CPU times: user 1.77 s, sys: 1.67 s, total: 3.45 s\n",
      "Wall time: 1min 37s\n"
     ]
    }
   ],
   "source": [
    "# Create the optimizer\n",
    "optimizer = DichotomicOptimizer(\n",
    "    {\n",
    "        \"low\": (0.001, 0.9),\n",
    "        \"high\": (0.001, 0.9),\n",
    "        \"smooth\": \"smoothMovingAvg\",\n",
    "        \"window_len\": (5, 27)\n",
    "    },\n",
    "    \n",
    "    encoder = encoder,\n",
    "#     step = 5,\n",
    "    step = 2,\n",
    "#     nb_recurse = 10,\n",
    "    nb_recurse = 2,\n",
    "    nb_process = 20\n",
    ")\n",
    "\n",
    "# Perform the optimization ON TEST\n",
    "%time class_wise_results = class_wise_optimization(optimizer, class_list, method=\"hysteresis\")"
   ]
  },
  {
   "cell_type": "code",
   "execution_count": 20,
   "metadata": {
    "ExecuteTime": {
     "end_time": "2019-04-12T07:20:51.138978Z",
     "start_time": "2019-04-12T07:20:51.109917Z"
    }
   },
   "outputs": [
    {
     "data": {
      "text/plain": [
       "{'low': [0.9, 0.9, 0.001, 0.001, 0.001, 0.9, 0.001, 0.9, 0.9, 0.9],\n",
       " 'high': [0.002,\n",
       "  0.002,\n",
       "  0.002,\n",
       "  0.002,\n",
       "  0.002,\n",
       "  0.002,\n",
       "  0.002,\n",
       "  0.002,\n",
       "  0.002,\n",
       "  0.002],\n",
       " 'smooth': 'smoothMovingAvg',\n",
       " 'window_len': [10.0, 10.0, 10.0, 10.0, 27.0, 10.0, 27.0, 27.0, 27.0, 27.0]}"
      ]
     },
     "execution_count": 20,
     "metadata": {},
     "output_type": "execute_result"
    }
   ],
   "source": [
    "best_parameters = get_class_dependant_parameters(class_wise_results, class_list)\n",
    "best_parameters"
   ]
  },
  {
   "cell_type": "code",
   "execution_count": 21,
   "metadata": {
    "ExecuteTime": {
     "end_time": "2019-04-12T07:21:11.963013Z",
     "start_time": "2019-04-12T07:21:08.310078Z"
    }
   },
   "outputs": [
    {
     "name": "stdout",
     "output_type": "stream",
     "text": [
      "Event based metrics (onset-offset)\n",
      "========================================\n",
      "  Evaluated length                  : 2616.88 sec\n",
      "  Evaluated files                   : 288 \n",
      "  Evaluate onset                    : True \n",
      "  Evaluate offset                   : True \n",
      "  T collar                          : 200.00 ms\n",
      "  Offset (length)                   : 20.00 %\n",
      "\n",
      "  Overall metrics (micro-average)\n",
      "  ======================================\n",
      "  F-measure\n",
      "    F-measure (F1)                  : 21.54 %\n",
      "    Precision                       : 19.64 %\n",
      "    Recall                          : 23.84 %\n",
      "  Error rate\n",
      "    Error rate (ER)                 : 1.72 \n",
      "    Substitution rate               : 0.02 \n",
      "    Deletion rate                   : 0.75 \n",
      "    Insertion rate                  : 0.96 \n",
      "\n",
      "  Class-wise average metrics (macro-average)\n",
      "  ======================================\n",
      "  F-measure\n",
      "    F-measure (F1)                  : 35.83 %\n",
      "    Precision                       : 36.27 %\n",
      "    Recall                          : 36.48 %\n",
      "  Error rate\n",
      "    Error rate (ER)                 : 1.41 \n",
      "    Deletion rate                   : 0.64 \n",
      "    Insertion rate                  : 0.77 \n",
      "  \n",
      "\n",
      "  Class-wise metrics\n",
      "  ======================================\n",
      "    Event label  | Nref    Nsys  | F        Pre      Rec    | ER       Del      Ins    |\n",
      "    ------------ | -----   ----- | ------   ------   ------ | ------   ------   ------ |\n",
      "    Alarm_bell.. | 112     120   | 30.2%    29.2%    31.2%  | 1.45     0.69     0.76   |\n",
      "    Blender      | 40      52    | 37.0%    32.7%    42.5%  | 1.45     0.57     0.88   |\n",
      "    Cat          | 82      73    | 34.8%    37.0%    32.9%  | 1.23     0.67     0.56   |\n",
      "    Dishes       | 122     322   | 10.4%    7.1%     18.9%  | 3.26     0.81     2.45   |\n",
      "    Dog          | 126     77    | 19.7%    26.0%    15.9%  | 1.29     0.84     0.45   |\n",
      "    Electric_s.. | 28      24    | 50.0%    54.2%    46.4%  | 0.93     0.54     0.39   |\n",
      "    Frying       | 24      24    | 70.8%    70.8%    70.8%  | 0.58     0.29     0.29   |\n",
      "    Running_wa.. | 76      58    | 19.4%    22.4%    17.1%  | 1.42     0.83     0.59   |\n",
      "    Speech       | 260     312   | 7.7%     7.1%     8.5%   | 2.03     0.92     1.12   |\n",
      "    Vacuum_cle.. | 36      38    | 78.4%    76.3%    80.6%  | 0.44     0.19     0.25   |\n",
      "\n",
      "\n"
     ]
    }
   ],
   "source": [
    "# detail test score\n",
    "segments = encoder.encode(\n",
    "    test_strong_prediction,\n",
    "    method=\"hysteresis\",\n",
    "    **best_parameters\n",
    ")\n",
    "to_evaluate = encoder.parse(segments, test_filenames)\n",
    "evaluator = eb_evaluator(test_strong_y_true, to_evaluate)\n",
    "print(evaluator)"
   ]
  },
  {
   "cell_type": "code",
   "execution_count": 22,
   "metadata": {
    "ExecuteTime": {
     "end_time": "2019-04-12T07:21:18.759254Z",
     "start_time": "2019-04-12T07:21:18.334747Z"
    }
   },
   "outputs": [
    {
     "name": "stdout",
     "output_type": "stream",
     "text": [
      "8 0.3360880683155139\n"
     ]
    },
    {
     "data": {
      "image/png": "[encoded data removed]",
      "text/plain": [
       "<Figure size 1440x360 with 2 Axes>"
      ]
     },
     "metadata": {
      "needs_background": "dark"
     },
     "output_type": "display_data"
    }
   ],
   "source": [
    "f1 = monitor_one(optimizer.results, \"f_measure\")\n",
    "\n",
    "tested = list(optimizer.history.keys())\n",
    "tested = [t[0] for t in tested]\n",
    "\n",
    "best_combination = display_history(f1, tested, bins=10)"
   ]
  },
  {
   "cell_type": "code",
   "execution_count": 20,
   "metadata": {
    "ExecuteTime": {
     "end_time": "2019-04-09T13:38:54.161889Z",
     "start_time": "2019-04-09T13:38:43.053403Z"
    },
    "scrolled": true
   },
   "outputs": [
    {
     "name": "stdout",
     "output_type": "stream",
     "text": [
      "Event based metrics (onset-offset)\n",
      "========================================\n",
      "  Evaluated length                  : 7543.56 sec\n",
      "  Evaluated files                   : 880 \n",
      "  Evaluate onset                    : True \n",
      "  Evaluate offset                   : True \n",
      "  T collar                          : 200.00 ms\n",
      "  Offset (length)                   : 20.00 %\n",
      "\n",
      "  Overall metrics (micro-average)\n",
      "  ======================================\n",
      "  F-measure\n",
      "    F-measure (F1)                  : 20.27 %\n",
      "    Precision                       : 19.33 %\n",
      "    Recall                          : 21.31 %\n",
      "  Error rate\n",
      "    Error rate (ER)                 : 1.63 \n",
      "    Substitution rate               : 0.04 \n",
      "    Deletion rate                   : 0.75 \n",
      "    Insertion rate                  : 0.85 \n",
      "\n",
      "  Class-wise average metrics (macro-average)\n",
      "  ======================================\n",
      "  F-measure\n",
      "    F-measure (F1)                  : 24.36 %\n",
      "    Precision                       : 22.80 %\n",
      "    Recall                          : 27.68 %\n",
      "  Error rate\n",
      "    Error rate (ER)                 : 1.66 \n",
      "    Deletion rate                   : 0.72 \n",
      "    Insertion rate                  : 0.94 \n",
      "  \n",
      "\n",
      "  Class-wise metrics\n",
      "  ======================================\n",
      "    Event label  | Nref    Nsys  | F        Pre      Rec    | ER       Del      Ins    |\n",
      "    ------------ | -----   ----- | ------   ------   ------ | ------   ------   ------ |\n",
      "    Alarm_bell.. | 306     222   | 26.9%    32.0%    23.2%  | 1.26     0.77     0.49   |\n",
      "    Blender      | 56      102   | 25.3%    19.6%    35.7%  | 2.11     0.64     1.46   |\n",
      "    Cat          | 243     257   | 26.0%    25.3%    26.7%  | 1.52     0.73     0.79   |\n",
      "    Dishes       | 370     621   | 17.8%    14.2%    23.8%  | 2.20     0.76     1.44   |\n",
      "    Dog          | 450     491   | 19.8%    18.9%    20.7%  | 1.68     0.79     0.88   |\n",
      "    Electric_s.. | 37      56    | 28.0%    23.2%    35.1%  | 1.81     0.65     1.16   |\n",
      "    Frying       | 67      97    | 30.5%    25.8%    37.3%  | 1.70     0.63     1.07   |\n",
      "    Running_wa.. | 154     68    | 8.1%     13.2%    5.8%   | 1.32     0.94     0.38   |\n",
      "    Speech       | 1401    1474  | 17.9%    17.4%    18.3%  | 1.69     0.82     0.87   |\n",
      "    Vacuum_cle.. | 56      73    | 43.4%    38.4%    50.0%  | 1.30     0.50     0.80   |\n",
      "\n",
      "\n"
     ]
    }
   ],
   "source": [
    "# Apply to eval\n",
    "segments = encoder.encode(\n",
    "    eval_strong_prediction,\n",
    "    method=\"hysteresis\",\n",
    "    **best_parameters\n",
    ")\n",
    "to_evaluate = encoder.parse(segments, eval_filenames)\n",
    "evaluator = eb_evaluator(eval_strong_y_true, to_evaluate)\n",
    "print(evaluator)"
   ]
  },
  {
   "cell_type": "markdown",
   "metadata": {},
   "source": [
    "## Derivative"
   ]
  },
  {
   "cell_type": "code",
   "execution_count": 33,
   "metadata": {
    "ExecuteTime": {
     "end_time": "2019-04-12T07:40:06.011995Z",
     "start_time": "2019-04-12T07:33:03.354654Z"
    },
    "scrolled": true
   },
   "outputs": [
    {
     "data": {
      "application/vnd.jupyter.widget-view+json": {
       "model_id": "1d96e02694ec4f0986c724ea5696ac4f",
       "version_major": 2,
       "version_minor": 0
      },
      "text/plain": [
       "HBox(children=(IntProgress(value=0, max=64), HTML(value='')))"
      ]
     },
     "metadata": {},
     "output_type": "display_data"
    },
    {
     "name": "stdout",
     "output_type": "stream",
     "text": [
      "after :  {'rising': (0.01, 0.02), 'decreasing': (0.0, -0.99), 'high': (0.001, 0.9), 'smooth': 'smoothMovingAvg', 'window_len': (3, 6.0), 'window_size': (3, 6.0)}\n",
      "after :  {'rising': (0.01, 0.03), 'decreasing': (0.0, -0.99), 'high': (0.45, 0.9), 'smooth': 'smoothMovingAvg', 'window_len': (3, 9.0), 'window_size': (3, 9.0)}\n",
      "Alarm_bell_ringing {'rising': 0.02, 'decreasing': 0.0, 'high': 0.9, 'smooth': 'smoothMovingAvg', 'window_len': 6.0, 'window_size': 6.0} 0.24451410658307204\n"
     ]
    },
    {
     "data": {
      "application/vnd.jupyter.widget-view+json": {
       "model_id": "754278c2922648abaa4cae3aca1bc266",
       "version_major": 2,
       "version_minor": 0
      },
      "text/plain": [
       "HBox(children=(IntProgress(value=0, max=64), HTML(value='')))"
      ]
     },
     "metadata": {},
     "output_type": "display_data"
    },
    {
     "name": "stdout",
     "output_type": "stream",
     "text": [
      "after :  {'rising': (0.01, 0.02), 'decreasing': (0.0, -0.99), 'high': (0.001, 0.9), 'smooth': 'smoothMovingAvg', 'window_len': (3, 27), 'window_size': (3, 27)}\n",
      "after :  {'rising': (0.01, 0.03), 'decreasing': (0.0, -0.99), 'high': (0.001, 0.0015), 'smooth': 'smoothMovingAvg', 'window_len': (3, 4.5), 'window_size': (3, 4.5)}\n",
      "Speech {'rising': 0.01, 'decreasing': -0.01, 'high': 0.9, 'smooth': 'smoothMovingAvg', 'window_len': 27.0, 'window_size': 27.0} 0.07575757575757575\n"
     ]
    },
    {
     "data": {
      "application/vnd.jupyter.widget-view+json": {
       "model_id": "1ace8fd05115463cbfc4c5fca429430c",
       "version_major": 2,
       "version_minor": 0
      },
      "text/plain": [
       "HBox(children=(IntProgress(value=0, max=64), HTML(value='')))"
      ]
     },
     "metadata": {},
     "output_type": "display_data"
    },
    {
     "name": "stdout",
     "output_type": "stream",
     "text": [
      "after :  {'rising': (0.01, 0.02), 'decreasing': (0.0, -0.99), 'high': (0.001, 0.9), 'smooth': 'smoothMovingAvg', 'window_len': (3, 6.0), 'window_size': (3, 6.0)}\n",
      "after :  {'rising': (0.01, 0.03), 'decreasing': (0.0, -0.99), 'high': (0.45, 0.9), 'smooth': 'smoothMovingAvg', 'window_len': (3, 9.0), 'window_size': (3, 4.5)}\n",
      "Dog {'rising': 0.02, 'decreasing': 0.0, 'high': 0.9, 'smooth': 'smoothMovingAvg', 'window_len': 6.0, 'window_size': 3.0} 0.22142857142857142\n"
     ]
    },
    {
     "data": {
      "application/vnd.jupyter.widget-view+json": {
       "model_id": "780b1f8c596347e28e3e0365cf8a3a79",
       "version_major": 2,
       "version_minor": 0
      },
      "text/plain": [
       "HBox(children=(IntProgress(value=0, max=64), HTML(value='')))"
      ]
     },
     "metadata": {},
     "output_type": "display_data"
    },
    {
     "name": "stdout",
     "output_type": "stream",
     "text": [
      "after :  {'rising': (0.01, 0.02), 'decreasing': (0.0, -0.99), 'high': (0.001, 0.9), 'smooth': 'smoothMovingAvg', 'window_len': (3, 27), 'window_size': (3, 6.0)}\n",
      "after :  {'rising': (0.01, 0.03), 'decreasing': (0.0, -0.99), 'high': (0.001, 0.0015), 'smooth': 'smoothMovingAvg', 'window_len': (3, 4.5), 'window_size': (3, 9.0)}\n",
      "Cat {'rising': 0.01, 'decreasing': -0.01, 'high': 0.9, 'smooth': 'smoothMovingAvg', 'window_len': 27.0, 'window_size': 3.0} 0.27118644067796616\n"
     ]
    },
    {
     "data": {
      "application/vnd.jupyter.widget-view+json": {
       "model_id": "860bf0aa0a434481abe87fd2b0870045",
       "version_major": 2,
       "version_minor": 0
      },
      "text/plain": [
       "HBox(children=(IntProgress(value=0, max=64), HTML(value='')))"
      ]
     },
     "metadata": {},
     "output_type": "display_data"
    },
    {
     "name": "stdout",
     "output_type": "stream",
     "text": [
      "after :  {'rising': (0.01, 0.99), 'decreasing': (0.0, -1.98), 'high': (0.001, 0.002), 'smooth': 'smoothMovingAvg', 'window_len': (3, 27), 'window_size': (3, 27)}\n",
      "after :  {'rising': (0.495, 0.99), 'decreasing': (-0.01, -2.9699999999999998), 'high': (0.001, 0.003), 'smooth': 'smoothMovingAvg', 'window_len': (13.5, 27), 'window_size': (3, 4.5)}\n",
      "Vacuum_cleaner {'rising': 0.99, 'decreasing': -1.98, 'high': 0.002, 'smooth': 'smoothMovingAvg', 'window_len': 27.0, 'window_size': 3.0} 0.7999999999999999\n"
     ]
    },
    {
     "data": {
      "application/vnd.jupyter.widget-view+json": {
       "model_id": "e5fb0af8650d48f8b8a12dbd9af54b3b",
       "version_major": 2,
       "version_minor": 0
      },
      "text/plain": [
       "HBox(children=(IntProgress(value=0, max=64), HTML(value='')))"
      ]
     },
     "metadata": {},
     "output_type": "display_data"
    },
    {
     "name": "stdout",
     "output_type": "stream",
     "text": [
      "after :  {'rising': (0.01, 0.02), 'decreasing': (0.0, -0.99), 'high': (0.001, 0.9), 'smooth': 'smoothMovingAvg', 'window_len': (3, 6.0), 'window_size': (3, 6.0)}\n",
      "after :  {'rising': (0.01, 0.015), 'decreasing': (0.0, -0.99), 'high': (0.45, 0.9), 'smooth': 'smoothMovingAvg', 'window_len': (3, 4.5), 'window_size': (3, 4.5)}\n",
      "Dishes {'rising': 0.01, 'decreasing': -0.01, 'high': 0.9, 'smooth': 'smoothMovingAvg', 'window_len': 3.0, 'window_size': 3.0} 0.1267605633802817\n"
     ]
    },
    {
     "data": {
      "application/vnd.jupyter.widget-view+json": {
       "model_id": "013cad91440f44bebe202e955e0259ea",
       "version_major": 2,
       "version_minor": 0
      },
      "text/plain": [
       "HBox(children=(IntProgress(value=0, max=64), HTML(value='')))"
      ]
     },
     "metadata": {},
     "output_type": "display_data"
    },
    {
     "name": "stdout",
     "output_type": "stream",
     "text": [
      "after :  {'rising': (0.01, 0.99), 'decreasing': (0.0, -1.98), 'high': (0.001, 0.002), 'smooth': 'smoothMovingAvg', 'window_len': (3, 27), 'window_size': (3, 27)}\n",
      "after :  {'rising': (0.495, 0.99), 'decreasing': (-0.01, -2.9699999999999998), 'high': (0.001, 0.003), 'smooth': 'smoothMovingAvg', 'window_len': (13.5, 27), 'window_size': (13.5, 27)}\n",
      "Frying {'rising': 0.99, 'decreasing': -1.98, 'high': 0.002, 'smooth': 'smoothMovingAvg', 'window_len': 27.0, 'window_size': 27.0} 0.7083333333333334\n"
     ]
    },
    {
     "data": {
      "application/vnd.jupyter.widget-view+json": {
       "model_id": "4d3d94bc5b4648dba7586b7273f50aaf",
       "version_major": 2,
       "version_minor": 0
      },
      "text/plain": [
       "HBox(children=(IntProgress(value=0, max=64), HTML(value='')))"
      ]
     },
     "metadata": {},
     "output_type": "display_data"
    },
    {
     "name": "stdout",
     "output_type": "stream",
     "text": [
      "after :  {'rising': (0.01, 0.99), 'decreasing': (0.0, -1.98), 'high': (0.001, 0.002), 'smooth': 'smoothMovingAvg', 'window_len': (3, 27), 'window_size': (3, 27)}\n",
      "after :  {'rising': (0.495, 0.99), 'decreasing': (-0.01, -2.9699999999999998), 'high': (0.001, 0.003), 'smooth': 'smoothMovingAvg', 'window_len': (13.5, 27), 'window_size': (13.5, 27)}\n",
      "Electric_shaver_toothbrush {'rising': 0.99, 'decreasing': -1.98, 'high': 0.002, 'smooth': 'smoothMovingAvg', 'window_len': 27.0, 'window_size': 27.0} 0.5\n"
     ]
    },
    {
     "data": {
      "application/vnd.jupyter.widget-view+json": {
       "model_id": "31c40d3c9bad482f90e1bc623bf19134",
       "version_major": 2,
       "version_minor": 0
      },
      "text/plain": [
       "HBox(children=(IntProgress(value=0, max=64), HTML(value='')))"
      ]
     },
     "metadata": {},
     "output_type": "display_data"
    },
    {
     "name": "stdout",
     "output_type": "stream",
     "text": [
      "after :  {'rising': (0.01, 0.99), 'decreasing': (0.0, -1.98), 'high': (0.001, 0.002), 'smooth': 'smoothMovingAvg', 'window_len': (3, 27), 'window_size': (3, 27)}\n",
      "after :  {'rising': (0.495, 0.99), 'decreasing': (0.0, -0.99), 'high': (0.001, 0.003), 'smooth': 'smoothMovingAvg', 'window_len': (13.5, 27), 'window_size': (3, 4.5)}\n",
      "Blender {'rising': 0.99, 'decreasing': 0.0, 'high': 0.002, 'smooth': 'smoothMovingAvg', 'window_len': 27.0, 'window_size': 3.0} 0.39560439560439564\n"
     ]
    },
    {
     "data": {
      "application/vnd.jupyter.widget-view+json": {
       "model_id": "eeba3cb88a7244eab2582b8137185b2d",
       "version_major": 2,
       "version_minor": 0
      },
      "text/plain": [
       "HBox(children=(IntProgress(value=0, max=64), HTML(value='')))"
      ]
     },
     "metadata": {},
     "output_type": "display_data"
    },
    {
     "name": "stdout",
     "output_type": "stream",
     "text": [
      "after :  {'rising': (0.01, 0.02), 'decreasing': (0.0, -1.98), 'high': (0.001, 0.9), 'smooth': 'smoothMovingAvg', 'window_len': (3, 6.0), 'window_size': (3, 6.0)}\n",
      "after :  {'rising': (0.01, 0.015), 'decreasing': (-0.01, -2.9699999999999998), 'high': (0.45, 0.9), 'smooth': 'smoothMovingAvg', 'window_len': (3, 4.5), 'window_size': (3, 9.0)}\n",
      "Running_water {'rising': 0.01, 'decreasing': -1.98, 'high': 0.9, 'smooth': 'smoothMovingAvg', 'window_len': 3.0, 'window_size': 6.0} 0.22727272727272727\n",
      "CPU times: user 7.51 s, sys: 7.49 s, total: 15 s\n",
      "Wall time: 7min 2s\n"
     ]
    }
   ],
   "source": [
    "# Create the optimizer\n",
    "\n",
    "optimizer = DichotomicOptimizer(\n",
    "    {\n",
    "        \"rising\" : (0.01, 0.99),\n",
    "        \"decreasing\": (-0.01, -0.99),\n",
    "        \"high\": (0.001, 0.9),\n",
    "        \"smooth\": \"smoothMovingAvg\",\n",
    "        \"window_len\": (3, 27),\n",
    "        \"window_size\": (3, 27),\n",
    "    },\n",
    "    \n",
    "    encoder = encoder,\n",
    "    step = 2,\n",
    "    nb_recurse = 2,\n",
    "    nb_process = 20\n",
    ")\n",
    "\n",
    "%time class_wise_results = class_wise_optimization(optimizer, class_list, method=\"derivative\")"
   ]
  },
  {
   "cell_type": "code",
   "execution_count": 34,
   "metadata": {
    "ExecuteTime": {
     "end_time": "2019-04-12T07:51:06.396821Z",
     "start_time": "2019-04-12T07:51:06.343592Z"
    },
    "scrolled": true
   },
   "outputs": [
    {
     "data": {
      "text/plain": [
       "{'rising': [0.02, 0.01, 0.02, 0.01, 0.99, 0.01, 0.99, 0.99, 0.99, 0.01],\n",
       " 'decreasing': [0.0,\n",
       "  -0.01,\n",
       "  0.0,\n",
       "  -0.01,\n",
       "  -1.98,\n",
       "  -0.01,\n",
       "  -1.98,\n",
       "  -1.98,\n",
       "  0.0,\n",
       "  -1.98],\n",
       " 'high': [0.9, 0.9, 0.9, 0.9, 0.002, 0.9, 0.002, 0.002, 0.002, 0.9],\n",
       " 'smooth': 'smoothMovingAvg',\n",
       " 'window_len': [6.0, 27.0, 6.0, 27.0, 27.0, 3.0, 27.0, 27.0, 27.0, 3.0],\n",
       " 'window_size': [6.0, 27.0, 3.0, 3.0, 3.0, 3.0, 27.0, 27.0, 3.0, 6.0]}"
      ]
     },
     "execution_count": 34,
     "metadata": {},
     "output_type": "execute_result"
    }
   ],
   "source": [
    "best_parameters = get_class_dependant_parameters(class_wise_results, class_list)\n",
    "best_parameters"
   ]
  },
  {
   "cell_type": "code",
   "execution_count": 35,
   "metadata": {
    "ExecuteTime": {
     "end_time": "2019-04-12T07:51:24.031104Z",
     "start_time": "2019-04-12T07:51:15.628990Z"
    }
   },
   "outputs": [
    {
     "name": "stdout",
     "output_type": "stream",
     "text": [
      "Event based metrics (onset-offset)\n",
      "========================================\n",
      "  Evaluated length                  : 2616.88 sec\n",
      "  Evaluated files                   : 288 \n",
      "  Evaluate onset                    : True \n",
      "  Evaluate offset                   : True \n",
      "  T collar                          : 200.00 ms\n",
      "  Offset (length)                   : 20.00 %\n",
      "\n",
      "  Overall metrics (micro-average)\n",
      "  ======================================\n",
      "  F-measure\n",
      "    F-measure (F1)                  : 23.46 %\n",
      "    Precision                       : 23.76 %\n",
      "    Recall                          : 23.18 %\n",
      "  Error rate\n",
      "    Error rate (ER)                 : 1.51 \n",
      "    Substitution rate               : 0.00 \n",
      "    Deletion rate                   : 0.76 \n",
      "    Insertion rate                  : 0.74 \n",
      "\n",
      "  Class-wise average metrics (macro-average)\n",
      "  ======================================\n",
      "  F-measure\n",
      "    F-measure (F1)                  : 35.71 %\n",
      "    Precision                       : 37.50 %\n",
      "    Recall                          : 35.92 %\n",
      "  Error rate\n",
      "    Error rate (ER)                 : 1.30 \n",
      "    Deletion rate                   : 0.64 \n",
      "    Insertion rate                  : 0.66 \n",
      "  \n",
      "\n",
      "  Class-wise metrics\n",
      "  ======================================\n",
      "    Event label  | Nref    Nsys  | F        Pre      Rec    | ER       Del      Ins    |\n",
      "    ------------ | -----   ----- | ------   ------   ------ | ------   ------   ------ |\n",
      "    Alarm_bell.. | 112     207   | 24.5%    18.8%    34.8%  | 2.15     0.65     1.50   |\n",
      "    Blender      | 40      51    | 39.6%    35.3%    45.0%  | 1.38     0.55     0.82   |\n",
      "    Cat          | 82      36    | 27.1%    44.4%    19.5%  | 1.05     0.80     0.24   |\n",
      "    Dishes       | 122     162   | 12.7%    11.1%    14.8%  | 2.03     0.85     1.18   |\n",
      "    Dog          | 126     154   | 22.1%    20.1%    24.6%  | 1.73     0.75     0.98   |\n",
      "    Electric_s.. | 28      24    | 50.0%    54.2%    46.4%  | 0.93     0.54     0.39   |\n",
      "    Frying       | 24      24    | 70.8%    70.8%    70.8%  | 0.58     0.29     0.29   |\n",
      "    Running_wa.. | 76      56    | 22.7%    26.8%    19.7%  | 1.34     0.80     0.54   |\n",
      "    Speech       | 260     136   | 7.6%     11.0%    5.8%   | 1.41     0.94     0.47   |\n",
      "    Vacuum_cle.. | 36      34    | 80.0%    82.4%    77.8%  | 0.39     0.22     0.17   |\n",
      "\n",
      "\n"
     ]
    }
   ],
   "source": [
    "# detail test score\n",
    "segments = encoder.encode(\n",
    "    test_strong_prediction,\n",
    "    method=\"derivative\",\n",
    "    **best_parameters\n",
    ")\n",
    "to_evaluate = encoder.parse(segments, test_filenames)\n",
    "evaluator = eb_evaluator(test_strong_y_true, to_evaluate)\n",
    "print(evaluator)"
   ]
  },
  {
   "cell_type": "code",
   "execution_count": 36,
   "metadata": {
    "ExecuteTime": {
     "end_time": "2019-04-12T07:51:29.878635Z",
     "start_time": "2019-04-12T07:51:29.384997Z"
    }
   },
   "outputs": [
    {
     "name": "stdout",
     "output_type": "stream",
     "text": [
      "34 0.2978547200993754\n"
     ]
    },
    {
     "data": {
      "image/png": "[encoded data removed]",
      "text/plain": [
       "<Figure size 1440x360 with 2 Axes>"
      ]
     },
     "metadata": {},
     "output_type": "display_data"
    }
   ],
   "source": [
    "f1 = monitor_one(optimizer.results, \"f_measure\")\n",
    "\n",
    "tested = list(optimizer.history.keys())\n",
    "tested = [t[0] for t in tested]\n",
    "\n",
    "best_combination = display_history(f1, tested, bins=10)"
   ]
  },
  {
   "cell_type": "code",
   "execution_count": 40,
   "metadata": {
    "ExecuteTime": {
     "end_time": "2019-04-10T07:30:58.936454Z",
     "start_time": "2019-04-10T07:30:40.999985Z"
    },
    "scrolled": false
   },
   "outputs": [
    {
     "name": "stdout",
     "output_type": "stream",
     "text": [
      "Event based metrics (onset-offset)\n",
      "========================================\n",
      "  Evaluated length                  : 7543.56 sec\n",
      "  Evaluated files                   : 880 \n",
      "  Evaluate onset                    : True \n",
      "  Evaluate offset                   : True \n",
      "  T collar                          : 200.00 ms\n",
      "  Offset (length)                   : 20.00 %\n",
      "\n",
      "  Overall metrics (micro-average)\n",
      "  ======================================\n",
      "  F-measure\n",
      "    F-measure (F1)                  : 16.39 %\n",
      "    Precision                       : 16.00 %\n",
      "    Recall                          : 16.82 %\n",
      "  Error rate\n",
      "    Error rate (ER)                 : 1.67 \n",
      "    Substitution rate               : 0.05 \n",
      "    Deletion rate                   : 0.79 \n",
      "    Insertion rate                  : 0.84 \n",
      "\n",
      "  Class-wise average metrics (macro-average)\n",
      "  ======================================\n",
      "  F-measure\n",
      "    F-measure (F1)                  : 23.93 %\n",
      "    Precision                       : 23.55 %\n",
      "    Recall                          : 25.86 %\n",
      "  Error rate\n",
      "    Error rate (ER)                 : 1.63 \n",
      "    Deletion rate                   : 0.74 \n",
      "    Insertion rate                  : 0.89 \n",
      "  \n",
      "\n",
      "  Class-wise metrics\n",
      "  ======================================\n",
      "    Event label  | Nref    Nsys  | F        Pre      Rec    | ER       Del      Ins    |\n",
      "    ------------ | -----   ----- | ------   ------   ------ | ------   ------   ------ |\n",
      "    Alarm_bell.. | 306     223   | 25.0%    29.6%    21.6%  | 1.30     0.78     0.51   |\n",
      "    Blender      | 56      117   | 20.8%    15.4%    32.1%  | 2.45     0.68     1.77   |\n",
      "    Cat          | 243     259   | 27.1%    26.3%    28.0%  | 1.51     0.72     0.79   |\n",
      "    Dishes       | 370     716   | 13.1%    9.9%     19.2%  | 2.55     0.81     1.74   |\n",
      "    Dog          | 450     469   | 17.2%    16.8%    17.6%  | 1.69     0.82     0.87   |\n",
      "    Electric_s.. | 37      34    | 36.6%    38.2%    35.1%  | 1.22     0.65     0.57   |\n",
      "    Frying       | 67      80    | 34.0%    31.2%    37.3%  | 1.45     0.63     0.82   |\n",
      "    Running_wa.. | 154     59    | 7.5%     13.6%    5.2%   | 1.28     0.95     0.33   |\n",
      "    Speech       | 1401    1276  | 11.3%    11.8%    10.8%  | 1.70     0.89     0.80   |\n",
      "    Vacuum_cle.. | 56      68    | 46.8%    42.6%    51.8%  | 1.18     0.48     0.70   |\n",
      "\n",
      "\n"
     ]
    }
   ],
   "source": [
    "# Apply to eval\n",
    "segments = encoder.encode(\n",
    "    eval_strong_prediction,\n",
    "    method=\"hysteresis\",\n",
    "    **parameters\n",
    ")\n",
    "to_evaluate = encoder.parse(segments, eval_filenames)\n",
    "evaluator = eb_evaluator(eval_strong_y_true, to_evaluate)\n",
    "print(evaluator)"
   ]
  },
  {
   "cell_type": "code",
   "execution_count": null,
   "metadata": {},
   "outputs": [],
   "source": []
  }
 ],
 "metadata": {
  "kernelspec": {
   "display_name": "Python 3",
   "language": "python",
   "name": "python3"
  },
  "language_info": {
   "codemirror_mode": {
    "name": "ipython",
    "version": 3
   },
   "file_extension": ".py",
   "mimetype": "text/x-python",
   "name": "python",
   "nbconvert_exporter": "python",
   "pygments_lexer": "ipython3",
   "version": "3.6.7"
  },
  "toc": {
   "base_numbering": 1,
   "nav_menu": {},
   "number_sections": true,
   "sideBar": true,
   "skip_h1_title": false,
   "title_cell": "Table of Contents",
   "title_sidebar": "Contents",
   "toc_cell": true,
   "toc_position": {
    "height": "calc(100% - 180px)",
    "left": "10px",
    "top": "150px",
    "width": "190.298px"
   },
   "toc_section_display": true,
   "toc_window_display": true
  }
 },
 "nbformat": 4,
 "nbformat_minor": 1
}
