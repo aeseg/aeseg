{
 "cells": [
  {
   "cell_type": "markdown",
   "metadata": {
    "toc": true
   },
   "source": [
    "<h1>Table of Contents<span class=\"tocSkip\"></span></h1>\n",
    "<div class=\"toc\"><ul class=\"toc-item\"><li><span><a href=\"#Import\" data-toc-modified-id=\"Import-1\"><span class=\"toc-item-num\">1&nbsp;&nbsp;</span>Import</a></span></li><li><span><a href=\"#To-load-the-data\" data-toc-modified-id=\"To-load-the-data-2\"><span class=\"toc-item-num\">2&nbsp;&nbsp;</span>To load the data</a></span></li><li><span><a href=\"#Load-the-strong-annotation-and-the-ground-thruth\" data-toc-modified-id=\"Load-the-strong-annotation-and-the-ground-thruth-3\"><span class=\"toc-item-num\">3&nbsp;&nbsp;</span>Load the strong annotation and the ground thruth</a></span></li><li><span><a href=\"#Prune-using-ground-truth-(ORACLE)\" data-toc-modified-id=\"Prune-using-ground-truth-(ORACLE)-4\"><span class=\"toc-item-num\">4&nbsp;&nbsp;</span>Prune using ground truth (ORACLE)</a></span></li><li><span><a href=\"#Display-function\" data-toc-modified-id=\"Display-function-5\"><span class=\"toc-item-num\">5&nbsp;&nbsp;</span>Display function</a></span></li><li><span><a href=\"#Manual\" data-toc-modified-id=\"Manual-6\"><span class=\"toc-item-num\">6&nbsp;&nbsp;</span>Manual</a></span></li><li><span><a href=\"#Data-driven\" data-toc-modified-id=\"Data-driven-7\"><span class=\"toc-item-num\">7&nbsp;&nbsp;</span>Data driven</a></span><ul class=\"toc-item\"><li><span><a href=\"#mean-threshold\" data-toc-modified-id=\"mean-threshold-7.1\"><span class=\"toc-item-num\">7.1&nbsp;&nbsp;</span>mean threshold</a></span></li><li><span><a href=\"#global-mean-threshold\" data-toc-modified-id=\"global-mean-threshold-7.2\"><span class=\"toc-item-num\">7.2&nbsp;&nbsp;</span>global mean threshold</a></span></li><li><span><a href=\"#median-threshold\" data-toc-modified-id=\"median-threshold-7.3\"><span class=\"toc-item-num\">7.3&nbsp;&nbsp;</span>median threshold</a></span></li><li><span><a href=\"#global-median-threshold\" data-toc-modified-id=\"global-median-threshold-7.4\"><span class=\"toc-item-num\">7.4&nbsp;&nbsp;</span>global median threshold</a></span></li></ul></li><li><span><a href=\"#Parametric\" data-toc-modified-id=\"Parametric-8\"><span class=\"toc-item-num\">8&nbsp;&nbsp;</span>Parametric</a></span><ul class=\"toc-item\"><li><span><a href=\"#Absolute-Threshold\" data-toc-modified-id=\"Absolute-Threshold-8.1\"><span class=\"toc-item-num\">8.1&nbsp;&nbsp;</span>Absolute Threshold</a></span></li><li><span><a href=\"#Hysteresis\" data-toc-modified-id=\"Hysteresis-8.2\"><span class=\"toc-item-num\">8.2&nbsp;&nbsp;</span>Hysteresis</a></span></li><li><span><a href=\"#Derivative\" data-toc-modified-id=\"Derivative-8.3\"><span class=\"toc-item-num\">8.3&nbsp;&nbsp;</span>Derivative</a></span></li></ul></li></ul></div>"
   ]
  },
  {
   "cell_type": "markdown",
   "metadata": {
    "collapsed": true
   },
   "source": [
    "# Import"
   ]
  },
  {
   "cell_type": "code",
   "execution_count": 22,
   "metadata": {},
   "outputs": [
    {
     "name": "stdout",
     "output_type": "stream",
     "text": [
      "Uninstalling sed-tool-0.0.4:\r\n",
      "  Successfully uninstalled sed-tool-0.0.4\r\n"
     ]
    }
   ],
   "source": [
    "!pip uninstall sed_tool -y"
   ]
  },
  {
   "cell_type": "code",
   "execution_count": 2,
   "metadata": {
    "ExecuteTime": {
     "end_time": "2019-03-29T13:03:08.361121Z",
     "start_time": "2019-03-29T13:03:08.318026Z"
    }
   },
   "outputs": [
    {
     "name": "stdout",
     "output_type": "stream",
     "text": [
      "The autoreload extension is already loaded. To reload it, use:\n",
      "  %reload_ext autoreload\n"
     ]
    }
   ],
   "source": [
    "%load_ext autoreload\n",
    "%autoreload 2\n",
    "\n",
    "import numpy as np\n",
    "import time\n",
    "import os\n",
    "import matplotlib.pyplot as plt\n",
    "import dcase_util as dcu\n",
    "\n",
    "from sed_tool.Encoder import Encoder\n",
    "from sed_tool.optimizers import GenOptimizer, DichotomicOptimizer\n",
    "from sed_tool.sed_tools import eb_evaluator\n",
    "\n",
    "import numpy as np\n",
    "\n",
    "import matplotlib.pyplot as plt\n",
    "\n",
    "# import jtplot submodule from jupyterthemes\n",
    "from jupyterthemes import jtplot\n",
    "jtplot.style(theme=\"onedork\", context=\"notebook\", grid=True)\n",
    "jtplot.base_context[\"grid.linewidth\"] = 0.2"
   ]
  },
  {
   "cell_type": "markdown",
   "metadata": {},
   "source": [
    "# To load the data"
   ]
  },
  {
   "cell_type": "code",
   "execution_count": 37,
   "metadata": {
    "ExecuteTime": {
     "end_time": "2019-03-29T13:10:52.062556Z",
     "start_time": "2019-03-29T13:10:52.015159Z"
    },
    "code_folding": [
     33,
     58,
     84,
     90
    ]
   },
   "outputs": [],
   "source": [
    "import numpy as np\n",
    "import os\n",
    "\n",
    "class_correspondance = {\"Alarm_bell_ringing\": 0, \"Speech\": 1, \"Dog\": 2, \"Cat\": 3, \"Vacuum_cleaner\": 4,\n",
    "                        \"Dishes\": 5, \"Frying\": 6, \"Electric_shaver_toothbrush\": 7, \"Blender\": 8, \"Running_water\": 9}\n",
    "\n",
    "\n",
    "def load_test_mil():\n",
    "    filenames = np.load(os.path.join(\"data\", \"metadata\", \"X_test_fn.npy\"))\n",
    "    strong_prediction = np.load(os.path.join(\"data\", \"strong_prediction\", \"mil_cos_test.npy\"))\n",
    "    \n",
    "    return strong_prediction, filenames\n",
    "\n",
    "def load_eval_mil():\n",
    "    filenames = np.load(os.path.join(\"data\", \"metadata\", \"X_eval_fn.npy\"))\n",
    "    strong_prediction = np.load(os.path.join(\"data\", \"strong_prediction\", \"mil_cos_eval.npy\"))\n",
    "    \n",
    "    return strong_prediction, filenames\n",
    "\n",
    "\n",
    "def load_test_baseline():\n",
    "    filenames = np.load(os.path.join(\"data\", \"metadata\", \"X_test_fn.npy\"))\n",
    "    strong_prediction = np.load(os.path.join(\"data\",\"strong_prediction\", \"baseline_test.npy\"))\n",
    "\n",
    "    return strong_prediction, filenames\n",
    "\n",
    "def load_eval_baseline():\n",
    "    filenames = np.load(os.path.join(\"data\", \"metadata\", \"X_eval_fn.npy\"))\n",
    "    strong_prediction = np.load(os.path.join(\"data\",\"strong_prediction\", \"baseline_eval.npy\"))\n",
    "\n",
    "    return strong_prediction, filenames\n",
    "\n",
    "\n",
    "def load_test_ground_truth():\n",
    "    test_unique_names = np.load(os.path.join(\"data\", \"metadata\", \"X_test_fn.npy\"))\n",
    "\n",
    "    with open(os.path.join(\"data\", \"metadata\", \"test.csv\"), \"r\") as f:\n",
    "        test_metadata = f.read().splitlines()[1:]\n",
    "    test_metadata = np.array([info.split(\"\\t\") for info in test_metadata])\n",
    "    test_medata_filenames = np.unique(test_metadata[:, 0])\n",
    "\n",
    "    y_test = []\n",
    "    for name in test_medata_filenames:\n",
    "        # remove  missing files\n",
    "        if name not in test_unique_names:\n",
    "            continue\n",
    "\n",
    "        # create a tag level prediction (aka weak labels)\n",
    "        output = [0] * 10\n",
    "\n",
    "        for d in test_metadata:\n",
    "            if d[0] == name:\n",
    "                output[class_correspondance[d[-1]]] = 1\n",
    "        y_test.append(output)\n",
    "    y_test = np.array(y_test)\n",
    "\n",
    "    return y_test\n",
    "\n",
    "def load_eval_ground_truth():\n",
    "    eval_unique_names = np.load(os.path.join(\"data\", \"metadata\", \"X_eval_fn.npy\"))\n",
    "\n",
    "    with open(os.path.join(\"data\", \"metadata\", \"eval.csv\"), \"r\") as f:\n",
    "        eval_metadata = f.read().splitlines()[1:]\n",
    "    eval_metadata = [info.split(\"\\t\") for info in eval_metadata]\n",
    "    eval_medata_filenames = np.unique([i[0] for i in eval_metadata])\n",
    "\n",
    "    y_test = []\n",
    "    for name in eval_medata_filenames:\n",
    "        # remove  missing files\n",
    "        if name not in eval_unique_names:\n",
    "            continue\n",
    "\n",
    "        # create a tag level prediction (aka weak labels)\n",
    "        output = [0] * 10\n",
    "\n",
    "        for d in eval_metadata:\n",
    "            if d[0] == name:\n",
    "                if len(d) == 4:\n",
    "                    output[class_correspondance[d[-1]]] = 1\n",
    "        y_test.append(output)\n",
    "    y_test = np.array(y_test)\n",
    "\n",
    "    return y_test\n",
    "\n",
    "def load_test_strong_ground_truth():\n",
    "    # test ground truth\n",
    "    with open(os.path.join(\"data\", \"metadata\", \"test.csv\"), \"r\") as f:\n",
    "        strong_y_true = f.read().splitlines()[1:]\n",
    "    return strong_y_true\n",
    "\n",
    "def load_eval_strong_ground_truth():\n",
    "    # test ground truth\n",
    "    with open(os.path.join(\"data\", \"metadata\", \"eval.csv\"), \"r\") as f:\n",
    "        strong_y_true = f.read().splitlines()[1:]\n",
    "    return strong_y_true"
   ]
  },
  {
   "cell_type": "markdown",
   "metadata": {},
   "source": [
    "# Load the strong annotation and the ground thruth"
   ]
  },
  {
   "cell_type": "code",
   "execution_count": 190,
   "metadata": {
    "ExecuteTime": {
     "end_time": "2019-03-31T19:45:54.987689Z",
     "start_time": "2019-03-31T19:45:54.943784Z"
    }
   },
   "outputs": [],
   "source": [
    "test_strong_prediction, test_filenames = load_test_baseline()\n",
    "eval_strong_prediction, eval_filenames = load_eval_baseline()\n",
    "\n",
    "# test & eval ground truth\n",
    "test_strong_y_true = load_test_strong_ground_truth()\n",
    "eval_strong_y_true = load_eval_strong_ground_truth()"
   ]
  },
  {
   "cell_type": "code",
   "execution_count": 191,
   "metadata": {
    "ExecuteTime": {
     "end_time": "2019-03-31T19:45:55.901106Z",
     "start_time": "2019-03-31T19:45:55.865656Z"
    }
   },
   "outputs": [
    {
     "data": {
      "text/plain": [
       "(0.14192514, 0.2932046, (279, 431, 10))"
      ]
     },
     "execution_count": 191,
     "metadata": {},
     "output_type": "execute_result"
    }
   ],
   "source": [
    "test_strong_prediction.mean(), test_strong_prediction.std(), test_strong_prediction.shape"
   ]
  },
  {
   "cell_type": "markdown",
   "metadata": {},
   "source": [
    "# Prune using ground truth (ORACLE)"
   ]
  },
  {
   "cell_type": "code",
   "execution_count": 193,
   "metadata": {
    "ExecuteTime": {
     "end_time": "2019-03-31T19:46:06.354046Z",
     "start_time": "2019-03-31T19:46:06.328534Z"
    }
   },
   "outputs": [],
   "source": [
    "# Prune the result of fill the missing curve with 0 segments\n",
    "def prune_prediction(strong_prediction, cls_prediction):\n",
    "    \"\"\" Prune the strong prediciton by zeroing all classes that are not predicted. \"\"\"\n",
    "    pruned_prediction = strong_prediction.copy()\n",
    "    \n",
    "    for index in range(len(pruned_prediction)):\n",
    "        cls_result = cls_prediction[index].copy()\n",
    "        curves = pruned_prediction[index]\n",
    "\n",
    "        for i in range(len(cls_result)):\n",
    "            if cls_result[i] == 0:\n",
    "                curves[:,i] = 0\n",
    "                \n",
    "    return pruned_prediction"
   ]
  },
  {
   "cell_type": "code",
   "execution_count": 194,
   "metadata": {
    "ExecuteTime": {
     "end_time": "2019-03-31T19:46:07.023668Z",
     "start_time": "2019-03-31T19:46:06.584955Z"
    }
   },
   "outputs": [],
   "source": [
    "test_gt = load_test_ground_truth()\n",
    "eval_gt = load_eval_ground_truth()\n",
    "\n",
    "eval_strong_prediction = prune_prediction(eval_strong_prediction, eval_gt)\n",
    "test_strong_prediction = prune_prediction(test_strong_prediction, test_gt)"
   ]
  },
  {
   "cell_type": "code",
   "execution_count": 195,
   "metadata": {
    "ExecuteTime": {
     "end_time": "2019-03-31T19:46:07.949015Z",
     "start_time": "2019-03-31T19:46:07.916596Z"
    }
   },
   "outputs": [
    {
     "data": {
      "text/plain": [
       "(0.10322174, 0.28206804)"
      ]
     },
     "execution_count": 195,
     "metadata": {},
     "output_type": "execute_result"
    }
   ],
   "source": [
    "test_strong_prediction.mean(), test_strong_prediction.std()"
   ]
  },
  {
   "cell_type": "markdown",
   "metadata": {},
   "source": [
    "# Display function"
   ]
  },
  {
   "cell_type": "code",
   "execution_count": 97,
   "metadata": {
    "ExecuteTime": {
     "end_time": "2019-03-31T09:44:26.384036Z",
     "start_time": "2019-03-31T09:44:26.350975Z"
    }
   },
   "outputs": [],
   "source": [
    "# monitor one metrics\n",
    "def monitor_one(results, metric, sort: bool = False):\n",
    "    out = []\n",
    "    \n",
    "    for k in results.keys():\n",
    "        out.append((k, results[k][\"class_wise_average\"][\"f_measure\"][metric]))\n",
    "        \n",
    "    if sorted:\n",
    "        out = sorted(out, key=lambda x: x[1])\n",
    "    \n",
    "    return np.array(out)\n",
    "\n",
    "def display_history(metric, hist_metric=None, bins=20):\n",
    "    x, y = metric[:, 0], metric[:, 1]\n",
    "\n",
    "    max_y = max(y)\n",
    "    max_x = list(y).index(max_y)\n",
    "    print(max_x, max_y)\n",
    "\n",
    "    plt.figure(figsize=(20, 5))\n",
    "    plt.subplot(1, 2, 1)\n",
    "    plt.title(\"f_measure\")\n",
    "    plt.plot(range(len(y)), y, label=\"f1\")\n",
    "    plt.plot(max_x, max_y, \"ro\", label=\"f1:%.2f\" % (max_y, ))\n",
    "\n",
    "    plt.ylabel(\"f1\")\n",
    "    plt.xlabel(\"threshold\")\n",
    "    plt.xticks([0, len(x)], [0, len(x)])\n",
    "    plt.legend()\n",
    "\n",
    "    plt.subplot(1, 2, 2)\n",
    "    \n",
    "    if hist_metric is None:\n",
    "        plt.hist(list(y), bins=bins)\n",
    "    else:\n",
    "        plt.hist(hist_metric, bins=bins)\n",
    "    plt.show()\n",
    "    \n",
    "    return x[list(y).index(max_y)]"
   ]
  },
  {
   "cell_type": "markdown",
   "metadata": {},
   "source": [
    "# Manual"
   ]
  },
  {
   "cell_type": "code",
   "execution_count": 203,
   "metadata": {
    "ExecuteTime": {
     "end_time": "2019-03-31T19:49:09.688283Z",
     "start_time": "2019-03-31T19:49:05.393825Z"
    }
   },
   "outputs": [
    {
     "name": "stdout",
     "output_type": "stream",
     "text": [
      "Event based metrics (onset-offset)\n",
      "========================================\n",
      "  Evaluated length                  : 2616.88 sec\n",
      "  Evaluated files                   : 288 \n",
      "  Evaluate onset                    : True \n",
      "  Evaluate offset                   : True \n",
      "  T collar                          : 200.00 ms\n",
      "  Offset (length)                   : 20.00 %\n",
      "\n",
      "  Overall metrics (micro-average)\n",
      "  ======================================\n",
      "  F-measure\n",
      "    F-measure (F1)                  : 8.26 %\n",
      "    Precision                       : 11.65 %\n",
      "    Recall                          : 6.40 %\n",
      "  Error rate\n",
      "    Error rate (ER)                 : 1.41 \n",
      "    Substitution rate               : 0.01 \n",
      "    Deletion rate                   : 0.92 \n",
      "    Insertion rate                  : 0.47 \n",
      "\n",
      "  Class-wise average metrics (macro-average)\n",
      "  ======================================\n",
      "  F-measure\n",
      "    F-measure (F1)                  : 15.30 %\n",
      "    Precision                       : 15.37 %\n",
      "    Recall                          : 16.00 %\n",
      "  Error rate\n",
      "    Error rate (ER)                 : 1.44 \n",
      "    Deletion rate                   : 0.84 \n",
      "    Insertion rate                  : 0.60 \n",
      "  \n",
      "\n",
      "  Class-wise metrics\n",
      "  ======================================\n",
      "    Event label  | Nref    Nsys  | F        Pre      Rec    | ER       Del      Ins    |\n",
      "    ------------ | -----   ----- | ------   ------   ------ | ------   ------   ------ |\n",
      "    Alarm_bell.. | 112     51    | 3.7%     5.9%     2.7%   | 1.40     0.97     0.43   |\n",
      "    Blender      | 40      53    | 6.5%     5.7%     7.5%   | 2.17     0.93     1.25   |\n",
      "    Cat          | 82      32    | 0.0%     0.0%     0.0%   | 1.39     1.00     0.39   |\n",
      "    Dishes       | 122     43    | 0.0%     0.0%     0.0%   | 1.35     1.00     0.35   |\n",
      "    Dog          | 126     35    | 3.7%     8.6%     2.4%   | 1.23     0.98     0.25   |\n",
      "    Electric_s.. | 28      25    | 37.7%    40.0%    35.7%  | 1.18     0.64     0.54   |\n",
      "    Frying       | 24      27    | 51.0%    48.1%    54.2%  | 1.04     0.46     0.58   |\n",
      "    Running_wa.. | 76      71    | 13.6%    14.1%    13.2%  | 1.67     0.87     0.80   |\n",
      "    Speech       | 260     110   | 0.0%     0.0%     0.0%   | 1.42     1.00     0.42   |\n",
      "    Vacuum_cle.. | 36      51    | 36.8%    31.4%    44.4%  | 1.53     0.56     0.97   |\n",
      "\n",
      "\n"
     ]
    }
   ],
   "source": [
    "# TEST\n",
    "# Create the encoder that will be used\n",
    "class_list = ['Alarm_bell_ringing', 'Speech', 'Dog', 'Cat', 'Vacuum_cleaner', 'Dishes', 'Frying', 'Electric_shaver_toothbrush', 'Blender', 'Running_water']\n",
    "\n",
    "encoder = Encoder(\n",
    "    classes=class_list,\n",
    "    temporal_precision = 200,  # ms\n",
    "    clip_length = 10,          # s\n",
    "    minimal_segment_step = 200 # ms\n",
    ")\n",
    "\n",
    "segments = encoder.encode(\n",
    "    test_strong_prediction,\n",
    "    method=\"threshold\",\n",
    "    threshold=0.35\n",
    ")\n",
    "to_evaluate = encoder.parse(segments, test_filenames)\n",
    "evaluator = eb_evaluator(test_strong_y_true, to_evaluate)\n",
    "print(evaluator)"
   ]
  },
  {
   "cell_type": "markdown",
   "metadata": {},
   "source": [
    "# Data driven\n",
    " **baseline**\n",
    " \n",
    "|         .               |  test |  .   |  eval |  .   |\n",
    "|--------------------     | ----- |------| ----- |------|\n",
    "|         .               |   f1  |  er  |   f1  |  er  |\n",
    "| mean threshold          |  2.45 | 3.00 |  3.53 | 3.12 |\n",
    "| global mean threhsold   | 19.87 | 1.30 | 17.87 | 1.46 |\n",
    "| median threshold        |  3.28 | 3.38 |  3.02 | 3.51 |\n",
    "| global median threshold | 19.53 | 1.32 | 17.74 | 1.46 |\n",
    "\n",
    "**mil**\n",
    "\n",
    "|         .               |  test |  .   |  eval |  .   |\n",
    "|--------------------     | ----- |------| ----- |------|\n",
    "|         .               |   f1  |  er  |   f1  |  er  |\n",
    "| mean threshold          | 12.90 | 6.12 | 10.21 | 6.11 |\n",
    "| global mean threhsold   | 28.96 | 1.34 | 25.45 | 1.51 |\n",
    "| median threshold        |  7.97 | 5.39 |  7.50 | 4.83 |\n",
    "| global median threshold | 29.00 | 1.30 | 25.36 | 1.52 |\n",
    "\n",
    "**cos mil**\n",
    "\n",
    "|         .               |  test |  .   |  eval |  .   |\n",
    "|--------------------     | ----- |------| ----- |------|\n",
    "|         .               |   f1  |  er  |   f1  |  er  |\n",
    "| mean threshold          | 15,20 | 4,44 | 11,98 | 4,65 |\n",
    "| global mean threhsold   | 32,47 | 1,81 | 29,09 | 2,36 |\n",
    "| median threshold        |  9,43 | 4,46 |  8,94 | 4,79 |\n",
    "| global median threshold | 31,45 | 1,74 | 29,30 | 2,32 |"
   ]
  },
  {
   "cell_type": "code",
   "execution_count": 20,
   "metadata": {
    "ExecuteTime": {
     "end_time": "2019-03-29T13:04:43.091825Z",
     "start_time": "2019-03-29T13:04:43.053074Z"
    }
   },
   "outputs": [],
   "source": [
    "class_list = ['Alarm_bell_ringing', 'Speech', 'Dog', 'Cat', 'Vacuum_cleaner', 'Dishes', 'Frying', 'Electric_shaver_toothbrush', 'Blender', 'Running_water']\n",
    "\n",
    "# Create the encoder that will be used\n",
    "encoder = Encoder(\n",
    "    classes=class_list,\n",
    "    temporal_precision = 200,  # ms\n",
    "    clip_length = 10,          # s\n",
    "    minimal_segment_step = 200 # ms\n",
    ")"
   ]
  },
  {
   "cell_type": "markdown",
   "metadata": {
    "heading_collapsed": true
   },
   "source": [
    "## mean threshold"
   ]
  },
  {
   "cell_type": "code",
   "execution_count": 21,
   "metadata": {
    "ExecuteTime": {
     "end_time": "2019-03-29T13:04:47.492995Z",
     "start_time": "2019-03-29T13:04:43.570306Z"
    },
    "hidden": true,
    "scrolled": true
   },
   "outputs": [
    {
     "name": "stdout",
     "output_type": "stream",
     "text": [
      "Event based metrics (onset-offset)\n",
      "========================================\n",
      "  Evaluated length                  : 2616.88 sec\n",
      "  Evaluated files                   : 288 \n",
      "  Evaluate onset                    : True \n",
      "  Evaluate offset                   : True \n",
      "  T collar                          : 200.00 ms\n",
      "  Offset (length)                   : 20.00 %\n",
      "\n",
      "  Overall metrics (micro-average)\n",
      "  ======================================\n",
      "  F-measure\n",
      "    F-measure (F1)                  : 15.55 %\n",
      "    Precision                       : 10.47 %\n",
      "    Recall                          : 30.24 %\n",
      "  Error rate\n",
      "    Error rate (ER)                 : 3.28 \n",
      "    Substitution rate               : 0.01 \n",
      "    Deletion rate                   : 0.69 \n",
      "    Insertion rate                  : 2.58 \n",
      "\n",
      "  Class-wise average metrics (macro-average)\n",
      "  ======================================\n",
      "  F-measure\n",
      "    F-measure (F1)                  : 15.20 %\n",
      "    Precision                       : 11.55 %\n",
      "    Recall                          : 24.10 %\n",
      "  Error rate\n",
      "    Error rate (ER)                 : 4.44 \n",
      "    Deletion rate                   : 0.76 \n",
      "    Insertion rate                  : 3.68 \n",
      "  \n",
      "\n",
      "  Class-wise metrics\n",
      "  ======================================\n",
      "    Event label  | Nref    Nsys  | F        Pre      Rec    | ER       Del      Ins    |\n",
      "    ------------ | -----   ----- | ------   ------   ------ | ------   ------   ------ |\n",
      "    Alarm_bell.. | 112     166   | 46.0%    38.6%    57.1%  | 1.34     0.43     0.91   |\n",
      "    Blender      | 40      127   | 9.6%     6.3%     20.0%  | 3.78     0.80     2.98   |\n",
      "    Cat          | 82      144   | 33.6%    26.4%    46.3%  | 1.83     0.54     1.29   |\n",
      "    Dishes       | 122     489   | 14.1%    8.8%     35.2%  | 4.30     0.65     3.66   |\n",
      "    Dog          | 126     242   | 26.6%    20.2%    38.9%  | 2.14     0.61     1.53   |\n",
      "    Electric_s.. | 28      195   | 1.8%     1.0%     7.1%   | 7.82     0.93     6.89   |\n",
      "    Frying       | 24      199   | 0.0%     0.0%     0.0%   | 9.29     1.00     8.29   |\n",
      "    Running_wa.. | 76      269   | 5.8%     3.7%     13.2%  | 4.28     0.87     3.41   |\n",
      "    Speech       | 260     573   | 14.4%    10.5%    23.1%  | 2.74     0.77     1.97   |\n",
      "    Vacuum_cle.. | 36      213   | 0.0%     0.0%     0.0%   | 6.92     1.00     5.92   |\n",
      "\n",
      "\n"
     ]
    }
   ],
   "source": [
    "# TEST\n",
    "segments = encoder.encode(\n",
    "    test_strong_prediction,\n",
    "    method=\"mean_threshold\"\n",
    ")\n",
    "to_evaluate = encoder.parse(segments, test_filenames)\n",
    "evaluator = eb_evaluator(test_strong_y_true, to_evaluate)\n",
    "print(evaluator)"
   ]
  },
  {
   "cell_type": "code",
   "execution_count": 22,
   "metadata": {
    "ExecuteTime": {
     "end_time": "2019-03-29T13:05:00.832943Z",
     "start_time": "2019-03-29T13:04:47.495460Z"
    },
    "hidden": true,
    "scrolled": true
   },
   "outputs": [
    {
     "name": "stdout",
     "output_type": "stream",
     "text": [
      "Event based metrics (onset-offset)\n",
      "========================================\n",
      "  Evaluated length                  : 7543.56 sec\n",
      "  Evaluated files                   : 880 \n",
      "  Evaluate onset                    : True \n",
      "  Evaluate offset                   : True \n",
      "  T collar                          : 200.00 ms\n",
      "  Offset (length)                   : 20.00 %\n",
      "\n",
      "  Overall metrics (micro-average)\n",
      "  ======================================\n",
      "  F-measure\n",
      "    F-measure (F1)                  : 14.89 %\n",
      "    Precision                       : 10.05 %\n",
      "    Recall                          : 28.69 %\n",
      "  Error rate\n",
      "    Error rate (ER)                 : 3.27 \n",
      "    Substitution rate               : 0.01 \n",
      "    Deletion rate                   : 0.70 \n",
      "    Insertion rate                  : 2.55 \n",
      "\n",
      "  Class-wise average metrics (macro-average)\n",
      "  ======================================\n",
      "  F-measure\n",
      "    F-measure (F1)                  : 11.98 %\n",
      "    Precision                       : 8.35 %\n",
      "    Recall                          : 22.70 %\n",
      "  Error rate\n",
      "    Error rate (ER)                 : 4.65 \n",
      "    Deletion rate                   : 0.77 \n",
      "    Insertion rate                  : 3.88 \n",
      "  \n",
      "\n",
      "  Class-wise metrics\n",
      "  ======================================\n",
      "    Event label  | Nref    Nsys  | F        Pre      Rec    | ER       Del      Ins    |\n",
      "    ------------ | -----   ----- | ------   ------   ------ | ------   ------   ------ |\n",
      "    Alarm_bell.. | 306     704   | 30.7%    22.0%    50.7%  | 2.29     0.49     1.79   |\n",
      "    Blender      | 56      179   | 14.5%    9.5%     30.4%  | 3.59     0.70     2.89   |\n",
      "    Cat          | 243     440   | 19.0%    14.8%    26.7%  | 2.28     0.73     1.54   |\n",
      "    Dishes       | 370     1475  | 17.0%    10.6%    42.4%  | 4.14     0.58     3.56   |\n",
      "    Dog          | 450     1121  | 16.2%    11.3%    28.2%  | 2.93     0.72     2.21   |\n",
      "    Electric_s.. | 37      281   | 1.3%     0.7%     5.4%   | 8.49     0.95     7.54   |\n",
      "    Frying       | 67      452   | 0.0%     0.0%     0.0%   | 7.75     1.00     6.75   |\n",
      "    Running_wa.. | 154     763   | 5.5%     3.3%     16.2%  | 5.63     0.84     4.79   |\n",
      "    Speech       | 1401    3231  | 15.2%    10.9%    25.1%  | 2.80     0.75     2.05   |\n",
      "    Vacuum_cle.. | 56      316   | 0.5%     0.3%     1.8%   | 6.61     0.98     5.62   |\n",
      "\n",
      "\n"
     ]
    }
   ],
   "source": [
    "# EVAL\n",
    "segments = encoder.encode(\n",
    "    eval_strong_prediction,\n",
    "    method=\"mean_threshold\"\n",
    ")\n",
    "to_evaluate = encoder.parse(segments, eval_filenames)\n",
    "evaluator = eb_evaluator(eval_strong_y_true, to_evaluate)\n",
    "print(evaluator)"
   ]
  },
  {
   "cell_type": "markdown",
   "metadata": {
    "heading_collapsed": true
   },
   "source": [
    "## global mean threshold"
   ]
  },
  {
   "cell_type": "code",
   "execution_count": 30,
   "metadata": {
    "ExecuteTime": {
     "end_time": "2019-03-29T13:06:42.956451Z",
     "start_time": "2019-03-29T13:06:39.413040Z"
    },
    "hidden": true,
    "scrolled": true
   },
   "outputs": [
    {
     "name": "stdout",
     "output_type": "stream",
     "text": [
      "Event based metrics (onset-offset)\n",
      "========================================\n",
      "  Evaluated length                  : 2616.88 sec\n",
      "  Evaluated files                   : 288 \n",
      "  Evaluate onset                    : True \n",
      "  Evaluate offset                   : True \n",
      "  T collar                          : 200.00 ms\n",
      "  Offset (length)                   : 20.00 %\n",
      "\n",
      "  Overall metrics (micro-average)\n",
      "  ======================================\n",
      "  F-measure\n",
      "    F-measure (F1)                  : 25.95 %\n",
      "    Precision                       : 21.03 %\n",
      "    Recall                          : 33.89 %\n",
      "  Error rate\n",
      "    Error rate (ER)                 : 1.92 \n",
      "    Substitution rate               : 0.01 \n",
      "    Deletion rate                   : 0.65 \n",
      "    Insertion rate                  : 1.26 \n",
      "\n",
      "  Class-wise average metrics (macro-average)\n",
      "  ======================================\n",
      "  F-measure\n",
      "    F-measure (F1)                  : 32.47 %\n",
      "    Precision                       : 27.97 %\n",
      "    Recall                          : 40.64 %\n",
      "  Error rate\n",
      "    Error rate (ER)                 : 1.81 \n",
      "    Deletion rate                   : 0.59 \n",
      "    Insertion rate                  : 1.22 \n",
      "  \n",
      "\n",
      "  Class-wise metrics\n",
      "  ======================================\n",
      "    Event label  | Nref    Nsys  | F        Pre      Rec    | ER       Del      Ins    |\n",
      "    ------------ | -----   ----- | ------   ------   ------ | ------   ------   ------ |\n",
      "    Alarm_bell.. | 112     112   | 46.4%    46.4%    46.4%  | 1.07     0.54     0.54   |\n",
      "    Blender      | 40      74    | 42.1%    32.4%    60.0%  | 1.65     0.40     1.25   |\n",
      "    Cat          | 82      138   | 34.5%    27.5%    46.3%  | 1.76     0.54     1.22   |\n",
      "    Dishes       | 122     252   | 5.3%     4.0%     8.2%   | 2.90     0.92     1.98   |\n",
      "    Dog          | 126     166   | 22.6%    19.9%    26.2%  | 1.79     0.74     1.06   |\n",
      "    Electric_s.. | 28      27    | 47.3%    48.1%    46.4%  | 1.04     0.54     0.50   |\n",
      "    Frying       | 24      56    | 30.0%    21.4%    50.0%  | 2.33     0.50     1.83   |\n",
      "    Running_wa.. | 76      152   | 14.0%    10.5%    21.1%  | 2.58     0.79     1.79   |\n",
      "    Speech       | 260     433   | 24.2%    19.4%    32.3%  | 2.02     0.68     1.34   |\n",
      "    Vacuum_cle.. | 36      50    | 58.1%    50.0%    69.4%  | 1.00     0.31     0.69   |\n",
      "\n",
      "\n"
     ]
    }
   ],
   "source": [
    "# TEST\n",
    "segments = encoder.encode(\n",
    "    test_strong_prediction,\n",
    "    method=\"global_mean_threshold\",\n",
    "    independent=True\n",
    ")\n",
    "to_evaluate = encoder.parse(segments, test_filenames)\n",
    "evaluator = eb_evaluator(test_strong_y_true, to_evaluate)\n",
    "print(evaluator)"
   ]
  },
  {
   "cell_type": "code",
   "execution_count": 32,
   "metadata": {
    "ExecuteTime": {
     "end_time": "2019-03-29T13:07:08.640541Z",
     "start_time": "2019-03-29T13:06:55.722011Z"
    },
    "hidden": true,
    "scrolled": true
   },
   "outputs": [
    {
     "name": "stdout",
     "output_type": "stream",
     "text": [
      "Event based metrics (onset-offset)\n",
      "========================================\n",
      "  Evaluated length                  : 7543.56 sec\n",
      "  Evaluated files                   : 880 \n",
      "  Evaluate onset                    : True \n",
      "  Evaluate offset                   : True \n",
      "  T collar                          : 200.00 ms\n",
      "  Offset (length)                   : 20.00 %\n",
      "\n",
      "  Overall metrics (micro-average)\n",
      "  ======================================\n",
      "  F-measure\n",
      "    F-measure (F1)                  : 22.19 %\n",
      "    Precision                       : 16.84 %\n",
      "    Recall                          : 32.52 %\n",
      "  Error rate\n",
      "    Error rate (ER)                 : 2.27 \n",
      "    Substitution rate               : 0.01 \n",
      "    Deletion rate                   : 0.66 \n",
      "    Insertion rate                  : 1.59 \n",
      "\n",
      "  Class-wise average metrics (macro-average)\n",
      "  ======================================\n",
      "  F-measure\n",
      "    F-measure (F1)                  : 29.09 %\n",
      "    Precision                       : 23.19 %\n",
      "    Recall                          : 44.61 %\n",
      "  Error rate\n",
      "    Error rate (ER)                 : 2.36 \n",
      "    Deletion rate                   : 0.55 \n",
      "    Insertion rate                  : 1.80 \n",
      "  \n",
      "\n",
      "  Class-wise metrics\n",
      "  ======================================\n",
      "    Event label  | Nref    Nsys  | F        Pre      Rec    | ER       Del      Ins    |\n",
      "    ------------ | -----   ----- | ------   ------   ------ | ------   ------   ------ |\n",
      "    Alarm_bell.. | 306     381   | 40.2%    36.2%    45.1%  | 1.34     0.55     0.79   |\n",
      "    Blender      | 56      217   | 32.2%    20.3%    78.6%  | 3.30     0.21     3.09   |\n",
      "    Cat          | 243     394   | 29.2%    23.6%    38.3%  | 1.86     0.62     1.24   |\n",
      "    Dishes       | 370     909   | 7.8%     5.5%     13.5%  | 3.19     0.86     2.32   |\n",
      "    Dog          | 450     915   | 20.7%    15.4%    31.3%  | 2.41     0.69     1.72   |\n",
      "    Electric_s.. | 37      37    | 59.5%    59.5%    59.5%  | 0.81     0.41     0.41   |\n",
      "    Frying       | 67      191   | 23.3%    15.7%    44.8%  | 2.96     0.55     2.40   |\n",
      "    Running_wa.. | 154     475   | 14.9%    9.9%     30.5%  | 3.47     0.69     2.78   |\n",
      "    Speech       | 1401    2397  | 21.8%    17.3%    29.6%  | 2.12     0.70     1.42   |\n",
      "    Vacuum_cle.. | 56      147   | 41.4%    28.6%    75.0%  | 2.12     0.25     1.88   |\n",
      "\n",
      "\n"
     ]
    }
   ],
   "source": [
    "# EVAL\n",
    "segments = encoder.encode(\n",
    "    eval_strong_prediction,\n",
    "    method=\"global_mean_threshold\",\n",
    "    independent=True\n",
    ")\n",
    "to_evaluate = encoder.parse(segments, eval_filenames)\n",
    "evaluator = eb_evaluator(eval_strong_y_true, to_evaluate)\n",
    "print(evaluator)"
   ]
  },
  {
   "cell_type": "markdown",
   "metadata": {
    "heading_collapsed": true
   },
   "source": [
    "## median threshold"
   ]
  },
  {
   "cell_type": "code",
   "execution_count": 33,
   "metadata": {
    "ExecuteTime": {
     "end_time": "2019-03-29T13:07:12.207238Z",
     "start_time": "2019-03-29T13:07:08.644657Z"
    },
    "hidden": true,
    "scrolled": true
   },
   "outputs": [
    {
     "name": "stdout",
     "output_type": "stream",
     "text": [
      "Event based metrics (onset-offset)\n",
      "========================================\n",
      "  Evaluated length                  : 2616.88 sec\n",
      "  Evaluated files                   : 288 \n",
      "  Evaluate onset                    : True \n",
      "  Evaluate offset                   : True \n",
      "  T collar                          : 200.00 ms\n",
      "  Offset (length)                   : 20.00 %\n",
      "\n",
      "  Overall metrics (micro-average)\n",
      "  ======================================\n",
      "  F-measure\n",
      "    F-measure (F1)                  : 11.10 %\n",
      "    Precision                       : 7.40 %\n",
      "    Recall                          : 22.19 %\n",
      "  Error rate\n",
      "    Error rate (ER)                 : 3.54 \n",
      "    Substitution rate               : 0.02 \n",
      "    Deletion rate                   : 0.76 \n",
      "    Insertion rate                  : 2.76 \n",
      "\n",
      "  Class-wise average metrics (macro-average)\n",
      "  ======================================\n",
      "  F-measure\n",
      "    F-measure (F1)                  : 9.43 %\n",
      "    Precision                       : 6.62 %\n",
      "    Recall                          : 17.15 %\n",
      "  Error rate\n",
      "    Error rate (ER)                 : 4.46 \n",
      "    Deletion rate                   : 0.83 \n",
      "    Insertion rate                  : 3.63 \n",
      "  \n",
      "\n",
      "  Class-wise metrics\n",
      "  ======================================\n",
      "    Event label  | Nref    Nsys  | F        Pre      Rec    | ER       Del      Ins    |\n",
      "    ------------ | -----   ----- | ------   ------   ------ | ------   ------   ------ |\n",
      "    Alarm_bell.. | 112     238   | 13.1%    9.7%     20.5%  | 2.71     0.79     1.92   |\n",
      "    Blender      | 40      132   | 9.3%     6.1%     20.0%  | 3.90     0.80     3.10   |\n",
      "    Cat          | 82      224   | 13.7%    9.4%     25.6%  | 3.22     0.74     2.48   |\n",
      "    Dishes       | 122     398   | 7.3%     4.8%     15.6%  | 3.95     0.84     3.11   |\n",
      "    Dog          | 126     258   | 29.7%    22.1%    45.2%  | 2.14     0.55     1.60   |\n",
      "    Electric_s.. | 28      163   | 0.0%     0.0%     0.0%   | 6.82     1.00     5.82   |\n",
      "    Frying       | 24      150   | 0.0%     0.0%     0.0%   | 7.25     1.00     6.25   |\n",
      "    Running_wa.. | 76      287   | 5.5%     3.5%     13.2%  | 4.51     0.87     3.64   |\n",
      "    Speech       | 260     640   | 13.3%    9.4%     23.1%  | 3.00     0.77     2.23   |\n",
      "    Vacuum_cle.. | 36      225   | 2.3%     1.3%     8.3%   | 7.08     0.92     6.17   |\n",
      "\n",
      "\n"
     ]
    }
   ],
   "source": [
    "# TEST\n",
    "segments = encoder.encode(\n",
    "    test_strong_prediction,\n",
    "    method=\"median_threshold\",\n",
    ")\n",
    "to_evaluate = encoder.parse(segments, test_filenames)\n",
    "evaluator = eb_evaluator(test_strong_y_true, to_evaluate)\n",
    "print(evaluator)"
   ]
  },
  {
   "cell_type": "code",
   "execution_count": 26,
   "metadata": {
    "ExecuteTime": {
     "end_time": "2019-03-29T13:05:32.554683Z",
     "start_time": "2019-03-29T13:05:20.123909Z"
    },
    "hidden": true,
    "scrolled": true
   },
   "outputs": [
    {
     "name": "stdout",
     "output_type": "stream",
     "text": [
      "Event based metrics (onset-offset)\n",
      "========================================\n",
      "  Evaluated length                  : 7543.56 sec\n",
      "  Evaluated files                   : 880 \n",
      "  Evaluate onset                    : True \n",
      "  Evaluate offset                   : True \n",
      "  T collar                          : 200.00 ms\n",
      "  Offset (length)                   : 20.00 %\n",
      "\n",
      "  Overall metrics (micro-average)\n",
      "  ======================================\n",
      "  F-measure\n",
      "    F-measure (F1)                  : 12.14 %\n",
      "    Precision                       : 8.23 %\n",
      "    Recall                          : 23.15 %\n",
      "  Error rate\n",
      "    Error rate (ER)                 : 3.32 \n",
      "    Substitution rate               : 0.03 \n",
      "    Deletion rate                   : 0.74 \n",
      "    Insertion rate                  : 2.55 \n",
      "\n",
      "  Class-wise average metrics (macro-average)\n",
      "  ======================================\n",
      "  F-measure\n",
      "    F-measure (F1)                  : 8.94 %\n",
      "    Precision                       : 6.05 %\n",
      "    Recall                          : 18.47 %\n",
      "  Error rate\n",
      "    Error rate (ER)                 : 4.79 \n",
      "    Deletion rate                   : 0.82 \n",
      "    Insertion rate                  : 3.97 \n",
      "  \n",
      "\n",
      "  Class-wise metrics\n",
      "  ======================================\n",
      "    Event label  | Nref    Nsys  | F        Pre      Rec    | ER       Del      Ins    |\n",
      "    ------------ | -----   ----- | ------   ------   ------ | ------   ------   ------ |\n",
      "    Alarm_bell.. | 306     892   | 18.2%    12.2%    35.6%  | 3.20     0.64     2.56   |\n",
      "    Blender      | 56      256   | 8.3%     5.1%     23.2%  | 5.11     0.77     4.34   |\n",
      "    Cat          | 243     578   | 14.6%    10.4%    24.7%  | 2.88     0.75     2.13   |\n",
      "    Dishes       | 370     1091  | 11.4%    7.6%     22.4%  | 3.50     0.78     2.72   |\n",
      "    Dog          | 450     1012  | 11.9%    8.6%     19.3%  | 2.86     0.81     2.06   |\n",
      "    Electric_s.. | 37      266   | 2.6%     1.5%     10.8%  | 7.97     0.89     7.08   |\n",
      "    Frying       | 67      409   | 0.4%     0.2%     1.5%   | 7.07     0.99     6.09   |\n",
      "    Running_wa.. | 154     786   | 3.8%     2.3%     11.7%  | 5.87     0.88     4.99   |\n",
      "    Speech       | 1401    3219  | 15.0%    10.7%    24.7%  | 2.80     0.75     2.05   |\n",
      "    Vacuum_cle.. | 56      326   | 3.1%     1.8%     10.7%  | 6.61     0.89     5.71   |\n",
      "\n",
      "\n"
     ]
    }
   ],
   "source": [
    "# EVAL\n",
    "segments = encoder.encode(\n",
    "    eval_strong_prediction,\n",
    "    method=\"median_threshold\",\n",
    ")\n",
    "to_evaluate = encoder.parse(segments, eval_filenames)\n",
    "evaluator = eb_evaluator(eval_strong_y_true, to_evaluate)\n",
    "print(evaluator)"
   ]
  },
  {
   "cell_type": "markdown",
   "metadata": {
    "heading_collapsed": true
   },
   "source": [
    "## global median threshold"
   ]
  },
  {
   "cell_type": "code",
   "execution_count": 34,
   "metadata": {
    "ExecuteTime": {
     "end_time": "2019-03-29T13:08:05.674270Z",
     "start_time": "2019-03-29T13:08:02.118117Z"
    },
    "hidden": true,
    "scrolled": true
   },
   "outputs": [
    {
     "name": "stdout",
     "output_type": "stream",
     "text": [
      "Event based metrics (onset-offset)\n",
      "========================================\n",
      "  Evaluated length                  : 2616.88 sec\n",
      "  Evaluated files                   : 288 \n",
      "  Evaluate onset                    : True \n",
      "  Evaluate offset                   : True \n",
      "  T collar                          : 200.00 ms\n",
      "  Offset (length)                   : 20.00 %\n",
      "\n",
      "  Overall metrics (micro-average)\n",
      "  ======================================\n",
      "  F-measure\n",
      "    F-measure (F1)                  : 28.19 %\n",
      "    Precision                       : 23.98 %\n",
      "    Recall                          : 34.22 %\n",
      "  Error rate\n",
      "    Error rate (ER)                 : 1.73 \n",
      "    Substitution rate               : 0.02 \n",
      "    Deletion rate                   : 0.64 \n",
      "    Insertion rate                  : 1.07 \n",
      "\n",
      "  Class-wise average metrics (macro-average)\n",
      "  ======================================\n",
      "  F-measure\n",
      "    F-measure (F1)                  : 31.45 %\n",
      "    Precision                       : 26.89 %\n",
      "    Recall                          : 40.38 %\n",
      "  Error rate\n",
      "    Error rate (ER)                 : 1.74 \n",
      "    Deletion rate                   : 0.60 \n",
      "    Insertion rate                  : 1.14 \n",
      "  \n",
      "\n",
      "  Class-wise metrics\n",
      "  ======================================\n",
      "    Event label  | Nref    Nsys  | F        Pre      Rec    | ER       Del      Ins    |\n",
      "    ------------ | -----   ----- | ------   ------   ------ | ------   ------   ------ |\n",
      "    Alarm_bell.. | 112     114   | 46.0%    45.6%    46.4%  | 1.09     0.54     0.55   |\n",
      "    Blender      | 40      82    | 37.7%    28.0%    57.5%  | 1.90     0.42     1.48   |\n",
      "    Cat          | 82      140   | 35.1%    27.9%    47.6%  | 1.76     0.52     1.23   |\n",
      "    Dishes       | 122     44    | 0.0%     0.0%     0.0%   | 1.36     1.00     0.36   |\n",
      "    Dog          | 126     157   | 23.3%    21.0%    26.2%  | 1.72     0.74     0.98   |\n",
      "    Electric_s.. | 28      27    | 47.3%    48.1%    46.4%  | 1.04     0.54     0.50   |\n",
      "    Frying       | 24      67    | 26.4%    17.9%    50.0%  | 2.79     0.50     2.29   |\n",
      "    Running_wa.. | 76      166   | 14.9%    10.8%    23.7%  | 2.71     0.76     1.95   |\n",
      "    Speech       | 260     444   | 27.0%    21.4%    36.5%  | 1.98     0.63     1.34   |\n",
      "    Vacuum_cle.. | 36      52    | 56.8%    48.1%    69.4%  | 1.06     0.31     0.75   |\n",
      "\n",
      "\n"
     ]
    }
   ],
   "source": [
    "# TEST\n",
    "segments = encoder.encode(\n",
    "    test_strong_prediction,\n",
    "    method=\"global_median_threshold\",\n",
    "    independent=True\n",
    ")\n",
    "to_evaluate = encoder.parse(segments, test_filenames)\n",
    "evaluator = eb_evaluator(test_strong_y_true, to_evaluate)\n",
    "print(evaluator)"
   ]
  },
  {
   "cell_type": "code",
   "execution_count": 36,
   "metadata": {
    "ExecuteTime": {
     "end_time": "2019-03-29T13:08:42.242227Z",
     "start_time": "2019-03-29T13:08:30.670109Z"
    },
    "hidden": true
   },
   "outputs": [
    {
     "name": "stdout",
     "output_type": "stream",
     "text": [
      "Event based metrics (onset-offset)\n",
      "========================================\n",
      "  Evaluated length                  : 7543.56 sec\n",
      "  Evaluated files                   : 880 \n",
      "  Evaluate onset                    : True \n",
      "  Evaluate offset                   : True \n",
      "  T collar                          : 200.00 ms\n",
      "  Offset (length)                   : 20.00 %\n",
      "\n",
      "  Overall metrics (micro-average)\n",
      "  ======================================\n",
      "  F-measure\n",
      "    F-measure (F1)                  : 26.27 %\n",
      "    Precision                       : 19.96 %\n",
      "    Recall                          : 38.41 %\n",
      "  Error rate\n",
      "    Error rate (ER)                 : 2.15 \n",
      "    Substitution rate               : 0.01 \n",
      "    Deletion rate                   : 0.61 \n",
      "    Insertion rate                  : 1.53 \n",
      "\n",
      "  Class-wise average metrics (macro-average)\n",
      "  ======================================\n",
      "  F-measure\n",
      "    F-measure (F1)                  : 26.37 %\n",
      "    Precision                       : 20.36 %\n",
      "    Recall                          : 40.59 %\n",
      "  Error rate\n",
      "    Error rate (ER)                 : 2.47 \n",
      "    Deletion rate                   : 0.59 \n",
      "    Insertion rate                  : 1.87 \n",
      "  \n",
      "\n",
      "  Class-wise metrics\n",
      "  ======================================\n",
      "    Event label  | Nref    Nsys  | F        Pre      Rec    | ER       Del      Ins    |\n",
      "    ------------ | -----   ----- | ------   ------   ------ | ------   ------   ------ |\n",
      "    Alarm_bell.. | 306     393   | 41.5%    36.9%    47.4%  | 1.34     0.53     0.81   |\n",
      "    Blender      | 56      110   | 45.8%    34.5%    67.9%  | 1.61     0.32     1.29   |\n",
      "    Cat          | 243     287   | 29.1%    26.8%    31.7%  | 1.55     0.68     0.86   |\n",
      "    Dishes       | 370     1010  | 18.0%    12.3%    33.5%  | 3.06     0.66     2.39   |\n",
      "    Dog          | 450     735   | 21.8%    17.6%    28.7%  | 2.06     0.71     1.35   |\n",
      "    Electric_s.. | 37      127   | 19.5%    12.6%    43.2%  | 3.57     0.57     3.00   |\n",
      "    Frying       | 67      245   | 16.7%    10.6%    38.8%  | 3.88     0.61     3.27   |\n",
      "    Running_wa.. | 154     431   | 15.0%    10.2%    28.6%  | 3.23     0.71     2.51   |\n",
      "    Speech       | 1401    2577  | 29.3%    22.6%    41.5%  | 2.01     0.58     1.42   |\n",
      "    Vacuum_cle.. | 56      128   | 27.2%    19.5%    44.6%  | 2.39     0.55     1.84   |\n",
      "\n",
      "\n"
     ]
    }
   ],
   "source": [
    "# EVAL\n",
    "segments = encoder.encode(\n",
    "    eval_strong_prediction,\n",
    "    method=\"global_median_threshold\",\n",
    "    independent = True\n",
    ")\n",
    "to_evaluate = encoder.parse(segments, eval_filenames)\n",
    "evaluator = eb_evaluator(eval_strong_y_true, to_evaluate)\n",
    "print(evaluator)"
   ]
  },
  {
   "cell_type": "markdown",
   "metadata": {},
   "source": [
    "# Parametric\n",
    "\n",
    "**baseline**\n",
    "\n",
    "|         .          |  test |  .   |  eval |  .   |\n",
    "|--------------------| ----- |------| ----- |------|\n",
    "|         .          |   f1  |  er  |   f1  |  er  |\n",
    "| absolute threshold | 25,00 | 1,15 | 22,80 | 1,25 |\n",
    "| hysteresis         | 25,05 | 1,15 | 22,59 | 1,25 |\n",
    "| derivative         | 24.27 | 1.20 | 21.04 | 1.20 |\n",
    "\n",
    "**mil**\n",
    "\n",
    "|         .          |  test |  .   |  eval |  .   |\n",
    "|--------------------| ----- |------| ----- |------|\n",
    "|         .          |   f1  |  er  |   f1  |  er  |\n",
    "| absolute threshold | 25,00 | 1,15 | 22,80 | 1,25 |\n",
    "| hysteresis         | 32,08 | 1,17 | 24,16 | 1,36 |\n",
    "| derivative         |       |      |       |      |"
   ]
  },
  {
   "cell_type": "code",
   "execution_count": 56,
   "metadata": {
    "ExecuteTime": {
     "end_time": "2019-03-29T13:15:24.015147Z",
     "start_time": "2019-03-29T13:15:23.982940Z"
    }
   },
   "outputs": [],
   "source": [
    "class_list = ['Alarm_bell_ringing', 'Speech', 'Dog', 'Cat', 'Vacuum_cleaner', 'Dishes', 'Frying', 'Electric_shaver_toothbrush', 'Blender', 'Running_water']\n",
    "\n",
    "# Create the encoder that will be used\n",
    "encoder = Encoder(\n",
    "    classes=class_list,\n",
    "    temporal_precision = 200,  # ms\n",
    "    clip_length = 10,          # s\n",
    "    minimal_segment_step = 200 # ms\n",
    ")"
   ]
  },
  {
   "cell_type": "markdown",
   "metadata": {},
   "source": [
    "## Absolute Threshold"
   ]
  },
  {
   "cell_type": "code",
   "execution_count": 197,
   "metadata": {
    "ExecuteTime": {
     "end_time": "2019-03-31T19:47:59.095909Z",
     "start_time": "2019-03-31T19:47:45.899002Z"
    },
    "scrolled": true
   },
   "outputs": [
    {
     "data": {
      "application/vnd.jupyter.widget-view+json": {
       "model_id": "3564f41bd0284b20a3ab9d90c9b85a1f",
       "version_major": 2,
       "version_minor": 0
      },
      "text/plain": [
       "HBox(children=(IntProgress(value=0, max=27), HTML(value='')))"
      ]
     },
     "metadata": {},
     "output_type": "display_data"
    },
    {
     "name": "stdout",
     "output_type": "stream",
     "text": [
      "CPU times: user 412 ms, sys: 1.2 s, total: 1.61 s\n",
      "Wall time: 13.1 s\n"
     ]
    }
   ],
   "source": [
    "# Create the optimizer\n",
    "optimizer = DichotomicOptimizer(\n",
    "    {\n",
    "        \"threshold\": (0.001, 0.09),\n",
    "        \"smooth\": \"smoothMovingAvg\",\n",
    "        \"window_len\": (17, 25)\n",
    "    },\n",
    "    \n",
    "    encoder = encoder,\n",
    "    step = 12,\n",
    "    nb_recurse = 5,\n",
    "    nb_process = 20\n",
    ")\n",
    "\n",
    "# Perform the optimization ON TEST\n",
    "class_list = ['Alarm_bell_ringing', 'Speech', 'Dog', 'Cat', 'Vacuum_cleaner', 'Dishes', 'Frying', 'Electric_shaver_toothbrush', 'Blender', 'Running_water']\n",
    "\n",
    "# Create the encoder that will be used\n",
    "encoder = Encoder(\n",
    "    classes=class_list,\n",
    "    temporal_precision = 200,  # ms\n",
    "    clip_length = 10,          # s\n",
    "    minimal_segment_step = 200 # ms\n",
    ")\n",
    "\n",
    "%time optimizer.fit(test_strong_y_true, test_strong_prediction, test_filenames, verbose=2)"
   ]
  },
  {
   "cell_type": "code",
   "execution_count": 198,
   "metadata": {
    "ExecuteTime": {
     "end_time": "2019-03-31T19:48:07.731338Z",
     "start_time": "2019-03-31T19:48:07.685448Z"
    }
   },
   "outputs": [
    {
     "data": {
      "text/plain": [
       "({'threshold': 0.1, 'smooth': 'smoothMovingAvg', 'window_len': 21},\n",
       " 0.20717951377260765)"
      ]
     },
     "execution_count": 198,
     "metadata": {},
     "output_type": "execute_result"
    }
   ],
   "source": [
    "parameters, score = optimizer.best\n",
    "parameters, score"
   ]
  },
  {
   "cell_type": "code",
   "execution_count": 199,
   "metadata": {
    "ExecuteTime": {
     "end_time": "2019-03-31T19:48:21.580998Z",
     "start_time": "2019-03-31T19:48:16.552612Z"
    },
    "scrolled": true
   },
   "outputs": [
    {
     "name": "stdout",
     "output_type": "stream",
     "text": [
      "Event based metrics (onset-offset)\n",
      "========================================\n",
      "  Evaluated length                  : 2616.88 sec\n",
      "  Evaluated files                   : 288 \n",
      "  Evaluate onset                    : True \n",
      "  Evaluate offset                   : True \n",
      "  T collar                          : 200.00 ms\n",
      "  Offset (length)                   : 20.00 %\n",
      "\n",
      "  Overall metrics (micro-average)\n",
      "  ======================================\n",
      "  F-measure\n",
      "    F-measure (F1)                  : 10.71 %\n",
      "    Precision                       : 16.44 %\n",
      "    Recall                          : 7.95 %\n",
      "  Error rate\n",
      "    Error rate (ER)                 : 1.31 \n",
      "    Substitution rate               : 0.01 \n",
      "    Deletion rate                   : 0.91 \n",
      "    Insertion rate                  : 0.39 \n",
      "\n",
      "  Class-wise average metrics (macro-average)\n",
      "  ======================================\n",
      "  F-measure\n",
      "    F-measure (F1)                  : 20.72 %\n",
      "    Precision                       : 21.80 %\n",
      "    Recall                          : 20.31 %\n",
      "  Error rate\n",
      "    Error rate (ER)                 : 1.24 \n",
      "    Deletion rate                   : 0.80 \n",
      "    Insertion rate                  : 0.45 \n",
      "  \n",
      "\n",
      "  Class-wise metrics\n",
      "  ======================================\n",
      "    Event label  | Nref    Nsys  | F        Pre      Rec    | ER       Del      Ins    |\n",
      "    ------------ | -----   ----- | ------   ------   ------ | ------   ------   ------ |\n",
      "    Alarm_bell.. | 112     49    | 2.5%     4.1%     1.8%   | 1.40     0.98     0.42   |\n",
      "    Blender      | 40      31    | 25.4%    29.0%    22.5%  | 1.33     0.78     0.55   |\n",
      "    Cat          | 82      35    | 3.4%     5.7%     2.4%   | 1.38     0.98     0.40   |\n",
      "    Dishes       | 122     34    | 0.0%     0.0%     0.0%   | 1.28     1.00     0.28   |\n",
      "    Dog          | 126     29    | 2.6%     6.9%     1.6%   | 1.20     0.98     0.21   |\n",
      "    Electric_s.. | 28      26    | 40.7%    42.3%    39.3%  | 1.14     0.61     0.54   |\n",
      "    Frying       | 24      26    | 60.0%    57.7%    62.5%  | 0.83     0.38     0.46   |\n",
      "    Running_wa.. | 76      70    | 12.3%    12.9%    11.8%  | 1.68     0.88     0.80   |\n",
      "    Speech       | 260     101   | 0.0%     0.0%     0.0%   | 1.39     1.00     0.39   |\n",
      "    Vacuum_cle.. | 36      37    | 60.3%    59.5%    61.1%  | 0.81     0.39     0.42   |\n",
      "\n",
      "\n"
     ]
    }
   ],
   "source": [
    "# check test\n",
    "segments = encoder.encode(\n",
    "    test_strong_prediction,\n",
    "    method=\"threshold\",\n",
    "    **parameters\n",
    ")\n",
    "to_evaluate = encoder.parse(segments, test_filenames)\n",
    "evaluator = eb_evaluator(test_strong_y_true, to_evaluate)\n",
    "print(evaluator)"
   ]
  },
  {
   "cell_type": "code",
   "execution_count": 200,
   "metadata": {
    "ExecuteTime": {
     "end_time": "2019-03-31T19:48:22.076735Z",
     "start_time": "2019-03-31T19:48:21.583407Z"
    },
    "scrolled": true
   },
   "outputs": [
    {
     "name": "stdout",
     "output_type": "stream",
     "text": [
      "26 0.20717951377260765\n"
     ]
    },
    {
     "data": {
      "image/png": "[encoded data removed]",
      "text/plain": [
       "<Figure size 1440x360 with 2 Axes>"
      ]
     },
     "metadata": {},
     "output_type": "display_data"
    }
   ],
   "source": [
    "f1 = monitor_one(optimizer.results, \"f_measure\")\n",
    "\n",
    "tested = list(optimizer.history.keys())\n",
    "tested = [t[0] for t in tested]\n",
    "\n",
    "best_combination = display_history(f1, tested, bins=10)"
   ]
  },
  {
   "cell_type": "code",
   "execution_count": 204,
   "metadata": {
    "ExecuteTime": {
     "end_time": "2019-03-31T19:50:28.775781Z",
     "start_time": "2019-03-31T19:50:15.167491Z"
    },
    "scrolled": true
   },
   "outputs": [
    {
     "name": "stdout",
     "output_type": "stream",
     "text": [
      "Event based metrics (onset-offset)\n",
      "========================================\n",
      "  Evaluated length                  : 7543.56 sec\n",
      "  Evaluated files                   : 880 \n",
      "  Evaluate onset                    : True \n",
      "  Evaluate offset                   : True \n",
      "  T collar                          : 200.00 ms\n",
      "  Offset (length)                   : 20.00 %\n",
      "\n",
      "  Overall metrics (micro-average)\n",
      "  ======================================\n",
      "  F-measure\n",
      "    F-measure (F1)                  : 5.16 %\n",
      "    Precision                       : 7.79 %\n",
      "    Recall                          : 3.85 %\n",
      "  Error rate\n",
      "    Error rate (ER)                 : 1.40 \n",
      "    Substitution rate               : 0.01 \n",
      "    Deletion rate                   : 0.95 \n",
      "    Insertion rate                  : 0.44 \n",
      "\n",
      "  Class-wise average metrics (macro-average)\n",
      "  ======================================\n",
      "  F-measure\n",
      "    F-measure (F1)                  : 13.22 %\n",
      "    Precision                       : 13.24 %\n",
      "    Recall                          : 14.37 %\n",
      "  Error rate\n",
      "    Error rate (ER)                 : 1.58 \n",
      "    Deletion rate                   : 0.86 \n",
      "    Insertion rate                  : 0.73 \n",
      "  \n",
      "\n",
      "  Class-wise metrics\n",
      "  ======================================\n",
      "    Event label  | Nref    Nsys  | F        Pre      Rec    | ER       Del      Ins    |\n",
      "    ------------ | -----   ----- | ------   ------   ------ | ------   ------   ------ |\n",
      "    Alarm_bell.. | 306     141   | 6.7%     10.6%    4.9%   | 1.36     0.95     0.41   |\n",
      "    Blender      | 56      94    | 1.3%     1.1%     1.8%   | 2.64     0.98     1.66   |\n",
      "    Cat          | 243     107   | 2.3%     3.7%     1.6%   | 1.41     0.98     0.42   |\n",
      "    Dishes       | 370     153   | 1.9%     3.3%     1.4%   | 1.39     0.99     0.40   |\n",
      "    Dog          | 450     147   | 4.7%     9.5%     3.1%   | 1.26     0.97     0.30   |\n",
      "    Electric_s.. | 37      45    | 36.6%    33.3%    40.5%  | 1.41     0.59     0.81   |\n",
      "    Frying       | 67      78    | 41.4%    38.5%    44.8%  | 1.27     0.55     0.72   |\n",
      "    Running_wa.. | 154     150   | 9.9%     10.0%    9.7%   | 1.78     0.90     0.88   |\n",
      "    Speech       | 1401    548   | 0.2%     0.4%     0.1%   | 1.39     1.00     0.39   |\n",
      "    Vacuum_cle.. | 56      91    | 27.2%    22.0%    35.7%  | 1.91     0.64     1.27   |\n",
      "\n",
      "\n"
     ]
    }
   ],
   "source": [
    "# Apply to eval\n",
    "segments = encoder.encode(\n",
    "    eval_strong_prediction,\n",
    "    method=\"threshold\",\n",
    "    **parameters\n",
    ")\n",
    "to_evaluate = encoder.parse(segments, eval_filenames)\n",
    "evaluator = eb_evaluator(eval_strong_y_true, to_evaluate)\n",
    "print(evaluator)"
   ]
  },
  {
   "cell_type": "markdown",
   "metadata": {},
   "source": [
    "## Hysteresis"
   ]
  },
  {
   "cell_type": "code",
   "execution_count": 68,
   "metadata": {
    "ExecuteTime": {
     "end_time": "2019-03-29T14:08:47.956585Z",
     "start_time": "2019-03-29T13:26:01.901400Z"
    },
    "scrolled": true
   },
   "outputs": [
    {
     "data": {
      "application/vnd.jupyter.widget-view+json": {
       "model_id": "4a8d2b804838426eb541eb20eac2c7bf",
       "version_major": 2,
       "version_minor": 0
      },
      "text/plain": [
       "HBox(children=(IntProgress(value=0, max=8640), HTML(value='')))"
      ]
     },
     "metadata": {},
     "output_type": "display_data"
    }
   ],
   "source": [
    "# Create the optimizer\n",
    "optimizer = DichotomicOptimizer(\n",
    "    {\n",
    "        \"low\": (0.001, 0.09),\n",
    "        \"high\": (0.001, 0.09),\n",
    "        \"smooth\": \"smoothMovingAvg\",\n",
    "        \"window_len\": (5, 23)\n",
    "    },\n",
    "    \n",
    "    encoder = encoder,\n",
    "    step = 12,\n",
    "    nb_recurse = 5,\n",
    "    nb_process = 20\n",
    ")\n",
    "\n",
    "# Perform the optimization ON TEST\n",
    "optimizer.fit(\n",
    "    y_true=test_strong_y_true,\n",
    "    y_pred=test_strong_prediction,\n",
    "    filenames=test_filenames,\n",
    "    method=\"hysteresis\",\n",
    "    verbose=2\n",
    ")"
   ]
  },
  {
   "cell_type": "code",
   "execution_count": 69,
   "metadata": {
    "ExecuteTime": {
     "end_time": "2019-03-29T14:08:48.008306Z",
     "start_time": "2019-03-29T14:08:47.961229Z"
    },
    "scrolled": true
   },
   "outputs": [
    {
     "data": {
      "text/plain": [
       "({'low': 0.00909090909090909,\n",
       "  'high': 0.017181818181818184,\n",
       "  'smooth': 'smoothMovingAvg',\n",
       "  'window_len': 18.731103811836004},\n",
       " 0.4199341449295635)"
      ]
     },
     "execution_count": 69,
     "metadata": {},
     "output_type": "execute_result"
    }
   ],
   "source": [
    "parameters, score = optimizer.best\n",
    "parameters, score"
   ]
  },
  {
   "cell_type": "code",
   "execution_count": 70,
   "metadata": {
    "ExecuteTime": {
     "end_time": "2019-03-29T14:08:51.723097Z",
     "start_time": "2019-03-29T14:08:48.010703Z"
    }
   },
   "outputs": [
    {
     "name": "stdout",
     "output_type": "stream",
     "text": [
      "Event based metrics (onset-offset)\n",
      "========================================\n",
      "  Evaluated length                  : 2616.88 sec\n",
      "  Evaluated files                   : 288 \n",
      "  Evaluate onset                    : True \n",
      "  Evaluate offset                   : True \n",
      "  T collar                          : 200.00 ms\n",
      "  Offset (length)                   : 20.00 %\n",
      "\n",
      "  Overall metrics (micro-average)\n",
      "  ======================================\n",
      "  F-measure\n",
      "    F-measure (F1)                  : 37.81 %\n",
      "    Precision                       : 41.59 %\n",
      "    Recall                          : 34.66 %\n",
      "  Error rate\n",
      "    Error rate (ER)                 : 1.13 \n",
      "    Substitution rate               : 0.01 \n",
      "    Deletion rate                   : 0.65 \n",
      "    Insertion rate                  : 0.48 \n",
      "\n",
      "  Class-wise average metrics (macro-average)\n",
      "  ======================================\n",
      "  F-measure\n",
      "    F-measure (F1)                  : 41.99 %\n",
      "    Precision                       : 44.65 %\n",
      "    Recall                          : 40.88 %\n",
      "  Error rate\n",
      "    Error rate (ER)                 : 1.10 \n",
      "    Deletion rate                   : 0.59 \n",
      "    Insertion rate                  : 0.51 \n",
      "  \n",
      "\n",
      "  Class-wise metrics\n",
      "  ======================================\n",
      "    Event label  | Nref    Nsys  | F        Pre      Rec    | ER       Del      Ins    |\n",
      "    ------------ | -----   ----- | ------   ------   ------ | ------   ------   ------ |\n",
      "    Alarm_bell.. | 112     74    | 40.9%    51.4%    33.9%  | 0.98     0.66     0.32   |\n",
      "    Blender      | 40      41    | 59.3%    58.5%    60.0%  | 0.82     0.40     0.42   |\n",
      "    Cat          | 82      62    | 52.8%    61.3%    46.3%  | 0.83     0.54     0.29   |\n",
      "    Dishes       | 122     74    | 30.6%    40.5%    24.6%  | 1.11     0.75     0.36   |\n",
      "    Dog          | 126     88    | 33.6%    40.9%    28.6%  | 1.13     0.71     0.41   |\n",
      "    Electric_s.. | 28      32    | 46.7%    43.8%    50.0%  | 1.14     0.50     0.64   |\n",
      "    Frying       | 24      34    | 48.3%    41.2%    58.3%  | 1.25     0.42     0.83   |\n",
      "    Running_wa.. | 76      65    | 19.9%    21.5%    18.4%  | 1.49     0.82     0.67   |\n",
      "    Speech       | 260     247   | 33.9%    34.8%    33.1%  | 1.29     0.67     0.62   |\n",
      "    Vacuum_cle.. | 36      38    | 54.1%    52.6%    55.6%  | 0.94     0.44     0.50   |\n",
      "\n",
      "\n"
     ]
    }
   ],
   "source": [
    "# detail test score\n",
    "segments = encoder.encode(\n",
    "    test_strong_prediction,\n",
    "    method=\"hysteresis\",\n",
    "    **parameters\n",
    ")\n",
    "to_evaluate = encoder.parse(segments, test_filenames)\n",
    "evaluator = eb_evaluator(test_strong_y_true, to_evaluate)\n",
    "print(evaluator)"
   ]
  },
  {
   "cell_type": "code",
   "execution_count": 71,
   "metadata": {
    "ExecuteTime": {
     "end_time": "2019-03-29T14:08:52.150784Z",
     "start_time": "2019-03-29T14:08:51.725115Z"
    }
   },
   "outputs": [
    {
     "name": "stdout",
     "output_type": "stream",
     "text": [
      "176 0.4199341449295635\n"
     ]
    },
    {
     "data": {
      "image/png": "[encoded data removed]",
      "text/plain": [
       "<Figure size 1440x360 with 2 Axes>"
      ]
     },
     "metadata": {},
     "output_type": "display_data"
    }
   ],
   "source": [
    "f1 = monitor_one(optimizer.results, \"f_measure\")\n",
    "\n",
    "tested = list(optimizer.history.keys())\n",
    "tested = [t[0] for t in tested]\n",
    "\n",
    "best_combination = display_history(f1, tested, bins=10)"
   ]
  },
  {
   "cell_type": "code",
   "execution_count": 72,
   "metadata": {
    "ExecuteTime": {
     "end_time": "2019-03-29T14:09:05.330899Z",
     "start_time": "2019-03-29T14:08:52.152437Z"
    },
    "scrolled": true
   },
   "outputs": [
    {
     "name": "stdout",
     "output_type": "stream",
     "text": [
      "Event based metrics (onset-offset)\n",
      "========================================\n",
      "  Evaluated length                  : 7543.56 sec\n",
      "  Evaluated files                   : 880 \n",
      "  Evaluate onset                    : True \n",
      "  Evaluate offset                   : True \n",
      "  T collar                          : 200.00 ms\n",
      "  Offset (length)                   : 20.00 %\n",
      "\n",
      "  Overall metrics (micro-average)\n",
      "  ======================================\n",
      "  F-measure\n",
      "    F-measure (F1)                  : 33.80 %\n",
      "    Precision                       : 36.35 %\n",
      "    Recall                          : 31.59 %\n",
      "  Error rate\n",
      "    Error rate (ER)                 : 1.23 \n",
      "    Substitution rate               : 0.01 \n",
      "    Deletion rate                   : 0.67 \n",
      "    Insertion rate                  : 0.54 \n",
      "\n",
      "  Class-wise average metrics (macro-average)\n",
      "  ======================================\n",
      "  F-measure\n",
      "    F-measure (F1)                  : 37.34 %\n",
      "    Precision                       : 37.98 %\n",
      "    Recall                          : 38.71 %\n",
      "  Error rate\n",
      "    Error rate (ER)                 : 1.27 \n",
      "    Deletion rate                   : 0.61 \n",
      "    Insertion rate                  : 0.66 \n",
      "  \n",
      "\n",
      "  Class-wise metrics\n",
      "  ======================================\n",
      "    Event label  | Nref    Nsys  | F        Pre      Rec    | ER       Del      Ins    |\n",
      "    ------------ | -----   ----- | ------   ------   ------ | ------   ------   ------ |\n",
      "    Alarm_bell.. | 306     226   | 31.2%    36.7%    27.1%  | 1.20     0.73     0.47   |\n",
      "    Blender      | 56      58    | 61.4%    60.3%    62.5%  | 0.79     0.38     0.41   |\n",
      "    Cat          | 243     175   | 34.4%    41.1%    29.6%  | 1.13     0.70     0.42   |\n",
      "    Dishes       | 370     232   | 32.6%    42.2%    26.5%  | 1.10     0.74     0.36   |\n",
      "    Dog          | 450     304   | 26.0%    32.2%    21.8%  | 1.24     0.78     0.46   |\n",
      "    Electric_s.. | 37      55    | 41.3%    34.5%    51.4%  | 1.46     0.49     0.97   |\n",
      "    Frying       | 67      116   | 39.3%    31.0%    53.7%  | 1.66     0.46     1.19   |\n",
      "    Running_wa.. | 154     193   | 25.4%    22.8%    28.6%  | 1.68     0.71     0.97   |\n",
      "    Speech       | 1401    1301  | 35.4%    36.7%    34.1%  | 1.25     0.66     0.59   |\n",
      "    Vacuum_cle.. | 56      69    | 46.4%    42.0%    51.8%  | 1.20     0.48     0.71   |\n",
      "\n",
      "\n"
     ]
    }
   ],
   "source": [
    "# Apply to eval\n",
    "segments = encoder.encode(\n",
    "    eval_strong_prediction,\n",
    "    method=\"hysteresis\",\n",
    "    **parameters\n",
    ")\n",
    "to_evaluate = encoder.parse(segments, eval_filenames)\n",
    "evaluator = eb_evaluator(eval_strong_y_true, to_evaluate)\n",
    "print(evaluator)"
   ]
  },
  {
   "cell_type": "markdown",
   "metadata": {},
   "source": [
    "## Derivative"
   ]
  },
  {
   "cell_type": "code",
   "execution_count": 175,
   "metadata": {
    "ExecuteTime": {
     "end_time": "2019-03-31T14:22:32.283380Z",
     "start_time": "2019-03-31T14:04:21.021763Z"
    },
    "scrolled": true
   },
   "outputs": [
    {
     "data": {
      "application/vnd.jupyter.widget-view+json": {
       "model_id": "bc305fec9cfd4ba39e558b1732e5450d",
       "version_major": 2,
       "version_minor": 0
      },
      "text/plain": [
       "HBox(children=(IntProgress(value=0, max=2500), HTML(value='')))"
      ]
     },
     "metadata": {},
     "output_type": "display_data"
    }
   ],
   "source": [
    "# Create the optimizer\n",
    "\n",
    "optimizer = DichotomicOptimizer(\n",
    "    {\n",
    "        \"rising\" : (0.01, 0.9),\n",
    "        \"decreasing\": (-0.01, -0.9),\n",
    "        \"high\": (0.001, 0.09),\n",
    "        \"smooth\": \"smoothMovingAvg\",\n",
    "        \"window_len\": [19, 21],\n",
    "        \"window_size\": [21, 23]\n",
    "    },\n",
    "    \n",
    "    encoder = encoder,\n",
    "    step = 5,\n",
    "    nb_recurse = 5,\n",
    "    nb_process = 20\n",
    ")\n",
    "\n",
    "# Perform the optimization ON TEST\n",
    "optimizer.fit(\n",
    "    y_true=test_strong_y_true,\n",
    "    y_pred=test_strong_prediction,\n",
    "    filenames=test_filenames,\n",
    "    method=\"hysteresis\",\n",
    "    verbose=2\n",
    ")"
   ]
  },
  {
   "cell_type": "code",
   "execution_count": 186,
   "metadata": {
    "ExecuteTime": {
     "end_time": "2019-03-31T19:42:29.218131Z",
     "start_time": "2019-03-31T19:42:28.957300Z"
    },
    "scrolled": true
   },
   "outputs": [
    {
     "data": {
      "text/plain": [
       "({'rising': 0.99,\n",
       "  'decreasing': -0.99,\n",
       "  'high': 0.02325,\n",
       "  'smooth': 'smoothMovingAvg',\n",
       "  'window_len': 16.0,\n",
       "  'window_size': 19.09375},\n",
       " 0.30385517163016507)"
      ]
     },
     "execution_count": 186,
     "metadata": {},
     "output_type": "execute_result"
    }
   ],
   "source": [
    "parameters, score = optimizer.best\n",
    "parameters, score"
   ]
  },
  {
   "cell_type": "code",
   "execution_count": 187,
   "metadata": {
    "ExecuteTime": {
     "end_time": "2019-03-31T19:42:38.572689Z",
     "start_time": "2019-03-31T19:42:32.358592Z"
    }
   },
   "outputs": [
    {
     "name": "stdout",
     "output_type": "stream",
     "text": [
      "Event based metrics (onset-offset)\n",
      "========================================\n",
      "  Evaluated length                  : 2616.88 sec\n",
      "  Evaluated files                   : 288 \n",
      "  Evaluate onset                    : True \n",
      "  Evaluate offset                   : True \n",
      "  T collar                          : 200.00 ms\n",
      "  Offset (length)                   : 20.00 %\n",
      "\n",
      "  Overall metrics (micro-average)\n",
      "  ======================================\n",
      "  F-measure\n",
      "    F-measure (F1)                  : 32.83 %\n",
      "    Precision                       : 31.27 %\n",
      "    Recall                          : 34.55 %\n",
      "  Error rate\n",
      "    Error rate (ER)                 : 1.41 \n",
      "    Substitution rate               : 0.01 \n",
      "    Deletion rate                   : 0.65 \n",
      "    Insertion rate                  : 0.75 \n",
      "\n",
      "  Class-wise average metrics (macro-average)\n",
      "  ======================================\n",
      "  F-measure\n",
      "    F-measure (F1)                  : 30.39 %\n",
      "    Precision                       : 30.20 %\n",
      "    Recall                          : 33.89 %\n",
      "  Error rate\n",
      "    Error rate (ER)                 : 1.76 \n",
      "    Deletion rate                   : 0.66 \n",
      "    Insertion rate                  : 1.10 \n",
      "  \n",
      "\n",
      "  Class-wise metrics\n",
      "  ======================================\n",
      "    Event label  | Nref    Nsys  | F        Pre      Rec    | ER       Del      Ins    |\n",
      "    ------------ | -----   ----- | ------   ------   ------ | ------   ------   ------ |\n",
      "    Alarm_bell.. | 112     84    | 41.8%    48.8%    36.6%  | 1.02     0.63     0.38   |\n",
      "    Blender      | 40      63    | 29.1%    23.8%    37.5%  | 1.82     0.62     1.20   |\n",
      "    Cat          | 82      67    | 57.7%    64.2%    52.4%  | 0.77     0.48     0.29   |\n",
      "    Dishes       | 122     76    | 25.3%    32.9%    20.5%  | 1.21     0.80     0.42   |\n",
      "    Dog          | 126     107   | 35.2%    38.3%    32.5%  | 1.20     0.67     0.52   |\n",
      "    Electric_s.. | 28      80    | 11.1%    7.5%     21.4%  | 3.43     0.79     2.64   |\n",
      "    Frying       | 24      61    | 23.5%    16.4%    41.7%  | 2.71     0.58     2.12   |\n",
      "    Running_wa.. | 76      98    | 20.7%    18.4%    23.7%  | 1.82     0.76     1.05   |\n",
      "    Speech       | 260     295   | 36.8%    34.6%    39.2%  | 1.35     0.61     0.74   |\n",
      "    Vacuum_cle.. | 36      70    | 22.6%    17.1%    33.3%  | 2.28     0.67     1.61   |\n",
      "\n",
      "\n"
     ]
    }
   ],
   "source": [
    "# detail test score\n",
    "segments = encoder.encode(\n",
    "    test_strong_prediction,\n",
    "    method=\"hysteresis\",\n",
    "    **parameters\n",
    ")\n",
    "to_evaluate = encoder.parse(segments, test_filenames)\n",
    "evaluator = eb_evaluator(test_strong_y_true, to_evaluate)\n",
    "print(evaluator)"
   ]
  },
  {
   "cell_type": "code",
   "execution_count": 188,
   "metadata": {
    "ExecuteTime": {
     "end_time": "2019-03-31T19:42:39.106947Z",
     "start_time": "2019-03-31T19:42:38.575658Z"
    }
   },
   "outputs": [
    {
     "name": "stdout",
     "output_type": "stream",
     "text": [
      "3000 0.30385517163016507\n"
     ]
    },
    {
     "data": {
      "image/png": "[encoded data removed]",
      "text/plain": [
       "<Figure size 1440x360 with 2 Axes>"
      ]
     },
     "metadata": {},
     "output_type": "display_data"
    }
   ],
   "source": [
    "f1 = monitor_one(optimizer.results, \"f_measure\")\n",
    "\n",
    "tested = list(optimizer.history.keys())\n",
    "tested = [t[0] for t in tested]\n",
    "\n",
    "best_combination = display_history(f1, tested, bins=10)"
   ]
  },
  {
   "cell_type": "code",
   "execution_count": 189,
   "metadata": {
    "ExecuteTime": {
     "end_time": "2019-03-31T19:42:58.449848Z",
     "start_time": "2019-03-31T19:42:39.110734Z"
    },
    "scrolled": false
   },
   "outputs": [
    {
     "name": "stdout",
     "output_type": "stream",
     "text": [
      "Event based metrics (onset-offset)\n",
      "========================================\n",
      "  Evaluated length                  : 7543.56 sec\n",
      "  Evaluated files                   : 880 \n",
      "  Evaluate onset                    : True \n",
      "  Evaluate offset                   : True \n",
      "  T collar                          : 200.00 ms\n",
      "  Offset (length)                   : 20.00 %\n",
      "\n",
      "  Overall metrics (micro-average)\n",
      "  ======================================\n",
      "  F-measure\n",
      "    F-measure (F1)                  : 32.92 %\n",
      "    Precision                       : 30.94 %\n",
      "    Recall                          : 35.16 %\n",
      "  Error rate\n",
      "    Error rate (ER)                 : 1.43 \n",
      "    Substitution rate               : 0.01 \n",
      "    Deletion rate                   : 0.64 \n",
      "    Insertion rate                  : 0.78 \n",
      "\n",
      "  Class-wise average metrics (macro-average)\n",
      "  ======================================\n",
      "  F-measure\n",
      "    F-measure (F1)                  : 26.73 %\n",
      "    Precision                       : 26.39 %\n",
      "    Recall                          : 30.58 %\n",
      "  Error rate\n",
      "    Error rate (ER)                 : 2.02 \n",
      "    Deletion rate                   : 0.69 \n",
      "    Insertion rate                  : 1.33 \n",
      "  \n",
      "\n",
      "  Class-wise metrics\n",
      "  ======================================\n",
      "    Event label  | Nref    Nsys  | F        Pre      Rec    | ER       Del      Ins    |\n",
      "    ------------ | -----   ----- | ------   ------   ------ | ------   ------   ------ |\n",
      "    Alarm_bell.. | 306     283   | 37.0%    38.5%    35.6%  | 1.21     0.64     0.57   |\n",
      "    Blender      | 56      72    | 40.6%    36.1%    46.4%  | 1.36     0.54     0.82   |\n",
      "    Cat          | 243     181   | 35.4%    41.4%    30.9%  | 1.13     0.69     0.44   |\n",
      "    Dishes       | 370     217   | 29.6%    40.1%    23.5%  | 1.12     0.76     0.35   |\n",
      "    Dog          | 450     344   | 23.9%    27.6%    21.1%  | 1.34     0.79     0.55   |\n",
      "    Electric_s.. | 37      132   | 7.1%     4.5%     16.2%  | 4.24     0.84     3.41   |\n",
      "    Frying       | 67      218   | 11.9%    7.8%     25.4%  | 3.75     0.75     3.00   |\n",
      "    Running_wa.. | 154     317   | 22.1%    16.4%    33.8%  | 2.38     0.66     1.72   |\n",
      "    Speech       | 1401    1696  | 40.1%    36.6%    44.3%  | 1.32     0.56     0.77   |\n",
      "    Vacuum_cle.. | 56      108   | 19.5%    14.8%    28.6%  | 2.36     0.71     1.64   |\n",
      "\n",
      "\n"
     ]
    }
   ],
   "source": [
    "# Apply to eval\n",
    "segments = encoder.encode(\n",
    "    eval_strong_prediction,\n",
    "    method=\"hysteresis\",\n",
    "    **parameters\n",
    ")\n",
    "to_evaluate = encoder.parse(segments, eval_filenames)\n",
    "evaluator = eb_evaluator(eval_strong_y_true, to_evaluate)\n",
    "print(evaluator)"
   ]
  }
 ],
 "metadata": {
  "kernelspec": {
   "display_name": "Python 3",
   "language": "python",
   "name": "python3"
  },
  "language_info": {
   "codemirror_mode": {
    "name": "ipython",
    "version": 3
   },
   "file_extension": ".py",
   "mimetype": "text/x-python",
   "name": "python",
   "nbconvert_exporter": "python",
   "pygments_lexer": "ipython3",
   "version": "3.6.8"
  },
  "toc": {
   "base_numbering": 1,
   "nav_menu": {},
   "number_sections": true,
   "sideBar": true,
   "skip_h1_title": false,
   "title_cell": "Table of Contents",
   "title_sidebar": "Contents",
   "toc_cell": true,
   "toc_position": {
    "height": "calc(100% - 180px)",
    "left": "10px",
    "top": "150px",
    "width": "190.341px"
   },
   "toc_section_display": true,
   "toc_window_display": true
  }
 },
 "nbformat": 4,
 "nbformat_minor": 1
}
