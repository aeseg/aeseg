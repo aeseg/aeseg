{
 "cells": [
  {
   "cell_type": "markdown",
   "metadata": {
    "toc": true
   },
   "source": [
    "<h1>Table of Contents<span class=\"tocSkip\"></span></h1>\n",
    "<div class=\"toc\"><ul class=\"toc-item\"><li><span><a href=\"#Import\" data-toc-modified-id=\"Import-1\"><span class=\"toc-item-num\">1&nbsp;&nbsp;</span>Import</a></span></li><li><span><a href=\"#To-load-the-data\" data-toc-modified-id=\"To-load-the-data-2\"><span class=\"toc-item-num\">2&nbsp;&nbsp;</span>To load the data</a></span></li><li><span><a href=\"#Load-the-strong-annotation-and-the-ground-thruth\" data-toc-modified-id=\"Load-the-strong-annotation-and-the-ground-thruth-3\"><span class=\"toc-item-num\">3&nbsp;&nbsp;</span>Load the strong annotation and the ground thruth</a></span></li><li><span><a href=\"#Optimization\" data-toc-modified-id=\"Optimization-4\"><span class=\"toc-item-num\">4&nbsp;&nbsp;</span>Optimization</a></span><ul class=\"toc-item\"><li><span><a href=\"#Threshold\" data-toc-modified-id=\"Threshold-4.1\"><span class=\"toc-item-num\">4.1&nbsp;&nbsp;</span>Threshold</a></span></li></ul></li></ul></div>"
   ]
  },
  {
   "cell_type": "markdown",
   "metadata": {
    "collapsed": true
   },
   "source": [
    "# Import"
   ]
  },
  {
   "cell_type": "code",
   "execution_count": 20,
   "metadata": {},
   "outputs": [
    {
     "name": "stdout",
     "output_type": "stream",
     "text": [
      "The autoreload extension is already loaded. To reload it, use:\n",
      "  %reload_ext autoreload\n"
     ]
    }
   ],
   "source": [
    "%load_ext autoreload\n",
    "%autoreload 2\n",
    "\n",
    "import numpy as np\n",
    "import time\n",
    "import os\n",
    "import matplotlib.pyplot as plt\n",
    "import dcase_util as dcu\n",
    "from evaluation_measures import event_based_evaluation  # evaluation system from DCASE\n",
    "\n",
    "from Encoder import Encoder\n",
    "\n",
    "import matplotlib.pyplot as plt"
   ]
  },
  {
   "cell_type": "markdown",
   "metadata": {},
   "source": [
    "# To load the data"
   ]
  },
  {
   "cell_type": "code",
   "execution_count": 2,
   "metadata": {},
   "outputs": [],
   "source": [
    "import numpy as np\n",
    "import os\n",
    "\n",
    "class_correspondance = {\"Alarm_bell_ringing\": 0, \"Speech\": 1, \"Dog\": 2, \"Cat\": 3, \"Vacuum_cleaner\": 4,\n",
    "                        \"Dishes\": 5, \"Frying\": 6, \"Electric_shaver_toothbrush\": 7, \"Blender\": 8, \"Running_water\": 9}\n",
    "\n",
    "\n",
    "def load_mil():\n",
    "    strong_prediction = np.load(os.path.join(\"data\", \"mil_strong_prediction.pkl\"))\n",
    "    tmp = dict()\n",
    "\n",
    "    # Fill the missing curve with zero\n",
    "    for filename in strong_prediction:\n",
    "        new_data = np.zeros((431, 10))\n",
    "\n",
    "        for cls in strong_prediction[filename]:\n",
    "            new_data[:, class_correspondance[cls]] = strong_prediction[filename][cls]\n",
    "\n",
    "        tmp[filename] = new_data.copy()\n",
    "\n",
    "    # Create a list of filename in the same order than the dict\n",
    "    filename_list = [\"%s.wav\" % k for k in tmp.keys()]\n",
    "\n",
    "    # Create a list\n",
    "    output_data = np.array(list(tmp.values()))\n",
    "\n",
    "    return output_data, filename_list\n",
    "\n",
    "\n",
    "def load_baseline():\n",
    "    filenames = np.load(os.path.join(\"data\", \"X_test_fn.npy\"))\n",
    "    strong_prediction = np.load(os.path.join(\"data\", \"baseline_strong_prediction.npy\"))\n",
    "\n",
    "    return strong_prediction, filenames\n",
    "\n",
    "\n",
    "def load_ground_truth():\n",
    "    test_unique_names = np.load(os.path.join(\"data\", \"X_test_fn.npy\"))\n",
    "\n",
    "    with open(os.path.join(\"data\", \"test.csv\"), \"r\") as f:\n",
    "        test_metadata = f.read().splitlines()[1:]\n",
    "    test_metadata = np.array([info.split(\"\\t\") for info in test_metadata])\n",
    "    test_medata_filenames = np.unique(test_metadata[:, 0])\n",
    "\n",
    "    y_test = []\n",
    "    for name in test_medata_filenames:\n",
    "        # remove  missing files\n",
    "        if name not in test_unique_names:\n",
    "            continue\n",
    "\n",
    "        # create a tag level prediction (aka weak labels)\n",
    "        output = [0] * 10\n",
    "\n",
    "        for d in test_metadata:\n",
    "            if d[0] == name:\n",
    "                output[class_correspondance[d[-1]]] = 1\n",
    "        y_test.append(output)\n",
    "    y_test = np.array(y_test)\n",
    "\n",
    "    return y_test\n"
   ]
  },
  {
   "cell_type": "markdown",
   "metadata": {},
   "source": [
    "# Load the strong annotation and the ground thruth"
   ]
  },
  {
   "cell_type": "code",
   "execution_count": 3,
   "metadata": {},
   "outputs": [],
   "source": [
    "# strong_annotation, filenames = Loader.load_mil()\n",
    "strong_prediction, filenames = load_baseline()\n",
    "\n",
    "# ground truth\n",
    "with open(os.path.join(\"data\", \"test.csv\"), \"r\") as f:\n",
    "    y_true = f.read().splitlines()[1:]"
   ]
  },
  {
   "cell_type": "code",
   "execution_count": 4,
   "metadata": {},
   "outputs": [
    {
     "data": {
      "text/plain": [
       "list"
      ]
     },
     "execution_count": 4,
     "metadata": {},
     "output_type": "execute_result"
    }
   ],
   "source": [
    "type(y_true)"
   ]
  },
  {
   "cell_type": "markdown",
   "metadata": {},
   "source": [
    "# Optimization"
   ]
  },
  {
   "cell_type": "code",
   "execution_count": 5,
   "metadata": {},
   "outputs": [],
   "source": [
    "from Encoder import Encoder\n",
    "import optimizers.DichotomicOptimizer as Optimizer"
   ]
  },
  {
   "cell_type": "code",
   "execution_count": 6,
   "metadata": {},
   "outputs": [],
   "source": [
    "class_list = ['Alarm_bell_ringing', 'Speech', 'Dog', 'Cat', 'Vacuum_cleaner', 'Dishes', 'Frying', 'Electric_shaver_toothbrush', 'Blender', 'Running_water']\n",
    "\n",
    "# Create the encoder that will be used\n",
    "encoder = Encoder(\n",
    "    classes=class_list,\n",
    "    temporal_precision = 200,  # ms\n",
    "    clip_length = 10,          # s\n",
    "    minimal_segment_step = 200 # ms\n",
    ")"
   ]
  },
  {
   "cell_type": "markdown",
   "metadata": {},
   "source": [
    "## Threshold"
   ]
  },
  {
   "cell_type": "code",
   "execution_count": 47,
   "metadata": {
    "scrolled": false
   },
   "outputs": [
    {
     "data": {
      "application/vnd.jupyter.widget-view+json": {
       "model_id": "f502159316474daf8ccc3c2fa4bca6db",
       "version_major": 2,
       "version_minor": 0
      },
      "text/plain": [
       "HBox(children=(IntProgress(value=0, max=20), HTML(value='')))"
      ]
     },
     "metadata": {},
     "output_type": "display_data"
    },
    {
     "name": "stdout",
     "output_type": "stream",
     "text": [
      "{'threshold': (0.01, 0.030000000000000006)}\n",
      "{'threshold': (0.01, 0.014444444444444446)}\n",
      "CPU times: user 245 ms, sys: 268 ms, total: 513 ms\n",
      "Wall time: 10.4 s\n"
     ]
    }
   ],
   "source": [
    "# Create the optimizer\n",
    "optimizer = Optimizer.ThresholdOptimizer(\n",
    "    {\n",
    "        \"threshold\": (0.01, 0.1)\n",
    "    },\n",
    "    \n",
    "    encoder = encoder,\n",
    "    step = 10,\n",
    "    nb_recurse = 2,\n",
    "    nb_process = 10\n",
    ")\n",
    "\n",
    "# Perform the optimization\n",
    "%time optimizer.fit(y_true, strong_prediction, filenames, verbose=2)"
   ]
  },
  {
   "cell_type": "code",
   "execution_count": 51,
   "metadata": {},
   "outputs": [
    {
     "data": {
      "text/plain": [
       "dict_keys([(0.01,), (0.020000000000000004,), (0.030000000000000006,), (0.04000000000000001,), (0.05000000000000001,), (0.06000000000000001,), (0.07,), (0.08,), (0.09000000000000001,), (0.1,), (0.012222222222222223,), (0.014444444444444446,), (0.01666666666666667,), (0.018888888888888893,), (0.021111111111111115,), (0.023333333333333338,), (0.02555555555555556,), (0.027777777777777783,)])"
      ]
     },
     "execution_count": 51,
     "metadata": {},
     "output_type": "execute_result"
    }
   ],
   "source": [
    "optimizer.results.keys()"
   ]
  },
  {
   "cell_type": "code",
   "execution_count": 86,
   "metadata": {},
   "outputs": [],
   "source": [
    "# monitor one metrics\n",
    "def monitor_one(results, metric):\n",
    "    out = []\n",
    "    \n",
    "    for k in results.keys():\n",
    "        out.append((k, results[k][\"overall\"][\"f_measure\"][metric]))\n",
    "        \n",
    "    out = sorted(out, key=lambda x: x[0])\n",
    "    \n",
    "    return np.array(out)"
   ]
  },
  {
   "cell_type": "code",
   "execution_count": 91,
   "metadata": {},
   "outputs": [
    {
     "data": {
      "image/png": "[encoded data removed]",
      "text/plain": [
       "<Figure size 720x360 with 1 Axes>"
      ]
     },
     "metadata": {
      "needs_background": "light"
     },
     "output_type": "display_data"
    }
   ],
   "source": [
    "f1 = monitor_one(optimizer.results, \"f_measure\")\n",
    "x, y = f1[:, 0], f1[:, 1]\n",
    "\n",
    "max_y = max(y)\n",
    "max_x = x[list(y).index(max_y)]\n",
    "\n",
    "plt.figure(figsize=(10, 5))\n",
    "plt.title(\"f_measure\")\n",
    "plt.plot(y)\n",
    "plt.plot(max_x, max_y, \"ro\")\n",
    "\n",
    "plt.ylabel(\"f1\")\n",
    "plt.xlabel(\"threshold\")\n",
    "plt.xticks(range(len(x)), x, rotation=80)\n",
    "\n",
    "plt.show()"
   ]
  },
  {
   "cell_type": "code",
   "execution_count": 11,
   "metadata": {
    "scrolled": true
   },
   "outputs": [
    {
     "data": {
      "application/vnd.jupyter.widget-view+json": {
       "model_id": "dd90f30da2ba4740974f6ecaa40e31da",
       "version_major": 2,
       "version_minor": 0
      },
      "text/plain": [
       "HBox(children=(IntProgress(value=0, max=288), HTML(value='')))"
      ]
     },
     "metadata": {},
     "output_type": "display_data"
    },
    {
     "name": "stdout",
     "output_type": "stream",
     "text": [
      "{'threshold': (0.1, 0.1), 'smooth': 'smoothMovingAvg', 'window_len': (19.0, 17.727272727272727)}\n",
      "{'threshold': (0.1, 0.1), 'smooth': 'smoothMovingAvg', 'window_len': (19.0, 18.1900826446281)}\n",
      "CPU times: user 1.99 s, sys: 4.18 s, total: 6.17 s\n",
      "Wall time: 2min 20s\n"
     ]
    }
   ],
   "source": [
    "## Threshold smoothing and smoothing window size\n",
    "# Create the optimizer\n",
    "optimizer = Optimizer.ThresholdOptimizer(\n",
    "    {\n",
    "        \"threshold\": (0.1, 0.9),\n",
    "        \"smooth\": \"smoothMovingAvg\",\n",
    "        \"window_len\": (5, 19)\n",
    "    },\n",
    "    \n",
    "    encoder = encoder,\n",
    "    step = 12,\n",
    "    nb_recurse = 2,\n",
    "    nb_process = 20\n",
    ")\n",
    "\n",
    "# Perform the optimization\n",
    "%time optimizer.fit(y_true, strong_prediction, filenames, verbose=2)"
   ]
  },
  {
   "cell_type": "code",
   "execution_count": 13,
   "metadata": {},
   "outputs": [],
   "source": [
    "# get all f1 score\n",
    "f1 = []\n",
    "for key in optimizer.results:\n",
    "    f1.append(optimizer.results[key][\"overall\"][\"f_measure\"][\"f_measure\"])\n"
   ]
  }
 ],
 "metadata": {
  "kernelspec": {
   "display_name": "Python 3",
   "language": "python",
   "name": "python3"
  },
  "language_info": {
   "codemirror_mode": {
    "name": "ipython",
    "version": 3
   },
   "file_extension": ".py",
   "mimetype": "text/x-python",
   "name": "python",
   "nbconvert_exporter": "python",
   "pygments_lexer": "ipython3",
   "version": "3.6.8"
  },
  "toc": {
   "base_numbering": 1,
   "nav_menu": {},
   "number_sections": true,
   "sideBar": true,
   "skip_h1_title": false,
   "title_cell": "Table of Contents",
   "title_sidebar": "Contents",
   "toc_cell": true,
   "toc_position": {
    "height": "calc(100% - 180px)",
    "left": "10px",
    "top": "150px",
    "width": "190.391px"
   },
   "toc_section_display": true,
   "toc_window_display": true
  }
 },
 "nbformat": 4,
 "nbformat_minor": 1
}
